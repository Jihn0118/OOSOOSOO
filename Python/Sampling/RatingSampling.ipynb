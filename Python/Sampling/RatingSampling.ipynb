{
 "cells": [
  {
   "cell_type": "code",
   "execution_count": 12,
   "id": "ab9a118d",
   "metadata": {},
   "outputs": [],
   "source": [
    "import numpy as np\n",
    "import matplotlib.pyplot as plt"
   ]
  },
  {
   "cell_type": "code",
   "execution_count": 34,
   "id": "b59b7c7c",
   "metadata": {},
   "outputs": [],
   "source": [
    "np.random.seed(326)\n",
    "\n",
    "avg = 8.4\n",
    "sigma = 0.5\n",
    "\n",
    "rand_norm = np.random.normal(avg, sigma, size=30907)\n",
    "sample = np.clip(rand_norm, 0, 10)"
   ]
  },
  {
   "cell_type": "code",
   "execution_count": 35,
   "id": "761e9dcb",
   "metadata": {},
   "outputs": [
    {
     "name": "stdout",
     "output_type": "stream",
     "text": [
      "[8.98737249 8.4324653  8.1266657  ... 7.43131954 8.03758162 8.96709975]\n"
     ]
    }
   ],
   "source": [
    "print(sample)"
   ]
  },
  {
   "cell_type": "code",
   "execution_count": 36,
   "id": "48fbabb0",
   "metadata": {},
   "outputs": [
    {
     "data": {
      "text/plain": [
       "(array([8.000e+00, 7.300e+01, 5.670e+02, 2.479e+03, 5.994e+03, 8.880e+03,\n",
       "        7.630e+03, 3.906e+03, 1.134e+03, 2.360e+02]),\n",
       " array([ 6.25375822,  6.62838239,  7.00300657,  7.37763075,  7.75225493,\n",
       "         8.12687911,  8.50150329,  8.87612746,  9.25075164,  9.62537582,\n",
       "        10.        ]),\n",
       " <BarContainer object of 10 artists>)"
      ]
     },
     "execution_count": 36,
     "metadata": {},
     "output_type": "execute_result"
    },
    {
     "data": {
      "image/png": "[encoded data removed]",
      "text/plain": [
       "<Figure size 432x288 with 1 Axes>"
      ]
     },
     "metadata": {
      "needs_background": "light"
     },
     "output_type": "display_data"
    }
   ],
   "source": [
    "plt.hist(sample)"
   ]
  },
  {
   "cell_type": "code",
   "execution_count": null,
   "id": "7c31f301",
   "metadata": {},
   "outputs": [],
   "source": []
  }
 ],
 "metadata": {
  "kernelspec": {
   "display_name": "Python 3",
   "language": "python",
   "name": "python3"
  },
  "language_info": {
   "codemirror_mode": {
    "name": "ipython",
    "version": 3
   },
   "file_extension": ".py",
   "mimetype": "text/x-python",
   "name": "python",
   "nbconvert_exporter": "python",
   "pygments_lexer": "ipython3",
   "version": "3.8.8"
  }
 },
 "nbformat": 4,
 "nbformat_minor": 5
}
