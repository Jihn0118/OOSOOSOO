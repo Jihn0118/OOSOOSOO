{
 "cells": [
  {
   "cell_type": "markdown",
   "metadata": {},
   "source": [
    "### Import"
   ]
  },
  {
   "cell_type": "code",
   "execution_count": null,
   "metadata": {},
   "outputs": [],
   "source": [
    "#conda install -c conda-forge pyspark #conda pyspark 설치\n",
    "#기타 요청되는 패키지 참고 : https://spark.apache.org/docs/latest/api/python/getting_started/install.html"
   ]
  },
  {
   "cell_type": "code",
   "execution_count": 1,
   "metadata": {},
   "outputs": [],
   "source": [
    "import pandas as pd\n",
    "from pyspark.sql.functions import col, explode\n",
    "from pyspark import SparkContext\n",
    "from surprise import Dataset"
   ]
  },
  {
   "cell_type": "markdown",
   "metadata": {},
   "source": [
    "### Init pyspark"
   ]
  },
  {
   "cell_type": "code",
   "execution_count": 2,
   "metadata": {},
   "outputs": [],
   "source": [
    "from pyspark.sql import SparkSession\n",
    "from pyspark.ml.feature import StringIndexer\n",
    "sc = SparkContext\n",
    "# sc.setCheckpointDir('checkpoint') -- Dir 경로 설정\n",
    "spark = SparkSession.builder.appName('Recommendations').getOrCreate()"
   ]
  },
  {
   "cell_type": "markdown",
   "metadata": {},
   "source": [
    "### Load data"
   ]
  },
  {
   "cell_type": "code",
   "execution_count": 3,
   "metadata": {},
   "outputs": [],
   "source": [
    "#https://grouplens.org/datasets/movielens/ 데이터 출처\n",
    "#추후에 우리 데이터에 적용\n",
    "movies = spark.read.csv(\"movies.csv\",header=True)\n",
    "#ratings = Dataset.load_builtin('ml-100k') #surprise 데이터셋\n",
    "ratings = spark.read.csv(\"rating.csv\",header=True)\n",
    "#ratings = spark.read.csv(\"ratings.csv\",header=True) #샘플링 데이터 OOSOO"
   ]
  },
  {
   "cell_type": "code",
   "execution_count": 4,
   "metadata": {},
   "outputs": [
    {
     "data": {
      "text/plain": [
       "pyspark.sql.dataframe.DataFrame"
      ]
     },
     "execution_count": 4,
     "metadata": {},
     "output_type": "execute_result"
    }
   ],
   "source": [
    "type(ratings)"
   ]
  },
  {
   "cell_type": "code",
   "execution_count": 5,
   "metadata": {},
   "outputs": [],
   "source": [
    "#surprise 데이터셋 변환\n",
    "#pd_data = pd.DataFrame(ratings.__dict__['raw_ratings'], columns=['user_id','movie_id','rating','timestamp'])\n",
    "#pd_data.rename(columns = {'user_id':'userId', 'movie_id':'movieId'}, inplace = True)\n",
    "#pd_data\n",
    "\n",
    "#ratings = spark.createDataFrame(pd_data)\n"
   ]
  },
  {
   "cell_type": "code",
   "execution_count": 6,
   "metadata": {},
   "outputs": [
    {
     "name": "stdout",
     "output_type": "stream",
     "text": [
      "+-------+----------+------------------+\n",
      "|user_id|content_id|            rating|\n",
      "+-------+----------+------------------+\n",
      "|      0|  m_286217|  8.35652661686786|\n",
      "|      0|  m_398181| 6.065895390403058|\n",
      "|      0|    m_1372| 7.785727443497953|\n",
      "|      0|  m_127585| 7.603591877875605|\n",
      "|      0|  m_363676| 6.663915179160493|\n",
      "|      0|     m_640| 7.554297212111876|\n",
      "|      0|  m_374720| 7.291435186859245|\n",
      "|      0|   m_16869| 8.561720428183207|\n",
      "|      0|   m_24428|  6.46182288139771|\n",
      "|      0|  m_284054| 6.714157000059457|\n",
      "|      0|   t_79242| 7.783442736814031|\n",
      "|      0|   t_75006| 8.982251404112121|\n",
      "|      0|     m_707|  5.48429382439606|\n",
      "|      0|  m_293863|7.5892713766171855|\n",
      "|      0|    m_1927| 5.603114486722044|\n",
      "|      0|  m_259693| 6.644639058769108|\n",
      "|      0|     m_451| 8.072781617158265|\n",
      "|      0|  m_376570| 6.948982726753748|\n",
      "|      0|   m_13939| 7.224361006669324|\n",
      "|      0|  m_353486| 6.035672200020115|\n",
      "+-------+----------+------------------+\n",
      "only showing top 20 rows\n",
      "\n"
     ]
    }
   ],
   "source": [
    "ratings=ratings.drop(ratings[0])\n",
    "ratings.show()"
   ]
  },
  {
   "cell_type": "code",
   "execution_count": 7,
   "metadata": {},
   "outputs": [],
   "source": [
    "ratings = ratings.select(\n",
    "    col('user_id').alias('userId'), \n",
    "    col('content_id').alias('movieId'),\n",
    "    col('rating')\n",
    ")"
   ]
  },
  {
   "cell_type": "code",
   "execution_count": 8,
   "metadata": {},
   "outputs": [
    {
     "name": "stdout",
     "output_type": "stream",
     "text": [
      "+------+--------+---------+\n",
      "|userId| movieId|   rating|\n",
      "+------+--------+---------+\n",
      "|     0|m_286217| 8.356526|\n",
      "|     0|m_398181|6.0658956|\n",
      "|     0|  m_1372|7.7857275|\n",
      "|     0|m_127585| 7.603592|\n",
      "|     0|m_363676| 6.663915|\n",
      "|     0|   m_640|7.5542974|\n",
      "|     0|m_374720|7.2914352|\n",
      "|     0| m_16869| 8.561721|\n",
      "|     0| m_24428| 6.461823|\n",
      "|     0|m_284054| 6.714157|\n",
      "|     0| t_79242| 7.783443|\n",
      "|     0| t_75006| 8.982251|\n",
      "|     0|   m_707| 5.484294|\n",
      "|     0|m_293863|7.5892715|\n",
      "|     0|  m_1927|5.6031146|\n",
      "|     0|m_259693| 6.644639|\n",
      "|     0|   m_451| 8.072782|\n",
      "|     0|m_376570|6.9489827|\n",
      "|     0| m_13939| 7.224361|\n",
      "|     0|m_353486| 6.035672|\n",
      "+------+--------+---------+\n",
      "only showing top 20 rows\n",
      "\n"
     ]
    }
   ],
   "source": [
    "ratings = ratings.\\\n",
    "    withColumn('userId', col('userId').cast('integer')).\\\n",
    "    withColumn('movieId', col('movieId').cast('string')).\\\n",
    "    withColumn('rating', col('rating').cast('float'))\n",
    "ratings.show()"
   ]
  },
  {
   "cell_type": "code",
   "execution_count": 9,
   "metadata": {},
   "outputs": [
    {
     "name": "stdout",
     "output_type": "stream",
     "text": [
      "root\n",
      " |-- userId: integer (nullable = true)\n",
      " |-- movieId: string (nullable = true)\n",
      " |-- rating: float (nullable = true)\n",
      "\n"
     ]
    }
   ],
   "source": [
    "ratings.printSchema()"
   ]
  },
  {
   "cell_type": "markdown",
   "metadata": {},
   "source": [
    "### Calculate sparsity"
   ]
  },
  {
   "cell_type": "code",
   "execution_count": 10,
   "metadata": {},
   "outputs": [
    {
     "name": "stdout",
     "output_type": "stream",
     "text": [
      "Rate Data Count : 100000\n",
      "User Data Count : 100\n",
      "Movie Data Count : 9898\n",
      "The ratings dataframe is  89.90% empty.\n"
     ]
    }
   ],
   "source": [
    "# rating 데이터 셋의 개수\n",
    "numerator = ratings.select(\"rating\").count()\n",
    "\n",
    "# 유저의 수와 영화의 수\n",
    "num_users = ratings.select(\"userId\").distinct().count()\n",
    "num_movies = ratings.select(\"movieId\").distinct().count()\n",
    "\n",
    "print(\"Rate Data Count : %d\" % numerator)\n",
    "print(\"User Data Count : %d\" % num_users)\n",
    "print(\"Movie Data Count : %d\" % num_movies)\n",
    "\n",
    "# 전체 발생 가능 데이터의 개수\n",
    "denominator = num_users * num_movies\n",
    "\n",
    "# 전체 발생 데이터 대비 현재 데이터 비율 계산\n",
    "sparsity = (1.0 - (numerator *1.0)/denominator)*100\n",
    "print(\"The ratings dataframe is \", \"%.2f\" % sparsity + \"% empty.\")"
   ]
  },
  {
   "cell_type": "markdown",
   "metadata": {},
   "source": [
    "### Interpret ratings"
   ]
  },
  {
   "cell_type": "code",
   "execution_count": 11,
   "metadata": {},
   "outputs": [
    {
     "name": "stdout",
     "output_type": "stream",
     "text": [
      "+------+-----+\n",
      "|userId|count|\n",
      "+------+-----+\n",
      "|    31| 1000|\n",
      "|    85| 1000|\n",
      "|    65| 1000|\n",
      "|    53| 1000|\n",
      "|    78| 1000|\n",
      "|    34| 1000|\n",
      "|    81| 1000|\n",
      "|    28| 1000|\n",
      "|    76| 1000|\n",
      "|    26| 1000|\n",
      "|    27| 1000|\n",
      "|    44| 1000|\n",
      "|    12| 1000|\n",
      "|    91| 1000|\n",
      "|    22| 1000|\n",
      "|    93| 1000|\n",
      "|    47| 1000|\n",
      "|     1| 1000|\n",
      "|    52| 1000|\n",
      "|    13| 1000|\n",
      "+------+-----+\n",
      "only showing top 20 rows\n",
      "\n"
     ]
    }
   ],
   "source": [
    "# 유저의 작성 리뷰 수\n",
    "userId_ratings = ratings.groupBy(\"userId\").count().orderBy('count', ascending=False)\n",
    "userId_ratings.show()"
   ]
  },
  {
   "cell_type": "code",
   "execution_count": 12,
   "metadata": {},
   "outputs": [
    {
     "name": "stdout",
     "output_type": "stream",
     "text": [
      "+--------+-----+\n",
      "| movieId|count|\n",
      "+--------+-----+\n",
      "| m_27205|  237|\n",
      "|m_157336|  210|\n",
      "|m_293660|  210|\n",
      "|m_299536|  202|\n",
      "| m_24428|  194|\n",
      "|   m_155|  193|\n",
      "| m_19995|  184|\n",
      "|    m_13|  177|\n",
      "|   m_550|  170|\n",
      "| m_76341|  163|\n",
      "|   m_680|  160|\n",
      "|m_118340|  159|\n",
      "|m_475557|  156|\n",
      "| m_68718|  155|\n",
      "|   m_597|  155|\n",
      "|  m_1726|  155|\n",
      "|   m_671|  154|\n",
      "|   m_603|  151|\n",
      "| m_10138|  150|\n",
      "|m_135397|  149|\n",
      "+--------+-----+\n",
      "only showing top 20 rows\n",
      "\n"
     ]
    }
   ],
   "source": [
    "# 영화의 작성 리뷰 수\n",
    "movieId_ratings = ratings.groupBy(\"movieId\").count().orderBy('count', ascending=False)\n",
    "movieId_ratings.show()"
   ]
  },
  {
   "cell_type": "code",
   "execution_count": 13,
   "metadata": {},
   "outputs": [
    {
     "name": "stdout",
     "output_type": "stream",
     "text": [
      "+------+--------+---------+-------------+\n",
      "|userId| movieId|   rating|movieId_index|\n",
      "+------+--------+---------+-------------+\n",
      "|     0|m_286217| 8.356526|         55.0|\n",
      "|     0|m_398181|6.0658956|       1453.0|\n",
      "|     0|  m_1372|7.7857275|        448.0|\n",
      "|     0|m_127585| 7.603592|        145.0|\n",
      "|     0|m_363676| 6.663915|        500.0|\n",
      "|     0|   m_640|7.5542974|        132.0|\n",
      "|     0|m_374720|7.2914352|         73.0|\n",
      "|     0| m_16869| 8.561721|         67.0|\n",
      "|     0| m_24428| 6.461823|          4.0|\n",
      "|     0|m_284054| 6.714157|         51.0|\n",
      "|     0| t_79242| 7.783443|       1579.0|\n",
      "|     0| t_75006| 8.982251|        373.0|\n",
      "|     0|   m_707| 5.484294|       1401.0|\n",
      "|     0|m_293863|7.5892715|        513.0|\n",
      "|     0|  m_1927|5.6031146|        511.0|\n",
      "|     0|m_259693| 6.644639|        381.0|\n",
      "|     0|   m_451| 8.072782|       2219.0|\n",
      "|     0|m_376570|6.9489827|        944.0|\n",
      "|     0| m_13939| 7.224361|       3571.0|\n",
      "|     0|m_353486| 6.035672|        166.0|\n",
      "+------+--------+---------+-------------+\n",
      "only showing top 20 rows\n",
      "\n"
     ]
    }
   ],
   "source": [
    "movie_indexer = StringIndexer(inputCol=\"movieId\", outputCol=\"movieId_index\")\n",
    "\n",
    "indexer_model = movie_indexer.fit(ratings)\n",
    "ratings = indexer_model.transform(ratings)\n",
    "ratings.show()"
   ]
  },
  {
   "cell_type": "markdown",
   "metadata": {},
   "source": [
    "## ALS 모델링 및 측정"
   ]
  },
  {
   "cell_type": "code",
   "execution_count": 14,
   "metadata": {},
   "outputs": [],
   "source": [
    "# Import\n",
    "from pyspark.ml.evaluation import RegressionEvaluator\n",
    "from pyspark.ml.recommendation import ALS\n",
    "from pyspark.ml.tuning import ParamGridBuilder, CrossValidator"
   ]
  },
  {
   "cell_type": "code",
   "execution_count": 15,
   "metadata": {},
   "outputs": [
    {
     "data": {
      "text/plain": [
       "ALS_034e67fd10a0"
      ]
     },
     "execution_count": 15,
     "metadata": {},
     "output_type": "execute_result"
    }
   ],
   "source": [
    "# Test, Train 셋 나누기\n",
    "(train, test) = ratings.randomSplit([0.8, 0.2], seed = 2017152017)\n",
    "\n",
    "# ALS 모델링\n",
    "als = ALS(userCol=\"userId\", itemCol=\"movieId_index\", ratingCol=\"rating\", nonnegative = True, implicitPrefs = False, coldStartStrategy=\"drop\")\n",
    "als"
   ]
  },
  {
   "cell_type": "code",
   "execution_count": 16,
   "metadata": {},
   "outputs": [
    {
     "name": "stdout",
     "output_type": "stream",
     "text": [
      "테스트 모델 : 20개\n"
     ]
    }
   ],
   "source": [
    "# grid의 Hyperparam 조정(수시로 조정하며 비교해보자)\n",
    "#다수의 모델로 예측값을 근사화 하기 위함\n",
    "param_grid = ParamGridBuilder() \\\n",
    "    .addGrid(als.rank, [10, 50, 100, 150, 200]) \\\n",
    "    .addGrid(als.regParam, [.01, .05, .1, .15]) \\\n",
    "    .build()\n",
    "           \n",
    "# RMSE 유사도 측정하고 이를 기반으로 예측\n",
    "evaluator = RegressionEvaluator(metricName=\"rmse\", labelCol=\"rating\", predictionCol=\"prediction\") \n",
    "print(\"테스트 모델 : %d개\" %len(param_grid))"
   ]
  },
  {
   "cell_type": "code",
   "execution_count": 17,
   "metadata": {},
   "outputs": [
    {
     "name": "stdout",
     "output_type": "stream",
     "text": [
      "CrossValidator_aca63935ce87\n"
     ]
    }
   ],
   "source": [
    "# Cross validation\n",
    "cv = CrossValidator(estimator=als, estimatorParamMaps=param_grid, evaluator=evaluator, numFolds=5)\n",
    "print(cv)"
   ]
  },
  {
   "cell_type": "markdown",
   "metadata": {},
   "source": [
    "### 최적 모델 및 파라미터 찾기"
   ]
  },
  {
   "cell_type": "code",
   "execution_count": 18,
   "metadata": {},
   "outputs": [
    {
     "name": "stdout",
     "output_type": "stream",
     "text": [
      "ALSModel: uid=ALS_034e67fd10a0, rank=100\n",
      "Rank :  100\n",
      "MaxIter :  10\n",
      "RegParam :  0.15\n"
     ]
    }
   ],
   "source": [
    "#*************!!!주의!!! ML 라이브러리 모델링 연산 작업 오래 걸림 !!!!********\n",
    "\n",
    "# Cross Validation한 als모델로 학습(fitting)\n",
    "model = cv.fit(train)\n",
    "\n",
    "#최적 모델 확인(이 부분이 PySpark ML 가장 많이 의존하는 부분)\n",
    "bestmodel = model.bestModel\n",
    "print(bestmodel)\n",
    "\n",
    "#최적 모델 파라미터(Best Param)\n",
    "print(\"Rank : \", bestmodel._java_obj.parent().getRank())\n",
    "print(\"MaxIter : \", bestmodel._java_obj.parent().getMaxIter())\n",
    "print(\"RegParam : \", bestmodel._java_obj.parent().getRegParam())"
   ]
  },
  {
   "cell_type": "code",
   "execution_count": 19,
   "metadata": {},
   "outputs": [
    {
     "name": "stdout",
     "output_type": "stream",
     "text": [
      "0.5324743369168851\n"
     ]
    }
   ],
   "source": [
    "# 예측 평가 (RMSE 지표)\n",
    "test_predictions = bestmodel.transform(test)\n",
    "RMSE = evaluator.evaluate(test_predictions)\n",
    "print(RMSE)"
   ]
  },
  {
   "cell_type": "code",
   "execution_count": 20,
   "metadata": {},
   "outputs": [
    {
     "name": "stdout",
     "output_type": "stream",
     "text": [
      "+------+--------+---------+-------------+----------+\n",
      "|userId| movieId|   rating|movieId_index|prediction|\n",
      "+------+--------+---------+-------------+----------+\n",
      "|    31| m_10020| 8.318916|        396.0| 7.6256933|\n",
      "|    31| m_10033|6.7017016|       2478.0| 6.1023073|\n",
      "|    31| m_10083|5.9383483|       3515.0| 6.6587777|\n",
      "|    31| m_10234|8.0762615|       2687.0|  6.917348|\n",
      "|    31|   m_105| 8.708742|         60.0|  8.144167|\n",
      "|    31|   m_107|7.8273644|        374.0|  7.624197|\n",
      "|    31| m_11253|7.0236883|        848.0|  6.707112|\n",
      "|    31| m_11321|7.4885607|        491.0|  7.553177|\n",
      "|    31| m_11439|7.0154305|       1423.0|  6.489041|\n",
      "|    31| m_11459|6.5143256|       1795.0|  5.816024|\n",
      "|    31|m_116741|   6.4862|       1356.0|  6.279637|\n",
      "|    31|m_118340| 8.379281|         11.0|  7.813232|\n",
      "|    31| m_11888|6.4178314|       3215.0|  5.660842|\n",
      "|    31|   m_120| 7.824252|         27.0|   8.31436|\n",
      "|    31|m_120467|7.7925353|        153.0|  7.876638|\n",
      "|    31|   m_122| 8.104738|         22.0|  8.372032|\n",
      "|    31|m_122917|6.4400945|        175.0|  7.102947|\n",
      "|    31| m_12556|6.1250873|       1051.0|  5.985131|\n",
      "|    31|  m_1266| 6.592642|       1514.0| 6.6067133|\n",
      "|    31| m_13394|6.2958264|       3562.0| 6.1974216|\n",
      "+------+--------+---------+-------------+----------+\n",
      "only showing top 20 rows\n",
      "\n"
     ]
    }
   ],
   "source": [
    "test_predictions.show()"
   ]
  },
  {
   "cell_type": "markdown",
   "metadata": {},
   "source": [
    "## 추천"
   ]
  },
  {
   "cell_type": "code",
   "execution_count": 21,
   "metadata": {},
   "outputs": [
    {
     "name": "stderr",
     "output_type": "stream",
     "text": [
      "C:\\Users\\ncclu\\anaconda3\\lib\\site-packages\\pyspark\\sql\\context.py:125: FutureWarning: Deprecated in 3.0.0. Use SparkSession.builder.getOrCreate() instead.\n",
      "  warnings.warn(\n"
     ]
    },
    {
     "name": "stdout",
     "output_type": "stream",
     "text": [
      "+------+--------------------+\n",
      "|userId|     recommendations|\n",
      "+------+--------------------+\n",
      "|    20|[{8380, 9.897588}...|\n",
      "|    40|[{8380, 9.874492}...|\n",
      "|    10|[{8380, 9.830485}...|\n",
      "|    50|[{8380, 9.892232}...|\n",
      "|    80|[{8380, 9.875206}...|\n",
      "|    70|[{8380, 9.906294}...|\n",
      "|    60|[{8380, 9.906964}...|\n",
      "|    90|[{8380, 9.907235}...|\n",
      "|    30|[{8380, 9.854612}...|\n",
      "|     0|[{8380, 9.889043}...|\n",
      "+------+--------------------+\n",
      "\n"
     ]
    }
   ],
   "source": [
    "#모든 유저에 대해서 추천 결과 출력\n",
    "#괄호의 인자는 추천할 갯수\n",
    "nrecommendations = bestmodel.recommendForAllUsers(10)\n",
    "\n",
    "#10명만 예시로 출력해봄\n",
    "nrecommendations.limit(10).show()"
   ]
  },
  {
   "cell_type": "code",
   "execution_count": 22,
   "metadata": {},
   "outputs": [
    {
     "name": "stdout",
     "output_type": "stream",
     "text": [
      "+------+-------------+---------+\n",
      "|userId|movieId_index|   rating|\n",
      "+------+-------------+---------+\n",
      "|    20|         8380| 9.897588|\n",
      "|    20|         9454| 9.881088|\n",
      "|    20|         8814|  9.88074|\n",
      "|    20|         7928|9.8785925|\n",
      "|    20|         8267|   9.8681|\n",
      "|    20|         9654| 9.864925|\n",
      "|    20|         8793| 9.862417|\n",
      "|    20|         8539| 9.860825|\n",
      "|    20|         9448| 9.860794|\n",
      "|    20|         8758| 9.858503|\n",
      "|    40|         8380| 9.874492|\n",
      "|    40|         9454| 9.859648|\n",
      "|    40|         8814| 9.857499|\n",
      "|    40|         7928| 9.856125|\n",
      "|    40|         9654| 9.846782|\n",
      "|    40|         8267|  9.84617|\n",
      "|    40|         8793| 9.839868|\n",
      "|    40|         9448| 9.838731|\n",
      "|    40|         8539| 9.837894|\n",
      "|    40|         8887| 9.836574|\n",
      "+------+-------------+---------+\n",
      "\n"
     ]
    }
   ],
   "source": [
    "nrecommendations = nrecommendations.withColumn(\"rec_exp\", explode(\"recommendations\")).select('userId', col(\"rec_exp.movieId_index\"), col(\"rec_exp.rating\"))\n",
    "nrecommendations.limit(20).show()"
   ]
  },
  {
   "cell_type": "code",
   "execution_count": 26,
   "metadata": {},
   "outputs": [
    {
     "name": "stdout",
     "output_type": "stream",
     "text": [
      "+------+-------------+---------+--------+\n",
      "|userId|movieId_index|   rating| movieId|\n",
      "+------+-------------+---------+--------+\n",
      "|    20|         8380| 9.897588|m_513530|\n",
      "|    20|         9454| 9.881088| t_42981|\n",
      "|    20|         8814|  9.88074|m_625334|\n",
      "|    20|         7928|9.8785925|m_425366|\n",
      "|    20|         8267|   9.8681|m_494107|\n",
      "|    20|         9654| 9.864925| t_72479|\n",
      "|    20|         8793| 9.862417|m_619270|\n",
      "|    20|         8539| 9.860825|m_550957|\n",
      "|    20|         9448| 9.860794| t_41891|\n",
      "|    20|         8758| 9.858503|m_609097|\n",
      "|    40|         8380| 9.874492|m_513530|\n",
      "|    40|         9454| 9.859648| t_42981|\n",
      "|    40|         8814| 9.857499|m_625334|\n",
      "|    40|         7928| 9.856125|m_425366|\n",
      "|    40|         9654| 9.846782| t_72479|\n",
      "|    40|         8267|  9.84617|m_494107|\n",
      "|    40|         8793| 9.839868|m_619270|\n",
      "|    40|         9448| 9.838731| t_41891|\n",
      "|    40|         8539| 9.837894|m_550957|\n",
      "|    40|         8887| 9.836574|m_654852|\n",
      "+------+-------------+---------+--------+\n",
      "\n"
     ]
    }
   ],
   "source": [
    "from pyspark.ml.feature import IndexToString\n",
    "\n",
    "movie_id_to_label = IndexToString(inputCol=\"movieId_index\", outputCol=\"movieId\",labels=indexer_model.labels)\n",
    "de = movie_id_to_label.transform(nrecommendations)\n",
    "de.limit(20).show()"
   ]
  },
  {
   "cell_type": "code",
   "execution_count": null,
   "metadata": {},
   "outputs": [],
   "source": [
    "#한 유저에 대한 추천\n",
    "print(\"** 유저 123 추천리스트 **\")\n",
    "nrecommendations.join(movies, on='movieId').filter('userId = 123').show()\n",
    "print(\"** 유저 123 평가기록 **\")\n",
    "ratings.join(movies, on='movieId').filter('userId = 123').sort('rating', ascending=False).limit(10).show()"
   ]
  }
 ],
 "metadata": {
  "kernelspec": {
   "display_name": "Python 3 (ipykernel)",
   "language": "python",
   "name": "python3"
  },
  "language_info": {
   "codemirror_mode": {
    "name": "ipython",
    "version": 3
   },
   "file_extension": ".py",
   "mimetype": "text/x-python",
   "name": "python",
   "nbconvert_exporter": "python",
   "pygments_lexer": "ipython3",
   "version": "3.9.7"
  }
 },
 "nbformat": 4,
 "nbformat_minor": 4
}
