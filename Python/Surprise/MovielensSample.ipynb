{
 "cells": [
  {
   "cell_type": "code",
   "execution_count": 4,
   "id": "082852de",
   "metadata": {},
   "outputs": [],
   "source": [
    "import mariadb\n",
    "import sys\n",
    "import pandas as pd\n",
    "import numpy as np\n",
    "\n",
    "from surprise import Dataset\n",
    "from surprise import Reader\n",
    "from surprise.model_selection import train_test_split\n",
    "from surprise import SVD\n",
    "from surprise import accuracy\n",
    "from surprise.model_selection import cross_validate \n",
    "from surprise.model_selection import GridSearchCV"
   ]
  },
  {
   "cell_type": "code",
   "execution_count": 5,
   "id": "472edcba",
   "metadata": {},
   "outputs": [],
   "source": [
    "# 데이터 불러오기 (데이터 프레임)\n",
    "ratings = pd.read_csv('./ml-25m/ratings.csv')\n",
    "links = pd.read_csv('./ml-25m/links.csv')\n",
    "movies = pd.read_csv('./ml-25m/movies.csv')"
   ]
  },
  {
   "cell_type": "code",
   "execution_count": 6,
   "id": "7abb5644",
   "metadata": {},
   "outputs": [],
   "source": [
    "ratings_combined = pd.merge(movies, ratings, on='movieId')\n",
    "ratings_combined = pd.merge(links, ratings_combined, on='movieId')"
   ]
  },
  {
   "cell_type": "code",
   "execution_count": 7,
   "id": "cf3a6434",
   "metadata": {},
   "outputs": [
    {
     "data": {
      "text/html": [
       "<div>\n",
       "<style scoped>\n",
       "    .dataframe tbody tr th:only-of-type {\n",
       "        vertical-align: middle;\n",
       "    }\n",
       "\n",
       "    .dataframe tbody tr th {\n",
       "        vertical-align: top;\n",
       "    }\n",
       "\n",
       "    .dataframe thead th {\n",
       "        text-align: right;\n",
       "    }\n",
       "</style>\n",
       "<table border=\"1\" class=\"dataframe\">\n",
       "  <thead>\n",
       "    <tr style=\"text-align: right;\">\n",
       "      <th></th>\n",
       "      <th>movieId</th>\n",
       "      <th>imdbId</th>\n",
       "      <th>tmdbId</th>\n",
       "      <th>title</th>\n",
       "      <th>genres</th>\n",
       "      <th>userId</th>\n",
       "      <th>rating</th>\n",
       "      <th>timestamp</th>\n",
       "    </tr>\n",
       "  </thead>\n",
       "  <tbody>\n",
       "    <tr>\n",
       "      <th>0</th>\n",
       "      <td>1</td>\n",
       "      <td>114709</td>\n",
       "      <td>862.0</td>\n",
       "      <td>Toy Story (1995)</td>\n",
       "      <td>Adventure|Animation|Children|Comedy|Fantasy</td>\n",
       "      <td>2</td>\n",
       "      <td>3.5</td>\n",
       "      <td>1141415820</td>\n",
       "    </tr>\n",
       "    <tr>\n",
       "      <th>1</th>\n",
       "      <td>1</td>\n",
       "      <td>114709</td>\n",
       "      <td>862.0</td>\n",
       "      <td>Toy Story (1995)</td>\n",
       "      <td>Adventure|Animation|Children|Comedy|Fantasy</td>\n",
       "      <td>3</td>\n",
       "      <td>4.0</td>\n",
       "      <td>1439472215</td>\n",
       "    </tr>\n",
       "    <tr>\n",
       "      <th>2</th>\n",
       "      <td>1</td>\n",
       "      <td>114709</td>\n",
       "      <td>862.0</td>\n",
       "      <td>Toy Story (1995)</td>\n",
       "      <td>Adventure|Animation|Children|Comedy|Fantasy</td>\n",
       "      <td>4</td>\n",
       "      <td>3.0</td>\n",
       "      <td>1573944252</td>\n",
       "    </tr>\n",
       "    <tr>\n",
       "      <th>3</th>\n",
       "      <td>1</td>\n",
       "      <td>114709</td>\n",
       "      <td>862.0</td>\n",
       "      <td>Toy Story (1995)</td>\n",
       "      <td>Adventure|Animation|Children|Comedy|Fantasy</td>\n",
       "      <td>5</td>\n",
       "      <td>4.0</td>\n",
       "      <td>858625949</td>\n",
       "    </tr>\n",
       "    <tr>\n",
       "      <th>4</th>\n",
       "      <td>1</td>\n",
       "      <td>114709</td>\n",
       "      <td>862.0</td>\n",
       "      <td>Toy Story (1995)</td>\n",
       "      <td>Adventure|Animation|Children|Comedy|Fantasy</td>\n",
       "      <td>8</td>\n",
       "      <td>4.0</td>\n",
       "      <td>890492517</td>\n",
       "    </tr>\n",
       "    <tr>\n",
       "      <th>...</th>\n",
       "      <td>...</td>\n",
       "      <td>...</td>\n",
       "      <td>...</td>\n",
       "      <td>...</td>\n",
       "      <td>...</td>\n",
       "      <td>...</td>\n",
       "      <td>...</td>\n",
       "      <td>...</td>\n",
       "    </tr>\n",
       "    <tr>\n",
       "      <th>25000090</th>\n",
       "      <td>209157</td>\n",
       "      <td>6671244</td>\n",
       "      <td>499546.0</td>\n",
       "      <td>We (2018)</td>\n",
       "      <td>Drama</td>\n",
       "      <td>119571</td>\n",
       "      <td>1.5</td>\n",
       "      <td>1574280748</td>\n",
       "    </tr>\n",
       "    <tr>\n",
       "      <th>25000091</th>\n",
       "      <td>209159</td>\n",
       "      <td>297986</td>\n",
       "      <td>63407.0</td>\n",
       "      <td>Window of the Soul (2001)</td>\n",
       "      <td>Documentary</td>\n",
       "      <td>115835</td>\n",
       "      <td>3.0</td>\n",
       "      <td>1574280985</td>\n",
       "    </tr>\n",
       "    <tr>\n",
       "      <th>25000092</th>\n",
       "      <td>209163</td>\n",
       "      <td>6755366</td>\n",
       "      <td>553036.0</td>\n",
       "      <td>Bad Poems (2018)</td>\n",
       "      <td>Comedy|Drama</td>\n",
       "      <td>6964</td>\n",
       "      <td>4.5</td>\n",
       "      <td>1574284913</td>\n",
       "    </tr>\n",
       "    <tr>\n",
       "      <th>25000093</th>\n",
       "      <td>209169</td>\n",
       "      <td>249603</td>\n",
       "      <td>162892.0</td>\n",
       "      <td>A Girl Thing (2001)</td>\n",
       "      <td>(no genres listed)</td>\n",
       "      <td>119571</td>\n",
       "      <td>3.0</td>\n",
       "      <td>1574291826</td>\n",
       "    </tr>\n",
       "    <tr>\n",
       "      <th>25000094</th>\n",
       "      <td>209171</td>\n",
       "      <td>55323</td>\n",
       "      <td>79513.0</td>\n",
       "      <td>Women of Devil's Island (1962)</td>\n",
       "      <td>Action|Adventure|Drama</td>\n",
       "      <td>119571</td>\n",
       "      <td>3.0</td>\n",
       "      <td>1574291937</td>\n",
       "    </tr>\n",
       "  </tbody>\n",
       "</table>\n",
       "<p>25000095 rows × 8 columns</p>\n",
       "</div>"
      ],
      "text/plain": [
       "          movieId   imdbId    tmdbId                           title  \\\n",
       "0               1   114709     862.0                Toy Story (1995)   \n",
       "1               1   114709     862.0                Toy Story (1995)   \n",
       "2               1   114709     862.0                Toy Story (1995)   \n",
       "3               1   114709     862.0                Toy Story (1995)   \n",
       "4               1   114709     862.0                Toy Story (1995)   \n",
       "...           ...      ...       ...                             ...   \n",
       "25000090   209157  6671244  499546.0                       We (2018)   \n",
       "25000091   209159   297986   63407.0       Window of the Soul (2001)   \n",
       "25000092   209163  6755366  553036.0                Bad Poems (2018)   \n",
       "25000093   209169   249603  162892.0             A Girl Thing (2001)   \n",
       "25000094   209171    55323   79513.0  Women of Devil's Island (1962)   \n",
       "\n",
       "                                               genres  userId  rating  \\\n",
       "0         Adventure|Animation|Children|Comedy|Fantasy       2     3.5   \n",
       "1         Adventure|Animation|Children|Comedy|Fantasy       3     4.0   \n",
       "2         Adventure|Animation|Children|Comedy|Fantasy       4     3.0   \n",
       "3         Adventure|Animation|Children|Comedy|Fantasy       5     4.0   \n",
       "4         Adventure|Animation|Children|Comedy|Fantasy       8     4.0   \n",
       "...                                               ...     ...     ...   \n",
       "25000090                                        Drama  119571     1.5   \n",
       "25000091                                  Documentary  115835     3.0   \n",
       "25000092                                 Comedy|Drama    6964     4.5   \n",
       "25000093                           (no genres listed)  119571     3.0   \n",
       "25000094                       Action|Adventure|Drama  119571     3.0   \n",
       "\n",
       "           timestamp  \n",
       "0         1141415820  \n",
       "1         1439472215  \n",
       "2         1573944252  \n",
       "3          858625949  \n",
       "4          890492517  \n",
       "...              ...  \n",
       "25000090  1574280748  \n",
       "25000091  1574280985  \n",
       "25000092  1574284913  \n",
       "25000093  1574291826  \n",
       "25000094  1574291937  \n",
       "\n",
       "[25000095 rows x 8 columns]"
      ]
     },
     "execution_count": 7,
     "metadata": {},
     "output_type": "execute_result"
    }
   ],
   "source": [
    "ratings_combined"
   ]
  },
  {
   "cell_type": "code",
   "execution_count": 8,
   "id": "f96c3cae",
   "metadata": {},
   "outputs": [],
   "source": [
    "ratings_combined.drop(['movieId', 'imdbId', 'genres', 'timestamp'], axis=1, inplace=True)"
   ]
  },
  {
   "cell_type": "code",
   "execution_count": 9,
   "id": "58a0aba4",
   "metadata": {},
   "outputs": [
    {
     "data": {
      "text/html": [
       "<div>\n",
       "<style scoped>\n",
       "    .dataframe tbody tr th:only-of-type {\n",
       "        vertical-align: middle;\n",
       "    }\n",
       "\n",
       "    .dataframe tbody tr th {\n",
       "        vertical-align: top;\n",
       "    }\n",
       "\n",
       "    .dataframe thead th {\n",
       "        text-align: right;\n",
       "    }\n",
       "</style>\n",
       "<table border=\"1\" class=\"dataframe\">\n",
       "  <thead>\n",
       "    <tr style=\"text-align: right;\">\n",
       "      <th></th>\n",
       "      <th>tmdbId</th>\n",
       "      <th>title</th>\n",
       "      <th>userId</th>\n",
       "      <th>rating</th>\n",
       "    </tr>\n",
       "  </thead>\n",
       "  <tbody>\n",
       "    <tr>\n",
       "      <th>0</th>\n",
       "      <td>862.0</td>\n",
       "      <td>Toy Story (1995)</td>\n",
       "      <td>2</td>\n",
       "      <td>3.5</td>\n",
       "    </tr>\n",
       "    <tr>\n",
       "      <th>1</th>\n",
       "      <td>862.0</td>\n",
       "      <td>Toy Story (1995)</td>\n",
       "      <td>3</td>\n",
       "      <td>4.0</td>\n",
       "    </tr>\n",
       "    <tr>\n",
       "      <th>2</th>\n",
       "      <td>862.0</td>\n",
       "      <td>Toy Story (1995)</td>\n",
       "      <td>4</td>\n",
       "      <td>3.0</td>\n",
       "    </tr>\n",
       "    <tr>\n",
       "      <th>3</th>\n",
       "      <td>862.0</td>\n",
       "      <td>Toy Story (1995)</td>\n",
       "      <td>5</td>\n",
       "      <td>4.0</td>\n",
       "    </tr>\n",
       "    <tr>\n",
       "      <th>4</th>\n",
       "      <td>862.0</td>\n",
       "      <td>Toy Story (1995)</td>\n",
       "      <td>8</td>\n",
       "      <td>4.0</td>\n",
       "    </tr>\n",
       "    <tr>\n",
       "      <th>...</th>\n",
       "      <td>...</td>\n",
       "      <td>...</td>\n",
       "      <td>...</td>\n",
       "      <td>...</td>\n",
       "    </tr>\n",
       "    <tr>\n",
       "      <th>25000090</th>\n",
       "      <td>499546.0</td>\n",
       "      <td>We (2018)</td>\n",
       "      <td>119571</td>\n",
       "      <td>1.5</td>\n",
       "    </tr>\n",
       "    <tr>\n",
       "      <th>25000091</th>\n",
       "      <td>63407.0</td>\n",
       "      <td>Window of the Soul (2001)</td>\n",
       "      <td>115835</td>\n",
       "      <td>3.0</td>\n",
       "    </tr>\n",
       "    <tr>\n",
       "      <th>25000092</th>\n",
       "      <td>553036.0</td>\n",
       "      <td>Bad Poems (2018)</td>\n",
       "      <td>6964</td>\n",
       "      <td>4.5</td>\n",
       "    </tr>\n",
       "    <tr>\n",
       "      <th>25000093</th>\n",
       "      <td>162892.0</td>\n",
       "      <td>A Girl Thing (2001)</td>\n",
       "      <td>119571</td>\n",
       "      <td>3.0</td>\n",
       "    </tr>\n",
       "    <tr>\n",
       "      <th>25000094</th>\n",
       "      <td>79513.0</td>\n",
       "      <td>Women of Devil's Island (1962)</td>\n",
       "      <td>119571</td>\n",
       "      <td>3.0</td>\n",
       "    </tr>\n",
       "  </tbody>\n",
       "</table>\n",
       "<p>25000095 rows × 4 columns</p>\n",
       "</div>"
      ],
      "text/plain": [
       "            tmdbId                           title  userId  rating\n",
       "0            862.0                Toy Story (1995)       2     3.5\n",
       "1            862.0                Toy Story (1995)       3     4.0\n",
       "2            862.0                Toy Story (1995)       4     3.0\n",
       "3            862.0                Toy Story (1995)       5     4.0\n",
       "4            862.0                Toy Story (1995)       8     4.0\n",
       "...            ...                             ...     ...     ...\n",
       "25000090  499546.0                       We (2018)  119571     1.5\n",
       "25000091   63407.0       Window of the Soul (2001)  115835     3.0\n",
       "25000092  553036.0                Bad Poems (2018)    6964     4.5\n",
       "25000093  162892.0             A Girl Thing (2001)  119571     3.0\n",
       "25000094   79513.0  Women of Devil's Island (1962)  119571     3.0\n",
       "\n",
       "[25000095 rows x 4 columns]"
      ]
     },
     "execution_count": 9,
     "metadata": {},
     "output_type": "execute_result"
    }
   ],
   "source": [
    "ratings_combined"
   ]
  },
  {
   "cell_type": "code",
   "execution_count": 11,
   "id": "aa2c7aa9",
   "metadata": {},
   "outputs": [],
   "source": [
    "# Reader 객체 생성\n",
    "reader = Reader(rating_scale=(0.5, 5.0))\n",
    "\n",
    "surprise_data = Dataset.load_from_df(ratings_combined[['userId', 'tmdbId', 'rating']], reader)\n",
    "\n",
    "# surprise의 train_test_split() 사용. trainset : testset = 3 : 1\n",
    "trainset, testset = train_test_split(surprise_data, test_size=0.25, random_state=0)"
   ]
  },
  {
   "cell_type": "code",
   "execution_count": 12,
   "id": "3a50d1fb",
   "metadata": {},
   "outputs": [
    {
     "data": {
      "text/plain": [
       "<surprise.prediction_algorithms.matrix_factorization.SVD at 0xf41a60>"
      ]
     },
     "execution_count": 12,
     "metadata": {},
     "output_type": "execute_result"
    }
   ],
   "source": [
    "algo = SVD() # GridSearchCV를 이용한 최적 하이퍼 파라미터 적용 필요\n",
    "algo.fit(trainset)"
   ]
  },
  {
   "cell_type": "code",
   "execution_count": 13,
   "id": "2c5fd467",
   "metadata": {},
   "outputs": [
    {
     "data": {
      "text/plain": [
       "Prediction(uid='196', iid='302', r_ui=None, est=3.533832591887252, details={'was_impossible': False})"
      ]
     },
     "execution_count": 13,
     "metadata": {},
     "output_type": "execute_result"
    }
   ],
   "source": [
    "# 사용자 아이디(uid), 아이템 아이디(iid)는 문자열로 입력\n",
    "uid = str(196)\n",
    "iid = str(302)\n",
    "\n",
    "# 추천 예측 평점 (.predict)\n",
    "pred = algo.predict(uid, iid)\n",
    "pred"
   ]
  },
  {
   "cell_type": "code",
   "execution_count": 14,
   "id": "ad485353",
   "metadata": {},
   "outputs": [
    {
     "name": "stdout",
     "output_type": "stream",
     "text": [
      "prediction type : <class 'list'>  size: 6250024\n",
      "prediction 결과의 최초 5개 추출\n"
     ]
    },
    {
     "data": {
      "text/plain": [
       "[Prediction(uid=145355, iid=91679.0, r_ui=4.5, est=3.4494802560974445, details={'was_impossible': False}),\n",
       " Prediction(uid=86805, iid=141.0, r_ui=3.0, est=3.7153861903789687, details={'was_impossible': False}),\n",
       " Prediction(uid=9739, iid=424.0, r_ui=3.0, est=4.093207445696001, details={'was_impossible': False}),\n",
       " Prediction(uid=144322, iid=27303.0, r_ui=2.5, est=2.880131131506351, details={'was_impossible': False}),\n",
       " Prediction(uid=53896, iid=117.0, r_ui=4.0, est=4.4155083007657625, details={'was_impossible': False})]"
      ]
     },
     "execution_count": 14,
     "metadata": {},
     "output_type": "execute_result"
    }
   ],
   "source": [
    "# 추천 예측 평점 (.test)\n",
    "predictions = algo.test( testset )\n",
    "\n",
    "print('prediction type :',type(predictions), ' size:',len(predictions))\n",
    "print('prediction 결과의 최초 5개 추출')\n",
    "\n",
    "predictions[:5]"
   ]
  },
  {
   "cell_type": "code",
   "execution_count": 15,
   "id": "1f2005a6",
   "metadata": {},
   "outputs": [
    {
     "data": {
      "text/plain": [
       "[(145355, 91679.0, 3.4494802560974445, {'was_impossible': False}),\n",
       " (86805, 141.0, 3.7153861903789687, {'was_impossible': False}),\n",
       " (9739, 424.0, 4.093207445696001, {'was_impossible': False})]"
      ]
     },
     "execution_count": 15,
     "metadata": {},
     "output_type": "execute_result"
    }
   ],
   "source": [
    "# 속성 확인\n",
    "[ (pred.uid, pred.iid, pred.est, pred.details) for pred in predictions[:3] ]"
   ]
  },
  {
   "cell_type": "code",
   "execution_count": 16,
   "id": "95c012a5",
   "metadata": {},
   "outputs": [
    {
     "name": "stdout",
     "output_type": "stream",
     "text": [
      "RMSE: 0.7813\n"
     ]
    },
    {
     "data": {
      "text/plain": [
       "0.7812640101833067"
      ]
     },
     "execution_count": 16,
     "metadata": {},
     "output_type": "execute_result"
    }
   ],
   "source": [
    "# 성능 평가\n",
    "accuracy.rmse(predictions)"
   ]
  },
  {
   "cell_type": "code",
   "execution_count": null,
   "id": "aa6a0745",
   "metadata": {},
   "outputs": [],
   "source": [
    "# n_epochs: SGD 수행 시 반복 횟수, n_factors: 잠재 요인 크기\n",
    "param_grid = {\n",
    "    'n_epochs': [20, 40, 60], \n",
    "    'n_factors': [50, 100, 200]\n",
    "}\n",
    "\n",
    "# GridSearchCV\n",
    "gs = GridSearchCV(SVD, param_grid, measures=['rmse', 'mae'], cv=3) # algo가 아닌 SVD 입력하였다.\n",
    "gs.fit(surprise_data)\n",
    "\n",
    "# 최적 하이퍼 파라미터 및 그 때의 최고 성능\n",
    "print(gs.best_params['rmse'])\n",
    "print(gs.best_score['rmse'])"
   ]
  },
  {
   "cell_type": "code",
   "execution_count": null,
   "id": "602544eb",
   "metadata": {},
   "outputs": [],
   "source": []
  },
  {
   "cell_type": "code",
   "execution_count": null,
   "id": "0dd46178",
   "metadata": {},
   "outputs": [],
   "source": []
  }
 ],
 "metadata": {
  "kernelspec": {
   "display_name": "Python 3",
   "language": "python",
   "name": "python3"
  },
  "language_info": {
   "codemirror_mode": {
    "name": "ipython",
    "version": 3
   },
   "file_extension": ".py",
   "mimetype": "text/x-python",
   "name": "python",
   "nbconvert_exporter": "python",
   "pygments_lexer": "ipython3",
   "version": "3.8.8"
  }
 },
 "nbformat": 4,
 "nbformat_minor": 5
}
