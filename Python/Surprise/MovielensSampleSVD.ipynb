{
 "cells": [
  {
   "cell_type": "markdown",
   "id": "ba5dc523",
   "metadata": {},
   "source": [
    "# 모듈 불러오기"
   ]
  },
  {
   "cell_type": "code",
   "execution_count": 1,
   "id": "082852de",
   "metadata": {},
   "outputs": [],
   "source": [
    "import mariadb\n",
    "import sys\n",
    "import pandas as pd\n",
    "import numpy as np\n",
    "\n",
    "from surprise import Dataset\n",
    "from surprise import Reader\n",
    "from surprise.model_selection import train_test_split\n",
    "from surprise import SVD\n",
    "from surprise import accuracy\n",
    "from surprise.model_selection import cross_validate \n",
    "from surprise.model_selection import GridSearchCV"
   ]
  },
  {
   "cell_type": "markdown",
   "id": "c74ceaad",
   "metadata": {},
   "source": [
    "# Movies, Ratings 데이터 불러오기 (MovieLens)"
   ]
  },
  {
   "cell_type": "code",
   "execution_count": 149,
   "id": "472edcba",
   "metadata": {},
   "outputs": [],
   "source": [
    "# 데이터 불러오기 (데이터 프레임)\n",
    "ratings = pd.read_csv('./ml-25m/ratings.csv')\n",
    "links = pd.read_csv('./ml-25m/links.csv')\n",
    "movies = pd.read_csv('./ml-25m/movies.csv')"
   ]
  },
  {
   "cell_type": "code",
   "execution_count": 150,
   "id": "f989f95a",
   "metadata": {},
   "outputs": [],
   "source": [
    "links = links.fillna(-1)"
   ]
  },
  {
   "cell_type": "code",
   "execution_count": 151,
   "id": "ff8d135d",
   "metadata": {},
   "outputs": [],
   "source": [
    "links = links.astype({'tmdbId':'int'})"
   ]
  },
  {
   "cell_type": "code",
   "execution_count": 152,
   "id": "7abb5644",
   "metadata": {},
   "outputs": [],
   "source": [
    "ratings_combined = pd.merge(links, ratings, on='movieId')"
   ]
  },
  {
   "cell_type": "code",
   "execution_count": 153,
   "id": "cf3a6434",
   "metadata": {},
   "outputs": [
    {
     "data": {
      "text/html": [
       "<div>\n",
       "<style scoped>\n",
       "    .dataframe tbody tr th:only-of-type {\n",
       "        vertical-align: middle;\n",
       "    }\n",
       "\n",
       "    .dataframe tbody tr th {\n",
       "        vertical-align: top;\n",
       "    }\n",
       "\n",
       "    .dataframe thead th {\n",
       "        text-align: right;\n",
       "    }\n",
       "</style>\n",
       "<table border=\"1\" class=\"dataframe\">\n",
       "  <thead>\n",
       "    <tr style=\"text-align: right;\">\n",
       "      <th></th>\n",
       "      <th>movieId</th>\n",
       "      <th>imdbId</th>\n",
       "      <th>tmdbId</th>\n",
       "      <th>userId</th>\n",
       "      <th>rating</th>\n",
       "      <th>timestamp</th>\n",
       "    </tr>\n",
       "  </thead>\n",
       "  <tbody>\n",
       "    <tr>\n",
       "      <th>0</th>\n",
       "      <td>1</td>\n",
       "      <td>114709</td>\n",
       "      <td>862</td>\n",
       "      <td>2</td>\n",
       "      <td>3.5</td>\n",
       "      <td>1141415820</td>\n",
       "    </tr>\n",
       "    <tr>\n",
       "      <th>1</th>\n",
       "      <td>1</td>\n",
       "      <td>114709</td>\n",
       "      <td>862</td>\n",
       "      <td>3</td>\n",
       "      <td>4.0</td>\n",
       "      <td>1439472215</td>\n",
       "    </tr>\n",
       "    <tr>\n",
       "      <th>2</th>\n",
       "      <td>1</td>\n",
       "      <td>114709</td>\n",
       "      <td>862</td>\n",
       "      <td>4</td>\n",
       "      <td>3.0</td>\n",
       "      <td>1573944252</td>\n",
       "    </tr>\n",
       "    <tr>\n",
       "      <th>3</th>\n",
       "      <td>1</td>\n",
       "      <td>114709</td>\n",
       "      <td>862</td>\n",
       "      <td>5</td>\n",
       "      <td>4.0</td>\n",
       "      <td>858625949</td>\n",
       "    </tr>\n",
       "    <tr>\n",
       "      <th>4</th>\n",
       "      <td>1</td>\n",
       "      <td>114709</td>\n",
       "      <td>862</td>\n",
       "      <td>8</td>\n",
       "      <td>4.0</td>\n",
       "      <td>890492517</td>\n",
       "    </tr>\n",
       "    <tr>\n",
       "      <th>...</th>\n",
       "      <td>...</td>\n",
       "      <td>...</td>\n",
       "      <td>...</td>\n",
       "      <td>...</td>\n",
       "      <td>...</td>\n",
       "      <td>...</td>\n",
       "    </tr>\n",
       "    <tr>\n",
       "      <th>25000090</th>\n",
       "      <td>209157</td>\n",
       "      <td>6671244</td>\n",
       "      <td>499546</td>\n",
       "      <td>119571</td>\n",
       "      <td>1.5</td>\n",
       "      <td>1574280748</td>\n",
       "    </tr>\n",
       "    <tr>\n",
       "      <th>25000091</th>\n",
       "      <td>209159</td>\n",
       "      <td>297986</td>\n",
       "      <td>63407</td>\n",
       "      <td>115835</td>\n",
       "      <td>3.0</td>\n",
       "      <td>1574280985</td>\n",
       "    </tr>\n",
       "    <tr>\n",
       "      <th>25000092</th>\n",
       "      <td>209163</td>\n",
       "      <td>6755366</td>\n",
       "      <td>553036</td>\n",
       "      <td>6964</td>\n",
       "      <td>4.5</td>\n",
       "      <td>1574284913</td>\n",
       "    </tr>\n",
       "    <tr>\n",
       "      <th>25000093</th>\n",
       "      <td>209169</td>\n",
       "      <td>249603</td>\n",
       "      <td>162892</td>\n",
       "      <td>119571</td>\n",
       "      <td>3.0</td>\n",
       "      <td>1574291826</td>\n",
       "    </tr>\n",
       "    <tr>\n",
       "      <th>25000094</th>\n",
       "      <td>209171</td>\n",
       "      <td>55323</td>\n",
       "      <td>79513</td>\n",
       "      <td>119571</td>\n",
       "      <td>3.0</td>\n",
       "      <td>1574291937</td>\n",
       "    </tr>\n",
       "  </tbody>\n",
       "</table>\n",
       "<p>25000095 rows × 6 columns</p>\n",
       "</div>"
      ],
      "text/plain": [
       "          movieId   imdbId  tmdbId  userId  rating   timestamp\n",
       "0               1   114709     862       2     3.5  1141415820\n",
       "1               1   114709     862       3     4.0  1439472215\n",
       "2               1   114709     862       4     3.0  1573944252\n",
       "3               1   114709     862       5     4.0   858625949\n",
       "4               1   114709     862       8     4.0   890492517\n",
       "...           ...      ...     ...     ...     ...         ...\n",
       "25000090   209157  6671244  499546  119571     1.5  1574280748\n",
       "25000091   209159   297986   63407  115835     3.0  1574280985\n",
       "25000092   209163  6755366  553036    6964     4.5  1574284913\n",
       "25000093   209169   249603  162892  119571     3.0  1574291826\n",
       "25000094   209171    55323   79513  119571     3.0  1574291937\n",
       "\n",
       "[25000095 rows x 6 columns]"
      ]
     },
     "execution_count": 153,
     "metadata": {},
     "output_type": "execute_result"
    }
   ],
   "source": [
    "ratings_combined"
   ]
  },
  {
   "cell_type": "code",
   "execution_count": 154,
   "id": "f96c3cae",
   "metadata": {},
   "outputs": [],
   "source": [
    "ratings_combined.drop(['movieId', 'imdbId', 'timestamp'], axis=1, inplace=True)"
   ]
  },
  {
   "cell_type": "code",
   "execution_count": 155,
   "id": "58a0aba4",
   "metadata": {},
   "outputs": [
    {
     "data": {
      "text/html": [
       "<div>\n",
       "<style scoped>\n",
       "    .dataframe tbody tr th:only-of-type {\n",
       "        vertical-align: middle;\n",
       "    }\n",
       "\n",
       "    .dataframe tbody tr th {\n",
       "        vertical-align: top;\n",
       "    }\n",
       "\n",
       "    .dataframe thead th {\n",
       "        text-align: right;\n",
       "    }\n",
       "</style>\n",
       "<table border=\"1\" class=\"dataframe\">\n",
       "  <thead>\n",
       "    <tr style=\"text-align: right;\">\n",
       "      <th></th>\n",
       "      <th>tmdbId</th>\n",
       "      <th>userId</th>\n",
       "      <th>rating</th>\n",
       "    </tr>\n",
       "  </thead>\n",
       "  <tbody>\n",
       "    <tr>\n",
       "      <th>0</th>\n",
       "      <td>862</td>\n",
       "      <td>2</td>\n",
       "      <td>3.5</td>\n",
       "    </tr>\n",
       "    <tr>\n",
       "      <th>1</th>\n",
       "      <td>862</td>\n",
       "      <td>3</td>\n",
       "      <td>4.0</td>\n",
       "    </tr>\n",
       "    <tr>\n",
       "      <th>2</th>\n",
       "      <td>862</td>\n",
       "      <td>4</td>\n",
       "      <td>3.0</td>\n",
       "    </tr>\n",
       "    <tr>\n",
       "      <th>3</th>\n",
       "      <td>862</td>\n",
       "      <td>5</td>\n",
       "      <td>4.0</td>\n",
       "    </tr>\n",
       "    <tr>\n",
       "      <th>4</th>\n",
       "      <td>862</td>\n",
       "      <td>8</td>\n",
       "      <td>4.0</td>\n",
       "    </tr>\n",
       "    <tr>\n",
       "      <th>...</th>\n",
       "      <td>...</td>\n",
       "      <td>...</td>\n",
       "      <td>...</td>\n",
       "    </tr>\n",
       "    <tr>\n",
       "      <th>25000090</th>\n",
       "      <td>499546</td>\n",
       "      <td>119571</td>\n",
       "      <td>1.5</td>\n",
       "    </tr>\n",
       "    <tr>\n",
       "      <th>25000091</th>\n",
       "      <td>63407</td>\n",
       "      <td>115835</td>\n",
       "      <td>3.0</td>\n",
       "    </tr>\n",
       "    <tr>\n",
       "      <th>25000092</th>\n",
       "      <td>553036</td>\n",
       "      <td>6964</td>\n",
       "      <td>4.5</td>\n",
       "    </tr>\n",
       "    <tr>\n",
       "      <th>25000093</th>\n",
       "      <td>162892</td>\n",
       "      <td>119571</td>\n",
       "      <td>3.0</td>\n",
       "    </tr>\n",
       "    <tr>\n",
       "      <th>25000094</th>\n",
       "      <td>79513</td>\n",
       "      <td>119571</td>\n",
       "      <td>3.0</td>\n",
       "    </tr>\n",
       "  </tbody>\n",
       "</table>\n",
       "<p>25000095 rows × 3 columns</p>\n",
       "</div>"
      ],
      "text/plain": [
       "          tmdbId  userId  rating\n",
       "0            862       2     3.5\n",
       "1            862       3     4.0\n",
       "2            862       4     3.0\n",
       "3            862       5     4.0\n",
       "4            862       8     4.0\n",
       "...          ...     ...     ...\n",
       "25000090  499546  119571     1.5\n",
       "25000091   63407  115835     3.0\n",
       "25000092  553036    6964     4.5\n",
       "25000093  162892  119571     3.0\n",
       "25000094   79513  119571     3.0\n",
       "\n",
       "[25000095 rows x 3 columns]"
      ]
     },
     "execution_count": 155,
     "metadata": {},
     "output_type": "execute_result"
    }
   ],
   "source": [
    "ratings_combined"
   ]
  },
  {
   "cell_type": "code",
   "execution_count": 156,
   "id": "80f0ab38",
   "metadata": {},
   "outputs": [
    {
     "data": {
      "text/plain": [
       "tmdbId      int32\n",
       "userId      int64\n",
       "rating    float64\n",
       "dtype: object"
      ]
     },
     "execution_count": 156,
     "metadata": {},
     "output_type": "execute_result"
    }
   ],
   "source": [
    "ratings_combined.dtypes"
   ]
  },
  {
   "cell_type": "code",
   "execution_count": 157,
   "id": "84315a03",
   "metadata": {},
   "outputs": [],
   "source": [
    "movies_combined = pd.merge(links, movies, on='movieId')"
   ]
  },
  {
   "cell_type": "code",
   "execution_count": 158,
   "id": "07fdbe97",
   "metadata": {},
   "outputs": [
    {
     "data": {
      "text/html": [
       "<div>\n",
       "<style scoped>\n",
       "    .dataframe tbody tr th:only-of-type {\n",
       "        vertical-align: middle;\n",
       "    }\n",
       "\n",
       "    .dataframe tbody tr th {\n",
       "        vertical-align: top;\n",
       "    }\n",
       "\n",
       "    .dataframe thead th {\n",
       "        text-align: right;\n",
       "    }\n",
       "</style>\n",
       "<table border=\"1\" class=\"dataframe\">\n",
       "  <thead>\n",
       "    <tr style=\"text-align: right;\">\n",
       "      <th></th>\n",
       "      <th>movieId</th>\n",
       "      <th>imdbId</th>\n",
       "      <th>tmdbId</th>\n",
       "      <th>title</th>\n",
       "      <th>genres</th>\n",
       "    </tr>\n",
       "  </thead>\n",
       "  <tbody>\n",
       "    <tr>\n",
       "      <th>0</th>\n",
       "      <td>1</td>\n",
       "      <td>114709</td>\n",
       "      <td>862</td>\n",
       "      <td>Toy Story (1995)</td>\n",
       "      <td>Adventure|Animation|Children|Comedy|Fantasy</td>\n",
       "    </tr>\n",
       "    <tr>\n",
       "      <th>1</th>\n",
       "      <td>2</td>\n",
       "      <td>113497</td>\n",
       "      <td>8844</td>\n",
       "      <td>Jumanji (1995)</td>\n",
       "      <td>Adventure|Children|Fantasy</td>\n",
       "    </tr>\n",
       "    <tr>\n",
       "      <th>2</th>\n",
       "      <td>3</td>\n",
       "      <td>113228</td>\n",
       "      <td>15602</td>\n",
       "      <td>Grumpier Old Men (1995)</td>\n",
       "      <td>Comedy|Romance</td>\n",
       "    </tr>\n",
       "    <tr>\n",
       "      <th>3</th>\n",
       "      <td>4</td>\n",
       "      <td>114885</td>\n",
       "      <td>31357</td>\n",
       "      <td>Waiting to Exhale (1995)</td>\n",
       "      <td>Comedy|Drama|Romance</td>\n",
       "    </tr>\n",
       "    <tr>\n",
       "      <th>4</th>\n",
       "      <td>5</td>\n",
       "      <td>113041</td>\n",
       "      <td>11862</td>\n",
       "      <td>Father of the Bride Part II (1995)</td>\n",
       "      <td>Comedy</td>\n",
       "    </tr>\n",
       "    <tr>\n",
       "      <th>...</th>\n",
       "      <td>...</td>\n",
       "      <td>...</td>\n",
       "      <td>...</td>\n",
       "      <td>...</td>\n",
       "      <td>...</td>\n",
       "    </tr>\n",
       "    <tr>\n",
       "      <th>62418</th>\n",
       "      <td>209157</td>\n",
       "      <td>6671244</td>\n",
       "      <td>499546</td>\n",
       "      <td>We (2018)</td>\n",
       "      <td>Drama</td>\n",
       "    </tr>\n",
       "    <tr>\n",
       "      <th>62419</th>\n",
       "      <td>209159</td>\n",
       "      <td>297986</td>\n",
       "      <td>63407</td>\n",
       "      <td>Window of the Soul (2001)</td>\n",
       "      <td>Documentary</td>\n",
       "    </tr>\n",
       "    <tr>\n",
       "      <th>62420</th>\n",
       "      <td>209163</td>\n",
       "      <td>6755366</td>\n",
       "      <td>553036</td>\n",
       "      <td>Bad Poems (2018)</td>\n",
       "      <td>Comedy|Drama</td>\n",
       "    </tr>\n",
       "    <tr>\n",
       "      <th>62421</th>\n",
       "      <td>209169</td>\n",
       "      <td>249603</td>\n",
       "      <td>162892</td>\n",
       "      <td>A Girl Thing (2001)</td>\n",
       "      <td>(no genres listed)</td>\n",
       "    </tr>\n",
       "    <tr>\n",
       "      <th>62422</th>\n",
       "      <td>209171</td>\n",
       "      <td>55323</td>\n",
       "      <td>79513</td>\n",
       "      <td>Women of Devil's Island (1962)</td>\n",
       "      <td>Action|Adventure|Drama</td>\n",
       "    </tr>\n",
       "  </tbody>\n",
       "</table>\n",
       "<p>62423 rows × 5 columns</p>\n",
       "</div>"
      ],
      "text/plain": [
       "       movieId   imdbId  tmdbId                               title  \\\n",
       "0            1   114709     862                    Toy Story (1995)   \n",
       "1            2   113497    8844                      Jumanji (1995)   \n",
       "2            3   113228   15602             Grumpier Old Men (1995)   \n",
       "3            4   114885   31357            Waiting to Exhale (1995)   \n",
       "4            5   113041   11862  Father of the Bride Part II (1995)   \n",
       "...        ...      ...     ...                                 ...   \n",
       "62418   209157  6671244  499546                           We (2018)   \n",
       "62419   209159   297986   63407           Window of the Soul (2001)   \n",
       "62420   209163  6755366  553036                    Bad Poems (2018)   \n",
       "62421   209169   249603  162892                 A Girl Thing (2001)   \n",
       "62422   209171    55323   79513      Women of Devil's Island (1962)   \n",
       "\n",
       "                                            genres  \n",
       "0      Adventure|Animation|Children|Comedy|Fantasy  \n",
       "1                       Adventure|Children|Fantasy  \n",
       "2                                   Comedy|Romance  \n",
       "3                             Comedy|Drama|Romance  \n",
       "4                                           Comedy  \n",
       "...                                            ...  \n",
       "62418                                        Drama  \n",
       "62419                                  Documentary  \n",
       "62420                                 Comedy|Drama  \n",
       "62421                           (no genres listed)  \n",
       "62422                       Action|Adventure|Drama  \n",
       "\n",
       "[62423 rows x 5 columns]"
      ]
     },
     "execution_count": 158,
     "metadata": {},
     "output_type": "execute_result"
    }
   ],
   "source": [
    "movies_combined"
   ]
  },
  {
   "cell_type": "code",
   "execution_count": 159,
   "id": "56e3c492",
   "metadata": {},
   "outputs": [],
   "source": [
    "movies_combined.drop(['movieId', 'imdbId', 'genres'], axis=1, inplace=True)"
   ]
  },
  {
   "cell_type": "code",
   "execution_count": 160,
   "id": "6c6b2c87",
   "metadata": {},
   "outputs": [
    {
     "data": {
      "text/html": [
       "<div>\n",
       "<style scoped>\n",
       "    .dataframe tbody tr th:only-of-type {\n",
       "        vertical-align: middle;\n",
       "    }\n",
       "\n",
       "    .dataframe tbody tr th {\n",
       "        vertical-align: top;\n",
       "    }\n",
       "\n",
       "    .dataframe thead th {\n",
       "        text-align: right;\n",
       "    }\n",
       "</style>\n",
       "<table border=\"1\" class=\"dataframe\">\n",
       "  <thead>\n",
       "    <tr style=\"text-align: right;\">\n",
       "      <th></th>\n",
       "      <th>tmdbId</th>\n",
       "      <th>title</th>\n",
       "    </tr>\n",
       "  </thead>\n",
       "  <tbody>\n",
       "    <tr>\n",
       "      <th>0</th>\n",
       "      <td>862</td>\n",
       "      <td>Toy Story (1995)</td>\n",
       "    </tr>\n",
       "    <tr>\n",
       "      <th>1</th>\n",
       "      <td>8844</td>\n",
       "      <td>Jumanji (1995)</td>\n",
       "    </tr>\n",
       "    <tr>\n",
       "      <th>2</th>\n",
       "      <td>15602</td>\n",
       "      <td>Grumpier Old Men (1995)</td>\n",
       "    </tr>\n",
       "    <tr>\n",
       "      <th>3</th>\n",
       "      <td>31357</td>\n",
       "      <td>Waiting to Exhale (1995)</td>\n",
       "    </tr>\n",
       "    <tr>\n",
       "      <th>4</th>\n",
       "      <td>11862</td>\n",
       "      <td>Father of the Bride Part II (1995)</td>\n",
       "    </tr>\n",
       "    <tr>\n",
       "      <th>...</th>\n",
       "      <td>...</td>\n",
       "      <td>...</td>\n",
       "    </tr>\n",
       "    <tr>\n",
       "      <th>62418</th>\n",
       "      <td>499546</td>\n",
       "      <td>We (2018)</td>\n",
       "    </tr>\n",
       "    <tr>\n",
       "      <th>62419</th>\n",
       "      <td>63407</td>\n",
       "      <td>Window of the Soul (2001)</td>\n",
       "    </tr>\n",
       "    <tr>\n",
       "      <th>62420</th>\n",
       "      <td>553036</td>\n",
       "      <td>Bad Poems (2018)</td>\n",
       "    </tr>\n",
       "    <tr>\n",
       "      <th>62421</th>\n",
       "      <td>162892</td>\n",
       "      <td>A Girl Thing (2001)</td>\n",
       "    </tr>\n",
       "    <tr>\n",
       "      <th>62422</th>\n",
       "      <td>79513</td>\n",
       "      <td>Women of Devil's Island (1962)</td>\n",
       "    </tr>\n",
       "  </tbody>\n",
       "</table>\n",
       "<p>62423 rows × 2 columns</p>\n",
       "</div>"
      ],
      "text/plain": [
       "       tmdbId                               title\n",
       "0         862                    Toy Story (1995)\n",
       "1        8844                      Jumanji (1995)\n",
       "2       15602             Grumpier Old Men (1995)\n",
       "3       31357            Waiting to Exhale (1995)\n",
       "4       11862  Father of the Bride Part II (1995)\n",
       "...       ...                                 ...\n",
       "62418  499546                           We (2018)\n",
       "62419   63407           Window of the Soul (2001)\n",
       "62420  553036                    Bad Poems (2018)\n",
       "62421  162892                 A Girl Thing (2001)\n",
       "62422   79513      Women of Devil's Island (1962)\n",
       "\n",
       "[62423 rows x 2 columns]"
      ]
     },
     "execution_count": 160,
     "metadata": {},
     "output_type": "execute_result"
    }
   ],
   "source": [
    "movies_combined"
   ]
  },
  {
   "cell_type": "code",
   "execution_count": 161,
   "id": "1e95dd5a",
   "metadata": {},
   "outputs": [
    {
     "data": {
      "text/plain": [
       "tmdbId     int32\n",
       "title     object\n",
       "dtype: object"
      ]
     },
     "execution_count": 161,
     "metadata": {},
     "output_type": "execute_result"
    }
   ],
   "source": [
    "movies_combined.dtypes"
   ]
  },
  {
   "cell_type": "markdown",
   "id": "c2747e47",
   "metadata": {},
   "source": [
    "# Surprise SVD"
   ]
  },
  {
   "cell_type": "code",
   "execution_count": 162,
   "id": "aa2c7aa9",
   "metadata": {},
   "outputs": [],
   "source": [
    "# Reader 객체 생성\n",
    "reader = Reader(rating_scale=(0.5, 5.0))\n",
    "\n",
    "surprise_data = Dataset.load_from_df(ratings_combined[['userId', 'tmdbId', 'rating']], reader)\n",
    "\n",
    "# surprise의 train_test_split() 사용. trainset : testset = 3 : 1\n",
    "trainset, testset = train_test_split(surprise_data, test_size=0.25, random_state=0)"
   ]
  },
  {
   "cell_type": "code",
   "execution_count": 163,
   "id": "3a50d1fb",
   "metadata": {},
   "outputs": [
    {
     "data": {
      "text/plain": [
       "<surprise.prediction_algorithms.matrix_factorization.SVD at 0x94be520>"
      ]
     },
     "execution_count": 163,
     "metadata": {},
     "output_type": "execute_result"
    }
   ],
   "source": [
    "algo = SVD() # GridSearchCV를 이용한 최적 하이퍼 파라미터 적용 필요\n",
    "algo.fit(trainset)"
   ]
  },
  {
   "cell_type": "code",
   "execution_count": 164,
   "id": "2c5fd467",
   "metadata": {},
   "outputs": [
    {
     "data": {
      "text/plain": [
       "Prediction(uid='196', iid='302', r_ui=None, est=3.533832591887252, details={'was_impossible': False})"
      ]
     },
     "execution_count": 164,
     "metadata": {},
     "output_type": "execute_result"
    }
   ],
   "source": [
    "# 사용자 아이디(uid), 아이템 아이디(iid)는 문자열로 입력\n",
    "uid = str(196)\n",
    "iid = str(302)\n",
    "\n",
    "# 추천 예측 평점 (.predict)\n",
    "pred = algo.predict(uid, iid)\n",
    "pred"
   ]
  },
  {
   "cell_type": "code",
   "execution_count": 165,
   "id": "ad485353",
   "metadata": {},
   "outputs": [
    {
     "name": "stdout",
     "output_type": "stream",
     "text": [
      "prediction type : <class 'list'>  size: 6250024\n",
      "prediction 결과의 최초 5개 추출\n"
     ]
    },
    {
     "data": {
      "text/plain": [
       "[Prediction(uid=145355, iid=91679, r_ui=4.5, est=3.3946251030941275, details={'was_impossible': False}),\n",
       " Prediction(uid=86805, iid=141, r_ui=3.0, est=3.61579035866443, details={'was_impossible': False}),\n",
       " Prediction(uid=9739, iid=424, r_ui=3.0, est=4.0202023160040525, details={'was_impossible': False}),\n",
       " Prediction(uid=144322, iid=27303, r_ui=2.5, est=2.8130119348396625, details={'was_impossible': False}),\n",
       " Prediction(uid=53896, iid=117, r_ui=4.0, est=4.374212993285064, details={'was_impossible': False})]"
      ]
     },
     "execution_count": 165,
     "metadata": {},
     "output_type": "execute_result"
    }
   ],
   "source": [
    "# 추천 예측 평점 (.test)\n",
    "predictions = algo.test( testset )\n",
    "\n",
    "print('prediction type :',type(predictions), ' size:',len(predictions))\n",
    "print('prediction 결과의 최초 5개 추출')\n",
    "\n",
    "predictions[:5]"
   ]
  },
  {
   "cell_type": "code",
   "execution_count": 166,
   "id": "1f2005a6",
   "metadata": {},
   "outputs": [
    {
     "data": {
      "text/plain": [
       "[(145355, 91679, 3.3946251030941275, {'was_impossible': False}),\n",
       " (86805, 141, 3.61579035866443, {'was_impossible': False}),\n",
       " (9739, 424, 4.0202023160040525, {'was_impossible': False})]"
      ]
     },
     "execution_count": 166,
     "metadata": {},
     "output_type": "execute_result"
    }
   ],
   "source": [
    "# 속성 확인\n",
    "[ (pred.uid, pred.iid, pred.est, pred.details) for pred in predictions[:3] ]"
   ]
  },
  {
   "cell_type": "markdown",
   "id": "fae89b44",
   "metadata": {},
   "source": [
    "# 성능 평가"
   ]
  },
  {
   "cell_type": "code",
   "execution_count": 167,
   "id": "95c012a5",
   "metadata": {},
   "outputs": [
    {
     "name": "stdout",
     "output_type": "stream",
     "text": [
      "RMSE: 0.7809\n"
     ]
    },
    {
     "data": {
      "text/plain": [
       "0.7808989569302095"
      ]
     },
     "execution_count": 167,
     "metadata": {},
     "output_type": "execute_result"
    }
   ],
   "source": [
    "# 성능 평가\n",
    "accuracy.rmse(predictions)"
   ]
  },
  {
   "cell_type": "markdown",
   "id": "7d6da027",
   "metadata": {},
   "source": [
    "# 최적 파라미터 탐색"
   ]
  },
  {
   "cell_type": "code",
   "execution_count": 13,
   "id": "aa6a0745",
   "metadata": {},
   "outputs": [
    {
     "name": "stdout",
     "output_type": "stream",
     "text": [
      "{'n_epochs': 20, 'n_factors': 50}\n",
      "0.876436307682205\n"
     ]
    }
   ],
   "source": [
    "# n_epochs: SGD 수행 시 반복 횟수, n_factors: 잠재 요인 크기\n",
    "param_grid = {\n",
    "    'n_epochs': [20, 40, 60], \n",
    "    'n_factors': [50, 100, 200]\n",
    "}\n",
    "\n",
    "# GridSearchCV\n",
    "gs = GridSearchCV(SVD, param_grid, measures=['rmse', 'mae'], cv=3) # algo가 아닌 SVD 입력하였다.\n",
    "gs.fit(surprise_data)\n",
    "\n",
    "# 최적 하이퍼 파라미터 및 그 때의 최고 성능\n",
    "print(gs.best_params['rmse'])\n",
    "print(gs.best_score['rmse'])"
   ]
  },
  {
   "cell_type": "markdown",
   "id": "13dfdde7",
   "metadata": {},
   "source": [
    "# 예상 평점 기반 영화 추천"
   ]
  },
  {
   "cell_type": "code",
   "execution_count": 168,
   "id": "602544eb",
   "metadata": {},
   "outputs": [],
   "source": [
    "# 아직 보지 않은 영화 리스트 함수\n",
    "def get_unseen_surprise(ratings, movies, userId):\n",
    "     # 특정 userId가 평점을 매긴 모든 영화 리스트\n",
    "    seen_movies = ratings[ratings['userId']== userId]['tmdbId'].tolist()\n",
    "    \n",
    "    # 모든 영화명을 list 객체로 만듬. \n",
    "    total_movies = movies['tmdbId'].tolist()\n",
    "      \n",
    "    # 한줄 for + if문으로 안 본 영화 리스트 생성\n",
    "    unseen_movies = [ movie for movie in total_movies if movie not in seen_movies]\n",
    "    \n",
    "    # 일부 정보 출력\n",
    "    total_movie_cnt = len(total_movies)\n",
    "    seen_cnt = len(seen_movies)\n",
    "    unseen_cnt = len(unseen_movies)\n",
    "    \n",
    "    print(f\"전체 영화 수: {total_movie_cnt}, 평점 매긴 영화 수: {seen_cnt}, 추천 대상 영화 수: {unseen_cnt}\")\n",
    "    \n",
    "    return unseen_movies"
   ]
  },
  {
   "cell_type": "code",
   "execution_count": 169,
   "id": "6b16697d",
   "metadata": {},
   "outputs": [],
   "source": [
    "# 예상 평점 기반 영화 리스트 추천 함수\n",
    "def recomm_movie_by_surprise(algo, userId, unseen_movies, top_n=10):\n",
    "    \n",
    "    # 아직 보지 않은 영화의 예측 평점: prediction 객체 생성\n",
    "    predictions = []    \n",
    "    for tmdbId in unseen_movies:\n",
    "        predictions.append(algo.predict(str(userId), tmdbId))\n",
    "    \n",
    "    # 리스트 내의 prediction 객체의 est를 기준으로 내림차순 정렬\n",
    "    def sortkey_est(pred):\n",
    "        return pred.est\n",
    "\n",
    "    predictions.sort(key=sortkey_est, reverse=True) # key에 리스트 내 객체의 정렬 기준을 입력\n",
    "    \n",
    "    # 상위 top_n개의 prediction 객체\n",
    "    top_predictions = predictions[:top_n]\n",
    "    \n",
    "    # 영화 아이디, 제목, 예측 평점 출력\n",
    "    print(f\"Top-{top_n} 추천 영화 리스트\")\n",
    "    \n",
    "    for pred in top_predictions:\n",
    "        \n",
    "        movie_id = pred.iid\n",
    "        movie_title = movies_combined[movies_combined[\"tmdbId\"] == movie_id][\"title\"].tolist()\n",
    "        movie_rating = pred.est\n",
    "        \n",
    "        print(f\"{movie_id} - {movie_title} : {movie_rating:.2f}\")"
   ]
  },
  {
   "cell_type": "code",
   "execution_count": 176,
   "id": "0dd46178",
   "metadata": {},
   "outputs": [
    {
     "name": "stdout",
     "output_type": "stream",
     "text": [
      "전체 영화 수: 62423, 평점 매긴 영화 수: 205, 추천 대상 영화 수: 62218\n"
     ]
    }
   ],
   "source": [
    "unseen_movies = get_unseen_surprise(ratings_combined, movies_combined, 523)"
   ]
  },
  {
   "cell_type": "code",
   "execution_count": 177,
   "id": "100bef2c",
   "metadata": {},
   "outputs": [
    {
     "name": "stdout",
     "output_type": "stream",
     "text": [
      "Top-20 추천 영화 리스트\n",
      "420714 - ['Planet Earth II (2016)'] : 4.49\n",
      "192040 - ['Planet Earth (2006)'] : 4.42\n",
      "220903 - ['Life (2009)'] : 4.40\n",
      "331214 - ['Band of Brothers (2001)'] : 4.37\n",
      "409926 - ['Cosmos'] : 4.36\n",
      "206514 - ['I, Claudius (1976)'] : 4.34\n",
      "200813 - ['The Blue Planet (2001)'] : 4.34\n",
      "488705 - ['Cosmos: A Spacetime Odissey'] : 4.33\n",
      "72095 - ['Sherlock Holmes and Dr. Watson: Acquaintance (1979)'] : 4.29\n",
      "71317 - ['Hamlet (Gamlet) (1964)'] : 4.29\n",
      "436305 - ['The Farthest (2017)'] : 4.29\n",
      "30 - ['Magnetic Rose (1995)'] : 4.28\n",
      "367647 - ['Connections (1978)'] : 4.28\n",
      "244049 - ['Drishyam (2013)'] : 4.28\n",
      "269981 - ['Twelve Angry Men (1954)'] : 4.28\n",
      "419787 - ['Death Note: Desu nôto (2006–2007)'] : 4.27\n",
      "409696 - ['Over the Garden Wall (2013)'] : 4.27\n",
      "129 - ['Spirited Away (Sen to Chihiro no kamikakushi) (2001)'] : 4.27\n",
      "65992 - ['How to Die in Oregon (2011)'] : 4.27\n",
      "463612 - ['Blue Planet II (2017)'] : 4.26\n"
     ]
    }
   ],
   "source": [
    "recomm_movie_by_surprise(algo, 523, unseen_movies, top_n=20)"
   ]
  },
  {
   "cell_type": "code",
   "execution_count": null,
   "id": "b7e2e76c",
   "metadata": {},
   "outputs": [],
   "source": []
  },
  {
   "cell_type": "code",
   "execution_count": null,
   "id": "44782b96",
   "metadata": {},
   "outputs": [],
   "source": []
  }
 ],
 "metadata": {
  "kernelspec": {
   "display_name": "Python 3",
   "language": "python",
   "name": "python3"
  },
  "language_info": {
   "codemirror_mode": {
    "name": "ipython",
    "version": 3
   },
   "file_extension": ".py",
   "mimetype": "text/x-python",
   "name": "python",
   "nbconvert_exporter": "python",
   "pygments_lexer": "ipython3",
   "version": "3.8.8"
  }
 },
 "nbformat": 4,
 "nbformat_minor": 5
}
