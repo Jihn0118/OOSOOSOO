{
 "cells": [
  {
   "cell_type": "code",
   "execution_count": 1,
   "id": "d5393bea",
   "metadata": {},
   "outputs": [],
   "source": [
    "# 라이브러리 import\n",
    "import numpy as np\n",
    "import pandas as pd\n",
    "import mariadb\n",
    "import sys\n",
    "from sklearn.feature_extraction.text import CountVectorizer  #텍스트(String) 벡터화\n",
    "from sklearn.metrics.pairwise import cosine_similarity  #코사인 유사도\n",
    "import pickle\n",
    "import gzip\n"
   ]
  },
  {
   "cell_type": "markdown",
   "id": "23b403f1",
   "metadata": {},
   "source": [
    "# DB Contents 데이터 불러오기"
   ]
  },
  {
   "cell_type": "code",
   "execution_count": 2,
   "id": "c967774e",
   "metadata": {
    "scrolled": true
   },
   "outputs": [
    {
     "name": "stderr",
     "output_type": "stream",
     "text": [
      "d:\\programming\\python\\python\\lib\\site-packages\\pandas\\io\\sql.py:761: UserWarning: pandas only support SQLAlchemy connectable(engine/connection) ordatabase string URI or sqlite3 DBAPI2 connectionother DBAPI2 objects are not tested, please consider using SQLAlchemy\n",
      "  warnings.warn(\n"
     ]
    },
    {
     "data": {
      "text/plain": "             id  _type                         title            genre  \\\n24100  m_722083  movie              ಫ್ರೆಂಚ್ ಬಿರಿಯಾನಿ            코미디,    \n28578  t_109000     tv                    이지의 코알라 월드      가족, 다큐멘터리,    \n34399   t_88067     tv                      야공중최섬량적성            코미디,    \n30695  t_194624     tv            のだめカンタービレ in ヨーロッパ                    \n17519   m_54317  movie           The Moon Inside You          다큐멘터리,    \n24157  m_724457  movie                        Hacked             공포,    \n24158  m_724536  movie    Muhammad Ali: The Greatest          다큐멘터리,    \n17477  m_539302  movie                  The Woodsman   음악, 드라마, 판타지,    \n24184  m_725487  movie                        Mergui          다큐멘터리,    \n33918   t_82936     tv                      Araponga      Soap, 드라마,    \n24235  m_727299  movie               The Last Turtle          다큐멘터리,    \n28594  t_109607     tv        Dance & Sing with True    애니메이션, Kids,    \n24296  m_729551  movie                         헌트 13             액션,    \n30629    t_1677     tv                          러브레터            드라마,    \n17415  m_537523  movie                       데들리 크러쉬        공포, 스릴러,    \n28586  t_109436     tv            Wakaalat From Home       코미디, 드라마,    \n28583  t_109304     tv                삼가야군심: 계약결혼로맨스            코미디,    \n24418  m_735168  movie                 시간의 끝에서 널 기다려            로맨스,    \n34737   t_92605     tv                        출출한 여자            드라마,    \n24115  m_722783  movie  Heaven Reaches Down to Earth            드라마,    \n34127   t_84917     tv                          시골경찰                    \n24101  m_722103  movie               ಭೀಮಸೇನ ನಳಮಹಾರಾಜ            드라마,    \n14434  m_471600  movie                 엑소시즘: 어둠의 그림자             공포,    \n23725  m_708855  movie                  On the Court            코미디,    \n28642  t_110493     tv                      첫사랑만 N년째            코미디,    \n23790  m_711700  movie          True: Rainbow Rescue          애니메이션,    \n23792  m_711802  movie                    Aquamarine          애니메이션,    \n32964   t_72896     tv                      미운 우리 새끼  Reality, Talk,    \n28629  t_110317     tv                     마이티 익스프레스    Kids, 애니메이션,    \n12711  m_434922  movie                     Videotape       드라마, 스릴러,    \n\n                     production_countries  vote_count  vote_average  \\\n24100                             India,            1          10.0   \n28578                         Australia,            5          10.0   \n34399                             China,            4          10.0   \n30695                                               1          10.0   \n17519                                               1          10.0   \n24157          United States of America,            1          10.0   \n24158                                               1          10.0   \n17477                                               1          10.0   \n24184                  Germany, Myanmar,            1          10.0   \n33918               Afghanistan, Brazil,            1          10.0   \n24235             Dominica, New Zealand,            1          10.0   \n28594                                               1          10.0   \n24296                             China,            1          10.0   \n30629                                               1          10.0   \n17415          United States of America,            1          10.0   \n28586                             India,            1          10.0   \n28583                             China,            1          10.0   \n24418                             China,            1          10.0   \n34737                       South Korea,            1          10.0   \n24115                      South Africa,            1          10.0   \n34127                                               1          10.0   \n24101                             India,            1          10.0   \n14434          United States of America,            1          10.0   \n23725                                               1          10.0   \n28642                             China,            1          10.0   \n23790          United States of America,            1          10.0   \n23792                           Austria,            2          10.0   \n32964                       South Korea,            1          10.0   \n28629  Canada, United States of America,            7          10.0   \n12711                             Italy,            1          10.0   \n\n       number_of_seasons  number_of_episodes release_date  adult  \\\n24100                NaN                 NaN   2020-07-24    0.0   \n28578                2.0                16.0   2020-09-15    NaN   \n34399                1.0                44.0   2019-03-25    NaN   \n30695                2.0                 4.0   2008-01-04    NaN   \n17519                NaN                 NaN   2009-03-08    0.0   \n24157                NaN                 NaN   2020-10-23    0.0   \n24158                NaN                 NaN   2014-01-01    0.0   \n17477                NaN                 NaN   2016-09-06    0.0   \n24184                NaN                 NaN   2019-12-01    0.0   \n33918                1.0               143.0   1990-10-15    NaN   \n24235                NaN                 NaN   2019-10-01    0.0   \n28594                1.0                11.0   2018-12-08    NaN   \n24296                NaN                 NaN   2020-08-02    0.0   \n30629                1.0               104.0   2003-02-10    NaN   \n17415                NaN                 NaN   2020-02-27    0.0   \n28586                1.0                10.0   2020-09-10    NaN   \n28583                1.0                35.0   2020-09-09    NaN   \n24418                NaN                 NaN   2020-08-25    0.0   \n34737                1.0                 1.0   2013-11-17    NaN   \n24115                NaN                 NaN   2020-09-24    0.0   \n34127                4.0                 4.0   2017-07-17    NaN   \n24101                NaN                 NaN   2020-10-29    0.0   \n14434                NaN                 NaN   2013-01-18    0.0   \n23725                NaN                 NaN   2017-06-05    0.0   \n28642                1.0                24.0   2020-09-14    NaN   \n23790                NaN                 NaN   2020-06-02    0.0   \n23792                NaN                 NaN   2020-06-15    0.0   \n32964                1.0               288.0   2016-08-26    NaN   \n28629                6.0                43.0   2020-09-22    NaN   \n12711                NaN                 NaN   2017-01-04    0.0   \n\n                            poster_path  runtime  \\\n24100   /ixS8BiwuZrkam8l5knSL4ROXtw.jpg    116.0   \n28578  /6rsZXpoLkZ64nfXJ2py6ZksRUwc.jpg      NaN   \n34399  /tQeIOuJTOfzaTv0AB5I8FBWyDh8.jpg      NaN   \n30695  /ktgyGvLDeRafvu9zB8fZ36pwc6T.jpg      NaN   \n17519  /6J2jkrVzT3P4r3qKLX8drxloecM.jpg     75.0   \n24157  /frulCclclva18JkckRfOhstIR93.jpg     71.0   \n24158  /pAb5DR5vmQ68fHHoUt9HKsBX7gn.jpg     65.0   \n17477  /5PSD8numujiggPHIaKFzOxcMUkQ.jpg     72.0   \n24184  /pzwId3z1nqZyzcIzm7iREmqprOt.jpg     42.0   \n33918  /gUXWKL3Kq1S7Dham046NyKqbiI8.jpg      NaN   \n24235  /eNCCFsAvUQSn0WGYFpyaYitrnJV.jpg     44.0   \n28594  /yypWLSc7zecShqtgIP4cyyo66e9.jpg      NaN   \n24296  /4zco9cqsbht62A9IV0f5uWhouyL.jpg     94.0   \n30629  /wT16eLR1iVygQpibMrH4e6f3IuD.jpg      NaN   \n17415  /bcZNk00yxSa6D3K3fQhPf1sPF1N.jpg     85.0   \n28586  /obs4Qbhzxp35kBTLvimb6cDlEh1.jpg      NaN   \n28583  /bv7AkI92aHsyzOhJ2jvWo9SDJnp.jpg      NaN   \n24418  /asRpXYpF9FOCw0qFxf11hdSOtBx.jpg    114.0   \n34737  /2gTpf3soHXfONv41a88NEUlzKkK.jpg      NaN   \n24115  /zItYFKKw8SnFGwkfcgnc54eu9hO.jpg     10.0   \n34127                              None      NaN   \n24101  /AvNNe1kOdpYOSDuCdpmKIdUPSGU.jpg    140.0   \n14434  /2ikkezBUYNGGIF3THQmVvAmP6dH.jpg     72.0   \n23725  /AtMHnRbRLLvCQo8EZR14qfulITe.jpg    107.0   \n28642  /pbPZry7oBTlGsQSbw60F77Tsh0n.jpg      NaN   \n23790  /16i4BDnSDcF0o3SPsh4P8r2UguM.jpg      0.0   \n23792  /nSrmdaQruA1MdWkDzlYMNMj2niT.jpg      5.0   \n32964  /5FQzjkx3zxxHNTzOqw9qMweQ4rd.jpg      NaN   \n28629  /uURwwsf4E56FNp5AwHC8sKQrEiV.jpg      NaN   \n12711  /iTW5JXnSeCLM8ou17JFa7v0RaOi.jpg     19.0   \n\n                                                overview        now_status  \\\n24100                                                                 None   \n28578  코알라 천국, 호주 마그네틱섬. 하지만 여기서도 코알라들이 어려움에 처하곤 한다. ...  Returning Series   \n34399                                                                Ended   \n30695                                                     Returning Series   \n17519                                                                 None   \n24157                                                                 None   \n24158                                                                 None   \n17477                                                                 None   \n24184                                                                 None   \n33918                                                                Ended   \n24235                                                                 None   \n28594                                                     Returning Series   \n24296  중일전쟁이 한창인 2차 세계대전 속 중국 CPC비밀요원 가오랑은 남편이 일본인에 의...              None   \n30629  어린 시절 장터에서 함바집을 하는 고모 댁에서 배달 일을 하며 가난하고 고단한 하루...             Ended   \n17415  창작 활동을 위해 한적한 시골 마을을 찾은 여성 화가 '브린'. 그곳에서 유령이 된...              None   \n28586                                                     Returning Series   \n28583                각자의 목적을 위해 시작한 계약 결혼을 그린 코믹 로맨스 드라마  Returning Series   \n24418  어린 시절 린거(리홍기)의 유일한 친구는 치우첸(이일동)이었다. 치우첸의 전학으로 ...              None   \n34737                                                                Ended   \n24115                                                                 None   \n34127  연예인들이 직접 관할 내 치안센터의 순경으로 생활하며 모든 민원을 처리해 나가는 모...  Returning Series   \n24101                                                                 None   \n14434  아브라함과 그의 퇴마사 동료들은 악령을 쫓아내는 의식을 행하며 어둠이 있는 곳에 빛...              None   \n23725                                                                 None   \n28642  피아노 치는 훈남과 창던지기 선수 괴력소녀의 운명 같은 만남, 설렘 넘치는 캠퍼스 이야기  Returning Series   \n23790                                                                 None   \n23792                                                                 None   \n32964  * 당신은 아들에 대해 얼마나 알고 있습니까?  오늘 내 아들이 누구를 만나서 어떤...  Returning Series   \n28629  마이티 익스프레스, 한번 타면 반하고 말걸? 언제나 씩씩하고 사이좋은 기차와 꼬마 ...  Returning Series   \n12711                                                                 None   \n\n                   flatrate                 rent                   buy  \\\n24100  Amazon Prime Video,                                               \n28578             Netflix,                                               \n34399       wavve, Watcha,                                               \n30695       wavve, Watcha,         Naver Store,                          \n17519   DocAlliance Films,   DocAlliance Films,    DocAlliance Films,    \n24157                                                                    \n24158                                                                    \n17477          BroadwayHD,                                               \n24184                                                                    \n33918               wavve,                                               \n24235                                                                    \n28594             Netflix,                                               \n24296              Watcha,                                               \n30629             Netflix,                                               \n17415               wavve,               wavve,                          \n28586  Amazon Prime Video,                                               \n28583       wavve, Watcha,                                               \n24418       wavve, Watcha,               wavve,          Naver Store,    \n34737              Watcha,                                               \n24115                Mubi,                                               \n34127                                                    Naver Store,    \n24101  Amazon Prime Video,                                               \n14434       wavve, Watcha,               wavve,          Naver Store,    \n23725                                                                    \n28642       wavve, Watcha,                                               \n23790             Netflix,                                               \n23792         Disney Plus,                        wavve, Naver Store,    \n32964                                                    Naver Store,    \n28629             Netflix,                                               \n12711                                                                    \n\n                                                    link  \n24100  https://www.themoviedb.org/movie/722083/watch?...  \n28578  https://www.themoviedb.org/tv/109000-izzy-s-ko...  \n34399  https://www.themoviedb.org/tv/88067/watch?loca...  \n30695  https://www.themoviedb.org/tv/194624-in/watch?...  \n17519  https://www.themoviedb.org/movie/54317-the-moo...  \n24157  https://www.themoviedb.org/movie/724457-hacked...  \n24158  https://www.themoviedb.org/movie/724536-muhamm...  \n17477  https://www.themoviedb.org/movie/539302-the-wo...  \n24184  https://www.themoviedb.org/movie/725487-mergui...  \n33918  https://www.themoviedb.org/tv/82936-araponga/w...  \n24235  https://www.themoviedb.org/movie/727299-the-la...  \n28594  https://www.themoviedb.org/tv/109607-dance-sin...  \n24296  https://www.themoviedb.org/movie/729551/watch?...  \n30629  https://www.themoviedb.org/tv/1677/watch?local...  \n17415  https://www.themoviedb.org/movie/537523-deadly...  \n28586  https://www.themoviedb.org/tv/109436-wakaalat-...  \n28583  https://www.themoviedb.org/tv/109304/watch?loc...  \n24418  https://www.themoviedb.org/movie/735168/watch?...  \n34737  https://www.themoviedb.org/tv/92605/watch?loca...  \n24115  https://www.themoviedb.org/movie/722783-heaven...  \n34127  https://www.themoviedb.org/tv/84917/watch?loca...  \n24101  https://www.themoviedb.org/movie/722103/watch?...  \n14434  https://www.themoviedb.org/movie/471600-prayer...  \n23725  https://www.themoviedb.org/movie/708855-on-the...  \n28642  https://www.themoviedb.org/tv/110493/watch?loc...  \n23790  https://www.themoviedb.org/movie/711700-true-r...  \n23792  https://www.themoviedb.org/movie/711802-aquama...  \n32964  https://www.themoviedb.org/tv/72896/watch?loca...  \n28629  https://www.themoviedb.org/tv/110317-mighty-ex...  \n12711  https://www.themoviedb.org/movie/434922-videot...  ",
      "text/html": "<div>\n<style scoped>\n    .dataframe tbody tr th:only-of-type {\n        vertical-align: middle;\n    }\n\n    .dataframe tbody tr th {\n        vertical-align: top;\n    }\n\n    .dataframe thead th {\n        text-align: right;\n    }\n</style>\n<table border=\"1\" class=\"dataframe\">\n  <thead>\n    <tr style=\"text-align: right;\">\n      <th></th>\n      <th>id</th>\n      <th>_type</th>\n      <th>title</th>\n      <th>genre</th>\n      <th>production_countries</th>\n      <th>vote_count</th>\n      <th>vote_average</th>\n      <th>number_of_seasons</th>\n      <th>number_of_episodes</th>\n      <th>release_date</th>\n      <th>adult</th>\n      <th>poster_path</th>\n      <th>runtime</th>\n      <th>overview</th>\n      <th>now_status</th>\n      <th>flatrate</th>\n      <th>rent</th>\n      <th>buy</th>\n      <th>link</th>\n    </tr>\n  </thead>\n  <tbody>\n    <tr>\n      <th>24100</th>\n      <td>m_722083</td>\n      <td>movie</td>\n      <td>ಫ್ರೆಂಚ್ ಬಿರಿಯಾನಿ</td>\n      <td>코미디,</td>\n      <td>India,</td>\n      <td>1</td>\n      <td>10.0</td>\n      <td>NaN</td>\n      <td>NaN</td>\n      <td>2020-07-24</td>\n      <td>0.0</td>\n      <td>/ixS8BiwuZrkam8l5knSL4ROXtw.jpg</td>\n      <td>116.0</td>\n      <td></td>\n      <td>None</td>\n      <td>Amazon Prime Video,</td>\n      <td></td>\n      <td></td>\n      <td>https://www.themoviedb.org/movie/722083/watch?...</td>\n    </tr>\n    <tr>\n      <th>28578</th>\n      <td>t_109000</td>\n      <td>tv</td>\n      <td>이지의 코알라 월드</td>\n      <td>가족, 다큐멘터리,</td>\n      <td>Australia,</td>\n      <td>5</td>\n      <td>10.0</td>\n      <td>2.0</td>\n      <td>16.0</td>\n      <td>2020-09-15</td>\n      <td>NaN</td>\n      <td>/6rsZXpoLkZ64nfXJ2py6ZksRUwc.jpg</td>\n      <td>NaN</td>\n      <td>코알라 천국, 호주 마그네틱섬. 하지만 여기서도 코알라들이 어려움에 처하곤 한다. ...</td>\n      <td>Returning Series</td>\n      <td>Netflix,</td>\n      <td></td>\n      <td></td>\n      <td>https://www.themoviedb.org/tv/109000-izzy-s-ko...</td>\n    </tr>\n    <tr>\n      <th>34399</th>\n      <td>t_88067</td>\n      <td>tv</td>\n      <td>야공중최섬량적성</td>\n      <td>코미디,</td>\n      <td>China,</td>\n      <td>4</td>\n      <td>10.0</td>\n      <td>1.0</td>\n      <td>44.0</td>\n      <td>2019-03-25</td>\n      <td>NaN</td>\n      <td>/tQeIOuJTOfzaTv0AB5I8FBWyDh8.jpg</td>\n      <td>NaN</td>\n      <td></td>\n      <td>Ended</td>\n      <td>wavve, Watcha,</td>\n      <td></td>\n      <td></td>\n      <td>https://www.themoviedb.org/tv/88067/watch?loca...</td>\n    </tr>\n    <tr>\n      <th>30695</th>\n      <td>t_194624</td>\n      <td>tv</td>\n      <td>のだめカンタービレ in ヨーロッパ</td>\n      <td></td>\n      <td></td>\n      <td>1</td>\n      <td>10.0</td>\n      <td>2.0</td>\n      <td>4.0</td>\n      <td>2008-01-04</td>\n      <td>NaN</td>\n      <td>/ktgyGvLDeRafvu9zB8fZ36pwc6T.jpg</td>\n      <td>NaN</td>\n      <td></td>\n      <td>Returning Series</td>\n      <td>wavve, Watcha,</td>\n      <td>Naver Store,</td>\n      <td></td>\n      <td>https://www.themoviedb.org/tv/194624-in/watch?...</td>\n    </tr>\n    <tr>\n      <th>17519</th>\n      <td>m_54317</td>\n      <td>movie</td>\n      <td>The Moon Inside You</td>\n      <td>다큐멘터리,</td>\n      <td></td>\n      <td>1</td>\n      <td>10.0</td>\n      <td>NaN</td>\n      <td>NaN</td>\n      <td>2009-03-08</td>\n      <td>0.0</td>\n      <td>/6J2jkrVzT3P4r3qKLX8drxloecM.jpg</td>\n      <td>75.0</td>\n      <td></td>\n      <td>None</td>\n      <td>DocAlliance Films,</td>\n      <td>DocAlliance Films,</td>\n      <td>DocAlliance Films,</td>\n      <td>https://www.themoviedb.org/movie/54317-the-moo...</td>\n    </tr>\n    <tr>\n      <th>24157</th>\n      <td>m_724457</td>\n      <td>movie</td>\n      <td>Hacked</td>\n      <td>공포,</td>\n      <td>United States of America,</td>\n      <td>1</td>\n      <td>10.0</td>\n      <td>NaN</td>\n      <td>NaN</td>\n      <td>2020-10-23</td>\n      <td>0.0</td>\n      <td>/frulCclclva18JkckRfOhstIR93.jpg</td>\n      <td>71.0</td>\n      <td></td>\n      <td>None</td>\n      <td></td>\n      <td></td>\n      <td></td>\n      <td>https://www.themoviedb.org/movie/724457-hacked...</td>\n    </tr>\n    <tr>\n      <th>24158</th>\n      <td>m_724536</td>\n      <td>movie</td>\n      <td>Muhammad Ali: The Greatest</td>\n      <td>다큐멘터리,</td>\n      <td></td>\n      <td>1</td>\n      <td>10.0</td>\n      <td>NaN</td>\n      <td>NaN</td>\n      <td>2014-01-01</td>\n      <td>0.0</td>\n      <td>/pAb5DR5vmQ68fHHoUt9HKsBX7gn.jpg</td>\n      <td>65.0</td>\n      <td></td>\n      <td>None</td>\n      <td></td>\n      <td></td>\n      <td></td>\n      <td>https://www.themoviedb.org/movie/724536-muhamm...</td>\n    </tr>\n    <tr>\n      <th>17477</th>\n      <td>m_539302</td>\n      <td>movie</td>\n      <td>The Woodsman</td>\n      <td>음악, 드라마, 판타지,</td>\n      <td></td>\n      <td>1</td>\n      <td>10.0</td>\n      <td>NaN</td>\n      <td>NaN</td>\n      <td>2016-09-06</td>\n      <td>0.0</td>\n      <td>/5PSD8numujiggPHIaKFzOxcMUkQ.jpg</td>\n      <td>72.0</td>\n      <td></td>\n      <td>None</td>\n      <td>BroadwayHD,</td>\n      <td></td>\n      <td></td>\n      <td>https://www.themoviedb.org/movie/539302-the-wo...</td>\n    </tr>\n    <tr>\n      <th>24184</th>\n      <td>m_725487</td>\n      <td>movie</td>\n      <td>Mergui</td>\n      <td>다큐멘터리,</td>\n      <td>Germany, Myanmar,</td>\n      <td>1</td>\n      <td>10.0</td>\n      <td>NaN</td>\n      <td>NaN</td>\n      <td>2019-12-01</td>\n      <td>0.0</td>\n      <td>/pzwId3z1nqZyzcIzm7iREmqprOt.jpg</td>\n      <td>42.0</td>\n      <td></td>\n      <td>None</td>\n      <td></td>\n      <td></td>\n      <td></td>\n      <td>https://www.themoviedb.org/movie/725487-mergui...</td>\n    </tr>\n    <tr>\n      <th>33918</th>\n      <td>t_82936</td>\n      <td>tv</td>\n      <td>Araponga</td>\n      <td>Soap, 드라마,</td>\n      <td>Afghanistan, Brazil,</td>\n      <td>1</td>\n      <td>10.0</td>\n      <td>1.0</td>\n      <td>143.0</td>\n      <td>1990-10-15</td>\n      <td>NaN</td>\n      <td>/gUXWKL3Kq1S7Dham046NyKqbiI8.jpg</td>\n      <td>NaN</td>\n      <td></td>\n      <td>Ended</td>\n      <td>wavve,</td>\n      <td></td>\n      <td></td>\n      <td>https://www.themoviedb.org/tv/82936-araponga/w...</td>\n    </tr>\n    <tr>\n      <th>24235</th>\n      <td>m_727299</td>\n      <td>movie</td>\n      <td>The Last Turtle</td>\n      <td>다큐멘터리,</td>\n      <td>Dominica, New Zealand,</td>\n      <td>1</td>\n      <td>10.0</td>\n      <td>NaN</td>\n      <td>NaN</td>\n      <td>2019-10-01</td>\n      <td>0.0</td>\n      <td>/eNCCFsAvUQSn0WGYFpyaYitrnJV.jpg</td>\n      <td>44.0</td>\n      <td></td>\n      <td>None</td>\n      <td></td>\n      <td></td>\n      <td></td>\n      <td>https://www.themoviedb.org/movie/727299-the-la...</td>\n    </tr>\n    <tr>\n      <th>28594</th>\n      <td>t_109607</td>\n      <td>tv</td>\n      <td>Dance &amp; Sing with True</td>\n      <td>애니메이션, Kids,</td>\n      <td></td>\n      <td>1</td>\n      <td>10.0</td>\n      <td>1.0</td>\n      <td>11.0</td>\n      <td>2018-12-08</td>\n      <td>NaN</td>\n      <td>/yypWLSc7zecShqtgIP4cyyo66e9.jpg</td>\n      <td>NaN</td>\n      <td></td>\n      <td>Returning Series</td>\n      <td>Netflix,</td>\n      <td></td>\n      <td></td>\n      <td>https://www.themoviedb.org/tv/109607-dance-sin...</td>\n    </tr>\n    <tr>\n      <th>24296</th>\n      <td>m_729551</td>\n      <td>movie</td>\n      <td>헌트 13</td>\n      <td>액션,</td>\n      <td>China,</td>\n      <td>1</td>\n      <td>10.0</td>\n      <td>NaN</td>\n      <td>NaN</td>\n      <td>2020-08-02</td>\n      <td>0.0</td>\n      <td>/4zco9cqsbht62A9IV0f5uWhouyL.jpg</td>\n      <td>94.0</td>\n      <td>중일전쟁이 한창인 2차 세계대전 속 중국 CPC비밀요원 가오랑은 남편이 일본인에 의...</td>\n      <td>None</td>\n      <td>Watcha,</td>\n      <td></td>\n      <td></td>\n      <td>https://www.themoviedb.org/movie/729551/watch?...</td>\n    </tr>\n    <tr>\n      <th>30629</th>\n      <td>t_1677</td>\n      <td>tv</td>\n      <td>러브레터</td>\n      <td>드라마,</td>\n      <td></td>\n      <td>1</td>\n      <td>10.0</td>\n      <td>1.0</td>\n      <td>104.0</td>\n      <td>2003-02-10</td>\n      <td>NaN</td>\n      <td>/wT16eLR1iVygQpibMrH4e6f3IuD.jpg</td>\n      <td>NaN</td>\n      <td>어린 시절 장터에서 함바집을 하는 고모 댁에서 배달 일을 하며 가난하고 고단한 하루...</td>\n      <td>Ended</td>\n      <td>Netflix,</td>\n      <td></td>\n      <td></td>\n      <td>https://www.themoviedb.org/tv/1677/watch?local...</td>\n    </tr>\n    <tr>\n      <th>17415</th>\n      <td>m_537523</td>\n      <td>movie</td>\n      <td>데들리 크러쉬</td>\n      <td>공포, 스릴러,</td>\n      <td>United States of America,</td>\n      <td>1</td>\n      <td>10.0</td>\n      <td>NaN</td>\n      <td>NaN</td>\n      <td>2020-02-27</td>\n      <td>0.0</td>\n      <td>/bcZNk00yxSa6D3K3fQhPf1sPF1N.jpg</td>\n      <td>85.0</td>\n      <td>창작 활동을 위해 한적한 시골 마을을 찾은 여성 화가 '브린'. 그곳에서 유령이 된...</td>\n      <td>None</td>\n      <td>wavve,</td>\n      <td>wavve,</td>\n      <td></td>\n      <td>https://www.themoviedb.org/movie/537523-deadly...</td>\n    </tr>\n    <tr>\n      <th>28586</th>\n      <td>t_109436</td>\n      <td>tv</td>\n      <td>Wakaalat From Home</td>\n      <td>코미디, 드라마,</td>\n      <td>India,</td>\n      <td>1</td>\n      <td>10.0</td>\n      <td>1.0</td>\n      <td>10.0</td>\n      <td>2020-09-10</td>\n      <td>NaN</td>\n      <td>/obs4Qbhzxp35kBTLvimb6cDlEh1.jpg</td>\n      <td>NaN</td>\n      <td></td>\n      <td>Returning Series</td>\n      <td>Amazon Prime Video,</td>\n      <td></td>\n      <td></td>\n      <td>https://www.themoviedb.org/tv/109436-wakaalat-...</td>\n    </tr>\n    <tr>\n      <th>28583</th>\n      <td>t_109304</td>\n      <td>tv</td>\n      <td>삼가야군심: 계약결혼로맨스</td>\n      <td>코미디,</td>\n      <td>China,</td>\n      <td>1</td>\n      <td>10.0</td>\n      <td>1.0</td>\n      <td>35.0</td>\n      <td>2020-09-09</td>\n      <td>NaN</td>\n      <td>/bv7AkI92aHsyzOhJ2jvWo9SDJnp.jpg</td>\n      <td>NaN</td>\n      <td>각자의 목적을 위해 시작한 계약 결혼을 그린 코믹 로맨스 드라마</td>\n      <td>Returning Series</td>\n      <td>wavve, Watcha,</td>\n      <td></td>\n      <td></td>\n      <td>https://www.themoviedb.org/tv/109304/watch?loc...</td>\n    </tr>\n    <tr>\n      <th>24418</th>\n      <td>m_735168</td>\n      <td>movie</td>\n      <td>시간의 끝에서 널 기다려</td>\n      <td>로맨스,</td>\n      <td>China,</td>\n      <td>1</td>\n      <td>10.0</td>\n      <td>NaN</td>\n      <td>NaN</td>\n      <td>2020-08-25</td>\n      <td>0.0</td>\n      <td>/asRpXYpF9FOCw0qFxf11hdSOtBx.jpg</td>\n      <td>114.0</td>\n      <td>어린 시절 린거(리홍기)의 유일한 친구는 치우첸(이일동)이었다. 치우첸의 전학으로 ...</td>\n      <td>None</td>\n      <td>wavve, Watcha,</td>\n      <td>wavve,</td>\n      <td>Naver Store,</td>\n      <td>https://www.themoviedb.org/movie/735168/watch?...</td>\n    </tr>\n    <tr>\n      <th>34737</th>\n      <td>t_92605</td>\n      <td>tv</td>\n      <td>출출한 여자</td>\n      <td>드라마,</td>\n      <td>South Korea,</td>\n      <td>1</td>\n      <td>10.0</td>\n      <td>1.0</td>\n      <td>1.0</td>\n      <td>2013-11-17</td>\n      <td>NaN</td>\n      <td>/2gTpf3soHXfONv41a88NEUlzKkK.jpg</td>\n      <td>NaN</td>\n      <td></td>\n      <td>Ended</td>\n      <td>Watcha,</td>\n      <td></td>\n      <td></td>\n      <td>https://www.themoviedb.org/tv/92605/watch?loca...</td>\n    </tr>\n    <tr>\n      <th>24115</th>\n      <td>m_722783</td>\n      <td>movie</td>\n      <td>Heaven Reaches Down to Earth</td>\n      <td>드라마,</td>\n      <td>South Africa,</td>\n      <td>1</td>\n      <td>10.0</td>\n      <td>NaN</td>\n      <td>NaN</td>\n      <td>2020-09-24</td>\n      <td>0.0</td>\n      <td>/zItYFKKw8SnFGwkfcgnc54eu9hO.jpg</td>\n      <td>10.0</td>\n      <td></td>\n      <td>None</td>\n      <td>Mubi,</td>\n      <td></td>\n      <td></td>\n      <td>https://www.themoviedb.org/movie/722783-heaven...</td>\n    </tr>\n    <tr>\n      <th>34127</th>\n      <td>t_84917</td>\n      <td>tv</td>\n      <td>시골경찰</td>\n      <td></td>\n      <td></td>\n      <td>1</td>\n      <td>10.0</td>\n      <td>4.0</td>\n      <td>4.0</td>\n      <td>2017-07-17</td>\n      <td>NaN</td>\n      <td>None</td>\n      <td>NaN</td>\n      <td>연예인들이 직접 관할 내 치안센터의 순경으로 생활하며 모든 민원을 처리해 나가는 모...</td>\n      <td>Returning Series</td>\n      <td></td>\n      <td></td>\n      <td>Naver Store,</td>\n      <td>https://www.themoviedb.org/tv/84917/watch?loca...</td>\n    </tr>\n    <tr>\n      <th>24101</th>\n      <td>m_722103</td>\n      <td>movie</td>\n      <td>ಭೀಮಸೇನ ನಳಮಹಾರಾಜ</td>\n      <td>드라마,</td>\n      <td>India,</td>\n      <td>1</td>\n      <td>10.0</td>\n      <td>NaN</td>\n      <td>NaN</td>\n      <td>2020-10-29</td>\n      <td>0.0</td>\n      <td>/AvNNe1kOdpYOSDuCdpmKIdUPSGU.jpg</td>\n      <td>140.0</td>\n      <td></td>\n      <td>None</td>\n      <td>Amazon Prime Video,</td>\n      <td></td>\n      <td></td>\n      <td>https://www.themoviedb.org/movie/722103/watch?...</td>\n    </tr>\n    <tr>\n      <th>14434</th>\n      <td>m_471600</td>\n      <td>movie</td>\n      <td>엑소시즘: 어둠의 그림자</td>\n      <td>공포,</td>\n      <td>United States of America,</td>\n      <td>1</td>\n      <td>10.0</td>\n      <td>NaN</td>\n      <td>NaN</td>\n      <td>2013-01-18</td>\n      <td>0.0</td>\n      <td>/2ikkezBUYNGGIF3THQmVvAmP6dH.jpg</td>\n      <td>72.0</td>\n      <td>아브라함과 그의 퇴마사 동료들은 악령을 쫓아내는 의식을 행하며 어둠이 있는 곳에 빛...</td>\n      <td>None</td>\n      <td>wavve, Watcha,</td>\n      <td>wavve,</td>\n      <td>Naver Store,</td>\n      <td>https://www.themoviedb.org/movie/471600-prayer...</td>\n    </tr>\n    <tr>\n      <th>23725</th>\n      <td>m_708855</td>\n      <td>movie</td>\n      <td>On the Court</td>\n      <td>코미디,</td>\n      <td></td>\n      <td>1</td>\n      <td>10.0</td>\n      <td>NaN</td>\n      <td>NaN</td>\n      <td>2017-06-05</td>\n      <td>0.0</td>\n      <td>/AtMHnRbRLLvCQo8EZR14qfulITe.jpg</td>\n      <td>107.0</td>\n      <td></td>\n      <td>None</td>\n      <td></td>\n      <td></td>\n      <td></td>\n      <td>https://www.themoviedb.org/movie/708855-on-the...</td>\n    </tr>\n    <tr>\n      <th>28642</th>\n      <td>t_110493</td>\n      <td>tv</td>\n      <td>첫사랑만 N년째</td>\n      <td>코미디,</td>\n      <td>China,</td>\n      <td>1</td>\n      <td>10.0</td>\n      <td>1.0</td>\n      <td>24.0</td>\n      <td>2020-09-14</td>\n      <td>NaN</td>\n      <td>/pbPZry7oBTlGsQSbw60F77Tsh0n.jpg</td>\n      <td>NaN</td>\n      <td>피아노 치는 훈남과 창던지기 선수 괴력소녀의 운명 같은 만남, 설렘 넘치는 캠퍼스 이야기</td>\n      <td>Returning Series</td>\n      <td>wavve, Watcha,</td>\n      <td></td>\n      <td></td>\n      <td>https://www.themoviedb.org/tv/110493/watch?loc...</td>\n    </tr>\n    <tr>\n      <th>23790</th>\n      <td>m_711700</td>\n      <td>movie</td>\n      <td>True: Rainbow Rescue</td>\n      <td>애니메이션,</td>\n      <td>United States of America,</td>\n      <td>1</td>\n      <td>10.0</td>\n      <td>NaN</td>\n      <td>NaN</td>\n      <td>2020-06-02</td>\n      <td>0.0</td>\n      <td>/16i4BDnSDcF0o3SPsh4P8r2UguM.jpg</td>\n      <td>0.0</td>\n      <td></td>\n      <td>None</td>\n      <td>Netflix,</td>\n      <td></td>\n      <td></td>\n      <td>https://www.themoviedb.org/movie/711700-true-r...</td>\n    </tr>\n    <tr>\n      <th>23792</th>\n      <td>m_711802</td>\n      <td>movie</td>\n      <td>Aquamarine</td>\n      <td>애니메이션,</td>\n      <td>Austria,</td>\n      <td>2</td>\n      <td>10.0</td>\n      <td>NaN</td>\n      <td>NaN</td>\n      <td>2020-06-15</td>\n      <td>0.0</td>\n      <td>/nSrmdaQruA1MdWkDzlYMNMj2niT.jpg</td>\n      <td>5.0</td>\n      <td></td>\n      <td>None</td>\n      <td>Disney Plus,</td>\n      <td></td>\n      <td>wavve, Naver Store,</td>\n      <td>https://www.themoviedb.org/movie/711802-aquama...</td>\n    </tr>\n    <tr>\n      <th>32964</th>\n      <td>t_72896</td>\n      <td>tv</td>\n      <td>미운 우리 새끼</td>\n      <td>Reality, Talk,</td>\n      <td>South Korea,</td>\n      <td>1</td>\n      <td>10.0</td>\n      <td>1.0</td>\n      <td>288.0</td>\n      <td>2016-08-26</td>\n      <td>NaN</td>\n      <td>/5FQzjkx3zxxHNTzOqw9qMweQ4rd.jpg</td>\n      <td>NaN</td>\n      <td>* 당신은 아들에 대해 얼마나 알고 있습니까?  오늘 내 아들이 누구를 만나서 어떤...</td>\n      <td>Returning Series</td>\n      <td></td>\n      <td></td>\n      <td>Naver Store,</td>\n      <td>https://www.themoviedb.org/tv/72896/watch?loca...</td>\n    </tr>\n    <tr>\n      <th>28629</th>\n      <td>t_110317</td>\n      <td>tv</td>\n      <td>마이티 익스프레스</td>\n      <td>Kids, 애니메이션,</td>\n      <td>Canada, United States of America,</td>\n      <td>7</td>\n      <td>10.0</td>\n      <td>6.0</td>\n      <td>43.0</td>\n      <td>2020-09-22</td>\n      <td>NaN</td>\n      <td>/uURwwsf4E56FNp5AwHC8sKQrEiV.jpg</td>\n      <td>NaN</td>\n      <td>마이티 익스프레스, 한번 타면 반하고 말걸? 언제나 씩씩하고 사이좋은 기차와 꼬마 ...</td>\n      <td>Returning Series</td>\n      <td>Netflix,</td>\n      <td></td>\n      <td></td>\n      <td>https://www.themoviedb.org/tv/110317-mighty-ex...</td>\n    </tr>\n    <tr>\n      <th>12711</th>\n      <td>m_434922</td>\n      <td>movie</td>\n      <td>Videotape</td>\n      <td>드라마, 스릴러,</td>\n      <td>Italy,</td>\n      <td>1</td>\n      <td>10.0</td>\n      <td>NaN</td>\n      <td>NaN</td>\n      <td>2017-01-04</td>\n      <td>0.0</td>\n      <td>/iTW5JXnSeCLM8ou17JFa7v0RaOi.jpg</td>\n      <td>19.0</td>\n      <td></td>\n      <td>None</td>\n      <td></td>\n      <td></td>\n      <td></td>\n      <td>https://www.themoviedb.org/movie/434922-videot...</td>\n    </tr>\n  </tbody>\n</table>\n</div>"
     },
     "execution_count": 2,
     "metadata": {},
     "output_type": "execute_result"
    }
   ],
   "source": [
    "conn = mariadb.connect(\n",
    "    user=\"eoeo0326\",\n",
    "    password=\"2017150009\",\n",
    "    host=\"oosoords.cqo7bp08tx6h.ap-northeast-2.rds.amazonaws.com\",\n",
    "    port=3306,\n",
    "    db=\"oosooDB\"\n",
    ")\n",
    "\n",
    "contents_query = \"SELECT * FROM contents\"\n",
    "\n",
    "contents_df = pd.read_sql(contents_query, conn)\n",
    "\n",
    "contents_df.sort_values(by='vote_average', ascending=False).head(30)"
   ]
  },
  {
   "cell_type": "code",
   "execution_count": 3,
   "id": "8716c4fd",
   "metadata": {},
   "outputs": [],
   "source": [
    "# vote_count가 적은 작품들이 vote_average 상위에 노출되는것을 알 수 있음\n",
    "# 이를 해결하기 위해 IMDB의 weighted_average 사용"
   ]
  },
  {
   "cell_type": "markdown",
   "id": "ebb44ef1",
   "metadata": {},
   "source": [
    "# IMDB Weighted Vote Average"
   ]
  },
  {
   "cell_type": "code",
   "execution_count": 4,
   "id": "db4a4edc",
   "metadata": {
    "scrolled": true
   },
   "outputs": [
    {
     "data": {
      "text/plain": "             id  _type                title  \\\n6594      m_278  movie               쇼생크 탈출   \n5077      m_238  movie                   대부   \n30247    t_1396     tv              브레이킹 배드   \n2463      m_155  movie               다크 나이트   \n32590   t_69050     tv                 리버데일   \n12147     m_424  movie              쉰들러 리스트   \n31729   t_60625     tv               릭 앤 모티   \n23041     m_680  movie                펄프 픽션   \n1478       m_13  movie              포레스트 검프   \n33143   t_75006     tv            엄브렐러 아카데미   \n1196      m_122  movie        반지의 제왕: 왕의 귀환   \n32358   t_66732     tv              기묘한 이야기   \n5129      m_240  movie                 대부 2   \n6340    m_27205  movie                  인셉션   \n15538     m_497  movie                그린 마일   \n15505  m_496243  movie                  기생충   \n2538   m_157336  movie                인터스텔라   \n1461      m_129  movie         센과 치히로의 행방불명   \n17814     m_550  movie               파이트 클럽   \n32012   t_63174     tv                  루시퍼   \n1120      m_120  movie       반지의 제왕: 반지 원정대   \n21157     m_637  movie             인생은 아름다워   \n32825   t_71712     tv                 굿 닥터   \n1143      m_121  movie       반지의 제왕: 두 개의 탑   \n30269    t_1399     tv               왕좌의 게임   \n25142     m_769  movie               좋은 친구들   \n30892   t_31910     tv              나루토 질풍전   \n3577     m_1891  movie  스타워즈 에피소드 5: 제국의 역습   \n10217  m_372058  movie              너의 이름은.   \n5272   m_244786  movie                 위플래쉬   \n\n                                                   genre  \\\n6594                                           드라마, 범죄,    \n5077                                           드라마, 범죄,    \n30247                                              드라마,    \n2463                                  드라마, 액션, 범죄, 스릴러,    \n32590                                    범죄, 드라마, 미스터리,    \n12147                                      드라마, 역사, 전쟁,    \n31729  애니메이션, 코미디, Sci-Fi & Fantasy, Action & Adventu...   \n23041                                          스릴러, 범죄,    \n1478                                     코미디, 드라마, 로맨스,    \n33143        Action & Adventure, Sci-Fi & Fantasy, 드라마,    \n1196                                       모험, 판타지, 액션,    \n32358                      드라마, 미스터리, Sci-Fi & Fantasy,    \n5129                                           드라마, 범죄,    \n6340                                        액션, SF, 모험,    \n15538                                     판타지, 드라마, 범죄,    \n15505                                    코미디, 스릴러, 드라마,    \n2538                                       모험, 드라마, SF,    \n1461                                    애니메이션, 가족, 판타지,    \n17814                                              드라마,    \n32012                             범죄, Sci-Fi & Fantasy,    \n1120                                       모험, 판타지, 액션,    \n21157                                         코미디, 드라마,    \n32825                                              드라마,    \n1143                                       모험, 판타지, 액션,    \n30269        Sci-Fi & Fantasy, 드라마, Action & Adventure,    \n25142                                          드라마, 범죄,    \n30892      애니메이션, Action & Adventure, Sci-Fi & Fantasy,    \n3577                                        모험, 액션, SF,    \n10217                                  로맨스, 애니메이션, 드라마,    \n5272                                           드라마, 음악,    \n\n                             production_countries  vote_count  vote_average  \\\n6594                   United States of America,        20723           8.7   \n5077                   United States of America,        15465           8.7   \n30247                  United States of America,         8262           8.8   \n2463   United Kingdom, United States of America,        26725           8.5   \n32590                  United States of America,        12497           8.6   \n12147                  United States of America,        12366           8.6   \n31729                  United States of America,         6170           8.8   \n23041                  United States of America,        22599           8.5   \n1478                   United States of America,        22068           8.5   \n33143          Canada, United States of America,         7676           8.7   \n1196      New Zealand, United States of America,        18975           8.5   \n32358                  United States of America,         9521           8.6   \n5129                   United States of America,         9319           8.6   \n6340   United Kingdom, United States of America,        30907           8.4   \n15538                  United States of America,        13464           8.5   \n15505                               South Korea,        13246           8.5   \n2538   United Kingdom, United States of America,        27864           8.4   \n1461                                      Japan,        12356           8.5   \n17814         Germany, United States of America,        23442           8.4   \n32012                  United States of America,        11638           8.5   \n1120      New Zealand, United States of America,        20406           8.4   \n21157                                     Italy,        10829           8.5   \n32825                  United States of America,        10300           8.5   \n1143      New Zealand, United States of America,        17643           8.4   \n30269  United Kingdom, United States of America,        17159           8.4   \n25142                  United States of America,         9789           8.5   \n30892                                     Japan,         6652           8.6   \n3577                   United States of America,        13834           8.4   \n10217                                     Japan,         8403           8.5   \n5272                   United States of America,        11889           8.4   \n\n       number_of_seasons  number_of_episodes release_date  adult  \\\n6594                 NaN                 NaN   1994-09-23    0.0   \n5077                 NaN                 NaN   1972-03-14    0.0   \n30247                5.0                62.0   2008-01-20    NaN   \n2463                 NaN                 NaN   2008-07-14    0.0   \n32590                6.0               102.0   2017-01-26    NaN   \n12147                NaN                 NaN   1993-11-30    0.0   \n31729                5.0                51.0   2013-12-02    NaN   \n23041                NaN                 NaN   1994-09-10    0.0   \n1478                 NaN                 NaN   1994-07-06    0.0   \n33143                3.0                30.0   2019-02-15    NaN   \n1196                 NaN                 NaN   2003-12-01    0.0   \n32358                4.0                34.0   2016-07-15    NaN   \n5129                 NaN                 NaN   1974-12-20    0.0   \n6340                 NaN                 NaN   2010-07-15    0.0   \n15538                NaN                 NaN   1999-12-10    0.0   \n15505                NaN                 NaN   2019-05-30    0.0   \n2538                 NaN                 NaN   2014-11-05    0.0   \n1461                 NaN                 NaN   2001-07-20    0.0   \n17814                NaN                 NaN   1999-10-15    0.0   \n32012                6.0                93.0   2016-01-25    NaN   \n1120                 NaN                 NaN   2001-12-18    0.0   \n21157                NaN                 NaN   1997-12-20    0.0   \n32825                5.0                88.0   2017-09-25    NaN   \n1143                 NaN                 NaN   2002-12-18    0.0   \n30269                8.0                73.0   2011-04-17    NaN   \n25142                NaN                 NaN   1990-09-12    0.0   \n30892               20.0               500.0   2007-02-15    NaN   \n3577                 NaN                 NaN   1980-05-20    0.0   \n10217                NaN                 NaN   2016-08-26    0.0   \n5272                 NaN                 NaN   2014-10-10    0.0   \n\n                            poster_path  runtime  \\\n6594   /oAt6OtpwYCdJI76AVtVKW1eorYx.jpg    142.0   \n5077   /cOwVs8eYA4G9ZQs7hIRSoiZr46Q.jpg    175.0   \n30247  /ztkUQFLlC19CCMYHW9o1zWhJRNq.jpg      NaN   \n2463   /f6dNinWX8rBM79JXKcShkfSh2oA.jpg    152.0   \n32590  /6zBWSuYW3Ps1nTfeMS8siS4KUaA.jpg      NaN   \n12147  /oyyUcGwLX7LTFS1pQbLrQpyzIyt.jpg    195.0   \n31729  /8kOWDBK6XlPUzckuHDo3wwVRFwt.jpg      NaN   \n23041  /6lXRHGoEbnnBUKsuqpL9JxD4DzT.jpg    154.0   \n1478   /xdJxoq0dtkchOkUz5UVKuxn7a2V.jpg    142.0   \n33143   /UBhjjSojL8z2ThtitnyWaKM8nq.jpg      NaN   \n1196   /tAXXuEAKLk2mOEIJzwajJQEnVZu.jpg    199.0   \n32358  /mpOQpOKdo2XJnTqRzo1lTmDNsc1.jpg      NaN   \n5129   /cj9UsJEN5bNf6ZoF1BbKjKN81hc.jpg    202.0   \n6340   /jSm8mzp7sucgL8NwINIoAmx4dS5.jpg    148.0   \n15538  /yuSpRhrTIJa5JN8oESrfD2bndp1.jpg    189.0   \n15505  /jjHccoFjbqlfr4VGLVLT7yek0Xn.jpg    131.0   \n2538   /zDNAeWU0PxKolEX1D8Vn1qWhGjH.jpg    169.0   \n1461   /u1L4qxIu5sC2P082uMHYt7Ifvnj.jpg    124.0   \n17814  /uEsdm0noLfmkcVrZlyyuXp9e5I7.jpg    139.0   \n32012  /4EYPN5mVIhKLfxGruy7Dy41dTVn.jpg      NaN   \n1120   /7uCvKNKKLRqYYyHIRpphi3yUE6Z.jpg    227.0   \n21157  /yjOqQsQHdsEZfAosZERqHiwjaty.jpg    116.0   \n32825  /z1K4mJwISETia59rrnMdXxzoSrZ.jpg      NaN   \n1143   /hjGjAdEPJF2unG8yseu5mcVb5cx.jpg    177.0   \n30269  /u3bZgnGQ9T01sWNhyveQz0wH0Hl.jpg      NaN   \n25142  /zF9hSBS1t7PVFLo01GrJ3OjGi67.jpg    146.0   \n30892  /qOxedwaJzdms2alAmIEHEnDeDzg.jpg      NaN   \n3577   /icaO5w8uLVm4JxMew71JJrQE2YX.jpg    124.0   \n10217  /wx1Dxr4UyvN18SyC5GsVWWWtYja.jpg    106.0   \n5272   /fz6osxiG7BWqnLoNgAlekpgSthf.jpg    106.0   \n\n                                                overview        now_status  \\\n6594   촉망받는 은행 간부 앤디 듀프레인은 아내와 그녀의 정부를 살해했다는 누명을 쓴다. ...              None   \n5077   시실리에서 이민온 뒤, 정치권까지 영향력을 미치는 거물로 자리잡은 돈 꼴레오네는 갖...              None   \n30247  2008년 1월 AMC에서 방영을 시작한 범죄 스릴러. Breaking Bad는 막...             Ended   \n2463   범죄와 부정부패를 제거하여 고담시를 지키려는 배트맨. 그는 짐 고든 형사와 패기 넘...              None   \n32590  평화로운 소도시 리버데일에서 살아가는 아치와 친구들이 복잡한 연애, 섹스, 학교생활...  Returning Series   \n12147  2차 세계대전 당시 독일군이 점령한 폴란드. 시류에 맞춰 자신의 성공을 추구하는 기...              None   \n31729  술에 절어 사는 천재 과학자 릭은 투정이 심한 10대 손자 모티를 데리고 외계와 대...  Returning Series   \n23041  펌프킨와 허니 버니가 레스토랑에서 강도 행각을 벌이기 시작한다. 빈센트와 그 동료 ...              None   \n1478   불편한 다리, 남들보다 조금 떨어지는 지능을 가진 포레스트 검프는 헌신적인 어머니의...              None   \n33143  초능력을 가진 남매들이 아버지의 장례식에서 다시 모인다. 그들 앞에 드러나는 가족의...  Returning Series   \n1196   사우론이 인간들의 마지막 요새인 곤도르를 향해 야욕을 드러내고 있는 한편, 아라곤은...              None   \n32358  인디애나주의 작은 마을에서 행방불명된 소년. 이와 함께 미스터리한 힘을 가진 소녀가...  Returning Series   \n5129   아버지의 장례식 도중에 맏아들 파올로가 총에 맞아 죽고, 비토(로버트 드니로)는 겨...              None   \n6340   타인의 꿈과 접속해 생각을 빼낼 수 있는 근미래, 돔 코브는 꿈의 보안 프로그래머이...              None   \n15538  미국 루이지애나의 콜드 마운틴 교도소. 폴은 사형수 감방의 간수장으로 일하고 있다....              None   \n15505  전원 백수로 살 길 막막하지만 사이는 좋은 기택 가족. 장남 기우에게 명문대생 친구...              None   \n2538   세계 각국의 정부와 경제가 완전히 붕괴된 미래가 다가온다. 지난 20세기에 범한 잘...              None   \n1461   평범한 열 살 짜리 소녀 치히로 식구는 이사 가던 중 길을 잘못 들어 낡은 터널을 ...              None   \n17814  자동차 회사의 리콜 심사관으로 일하는 주인공(에드워드 노튼)은 일상의 무료함과 공허...              None   \n32012  지긋지긋한 지옥 생활을 청산하고 은퇴를 선언한 악마. LA로 와 나이트클럽을 열고 ...             Ended   \n1120   호빗이라 불리우는 난장이 종족 중의 한 명인 프로도는 자신의 삼촌에게서 우연히 절대...              None   \n21157  로마에 갓 상경한 시골 총각 귀도는 운명처럼 만난 여인 도라에게 첫눈에 반한다. 넘...              None   \n32825  자폐증을 가진 젊은 외과 의사가 명문 병원에 들어가게된다. 이에 사람들과 소통하지 ...  Returning Series   \n1143   9명의 반지원정대는 사우론의 세력에 맞서 반지를 지켜냈지만 반지 원정대는 뿔뿔이 흩...              None   \n30269  2011년 4월 HBO에서 방영을 시작한 판타지물. 조지 R.R. 마틴의 얼음과 불...             Ended   \n25142  아일랜드계 이탈리아인 헨리 힐와 토미는 13살에 마피아에 입문해 지미와 함께 트럭이...              None   \n30892  <주간 소년 점프>에 연재되면서 폭발적인 인기를 모았던 '나루토'를 애니메이션으로 ...             Ended   \n3577   제국군은 데스스타를 잃은 뒤에도 여전히 강력한 화력으로 반란군을 수세로 몰아넣었고,...              None   \n10217  시골에 사는 소녀 미츠하(가미시라이시 모네)는 어느 날 잠에서 깬 후 자신의 몸이 ...              None   \n5272   최고의 드러머가 되기 위해서라면 무엇이든 할 각오가 되어있는 음악대학 신입생 앤드류...              None   \n\n                                         flatrate                  rent  \\\n6594                     Netflix, wavve, Watcha,   wavve, Naver Store,    \n5077                                                            wavve,    \n30247                                   Netflix,                          \n2463                                      wavve,   wavve, Naver Store,    \n32590                                   Netflix,                          \n12147                    Netflix, wavve, Watcha,   wavve, Naver Store,    \n31729                                   Netflix,                          \n23041                                     wavve,                          \n1478                     Netflix, wavve, Watcha,   wavve, Naver Store,    \n33143                                   Netflix,                          \n1196                                      wavve,   wavve, Naver Store,    \n32358                                   Netflix,                          \n5129                                                            wavve,    \n6340                              wavve, Watcha,   wavve, Naver Store,    \n15538                                   Netflix,                wavve,    \n15505                           Netflix, Watcha,   wavve, Naver Store,    \n2538                     Netflix, wavve, Watcha,   wavve, Naver Store,    \n1461                                    Netflix,          Naver Store,    \n17814  Netflix, Amazon Prime Video, Disney Plus,                          \n32012                                   Netflix,          Naver Store,    \n1120                              wavve, Watcha,   wavve, Naver Store,    \n21157                    Netflix, wavve, Watcha,          Naver Store,    \n32825                                   Netflix,          Naver Store,    \n1143                                      wavve,   wavve, Naver Store,    \n30269                                     wavve,                          \n25142                                                           wavve,    \n30892                             wavve, Watcha,          Naver Store,    \n3577                                Disney Plus,                          \n10217                           Netflix, Watcha,                wavve,    \n5272                                     Watcha,   wavve, Naver Store,    \n\n                        buy  \\\n6594   wavve, Naver Store,    \n5077                wavve,    \n30247                         \n2463   wavve, Naver Store,    \n32590                         \n12147  wavve, Naver Store,    \n31729                         \n23041                         \n1478   wavve, Naver Store,    \n33143                         \n1196   wavve, Naver Store,    \n32358                         \n5129                wavve,    \n6340   wavve, Naver Store,    \n15538               wavve,    \n15505  wavve, Naver Store,    \n2538   wavve, Naver Store,    \n1461          Naver Store,    \n17814               wavve,    \n32012         Naver Store,    \n1120   wavve, Naver Store,    \n21157         Naver Store,    \n32825         Naver Store,    \n1143   wavve, Naver Store,    \n30269                         \n25142               wavve,    \n30892                         \n3577   wavve, Naver Store,    \n10217         Naver Store,    \n5272   wavve, Naver Store,    \n\n                                                    link  weighted_average  \n6594   https://www.themoviedb.org/movie/278-the-shaws...          8.573413  \n5077   https://www.themoviedb.org/movie/238-the-godfa...          8.532297  \n30247  https://www.themoviedb.org/tv/1396-breaking-ba...          8.489807  \n2463   https://www.themoviedb.org/movie/155-the-dark-...          8.406362  \n32590  https://www.themoviedb.org/tv/69050-riverdale/...          8.400115  \n12147  https://www.themoviedb.org/movie/424-schindler...          8.398114  \n31729  https://www.themoviedb.org/tv/60625-rick-and-m...          8.395665  \n23041  https://www.themoviedb.org/movie/680-pulp-fict...          8.389796  \n1478   https://www.themoviedb.org/movie/13-forrest-gu...          8.387228  \n33143  https://www.themoviedb.org/tv/75006-the-umbrel...          8.376773  \n1196   https://www.themoviedb.org/movie/122-the-lord-...          8.369521  \n32358  https://www.themoviedb.org/tv/66732-stranger-t...          8.342046  \n5129   https://www.themoviedb.org/movie/240-the-godfa...          8.336857  \n6340   https://www.themoviedb.org/movie/27205-incepti...          8.321028  \n15538  https://www.themoviedb.org/movie/497-the-green...          8.318835  \n15505  https://www.themoviedb.org/movie/496243/watch?...          8.316008  \n2538   https://www.themoviedb.org/movie/157336-inters...          8.312622  \n1461   https://www.themoviedb.org/movie/129/watch?loc...          8.303488  \n17814  https://www.themoviedb.org/movie/550-fight-clu...          8.296632  \n32012  https://www.themoviedb.org/tv/63174-lucifer/wa...          8.292073  \n1120   https://www.themoviedb.org/movie/120-the-lord-...          8.281779  \n21157  https://www.themoviedb.org/movie/637-la-vita-e...          8.277512  \n32825  https://www.themoviedb.org/tv/71712-the-good-d...          8.266834  \n1143   https://www.themoviedb.org/movie/121-the-lord-...          8.263994  \n30269  https://www.themoviedb.org/tv/1399-game-of-thr...          8.260313  \n25142  https://www.themoviedb.org/movie/769-goodfella...          8.255500  \n30892  https://www.themoviedb.org/tv/31910/watch?loca...          8.241697  \n3577   https://www.themoviedb.org/movie/1891-the-empi...          8.228407  \n10217  https://www.themoviedb.org/movie/372058/watch?...          8.218367  \n5272   https://www.themoviedb.org/movie/244786-whipla...          8.201944  ",
      "text/html": "<div>\n<style scoped>\n    .dataframe tbody tr th:only-of-type {\n        vertical-align: middle;\n    }\n\n    .dataframe tbody tr th {\n        vertical-align: top;\n    }\n\n    .dataframe thead th {\n        text-align: right;\n    }\n</style>\n<table border=\"1\" class=\"dataframe\">\n  <thead>\n    <tr style=\"text-align: right;\">\n      <th></th>\n      <th>id</th>\n      <th>_type</th>\n      <th>title</th>\n      <th>genre</th>\n      <th>production_countries</th>\n      <th>vote_count</th>\n      <th>vote_average</th>\n      <th>number_of_seasons</th>\n      <th>number_of_episodes</th>\n      <th>release_date</th>\n      <th>adult</th>\n      <th>poster_path</th>\n      <th>runtime</th>\n      <th>overview</th>\n      <th>now_status</th>\n      <th>flatrate</th>\n      <th>rent</th>\n      <th>buy</th>\n      <th>link</th>\n      <th>weighted_average</th>\n    </tr>\n  </thead>\n  <tbody>\n    <tr>\n      <th>6594</th>\n      <td>m_278</td>\n      <td>movie</td>\n      <td>쇼생크 탈출</td>\n      <td>드라마, 범죄,</td>\n      <td>United States of America,</td>\n      <td>20723</td>\n      <td>8.7</td>\n      <td>NaN</td>\n      <td>NaN</td>\n      <td>1994-09-23</td>\n      <td>0.0</td>\n      <td>/oAt6OtpwYCdJI76AVtVKW1eorYx.jpg</td>\n      <td>142.0</td>\n      <td>촉망받는 은행 간부 앤디 듀프레인은 아내와 그녀의 정부를 살해했다는 누명을 쓴다. ...</td>\n      <td>None</td>\n      <td>Netflix, wavve, Watcha,</td>\n      <td>wavve, Naver Store,</td>\n      <td>wavve, Naver Store,</td>\n      <td>https://www.themoviedb.org/movie/278-the-shaws...</td>\n      <td>8.573413</td>\n    </tr>\n    <tr>\n      <th>5077</th>\n      <td>m_238</td>\n      <td>movie</td>\n      <td>대부</td>\n      <td>드라마, 범죄,</td>\n      <td>United States of America,</td>\n      <td>15465</td>\n      <td>8.7</td>\n      <td>NaN</td>\n      <td>NaN</td>\n      <td>1972-03-14</td>\n      <td>0.0</td>\n      <td>/cOwVs8eYA4G9ZQs7hIRSoiZr46Q.jpg</td>\n      <td>175.0</td>\n      <td>시실리에서 이민온 뒤, 정치권까지 영향력을 미치는 거물로 자리잡은 돈 꼴레오네는 갖...</td>\n      <td>None</td>\n      <td></td>\n      <td>wavve,</td>\n      <td>wavve,</td>\n      <td>https://www.themoviedb.org/movie/238-the-godfa...</td>\n      <td>8.532297</td>\n    </tr>\n    <tr>\n      <th>30247</th>\n      <td>t_1396</td>\n      <td>tv</td>\n      <td>브레이킹 배드</td>\n      <td>드라마,</td>\n      <td>United States of America,</td>\n      <td>8262</td>\n      <td>8.8</td>\n      <td>5.0</td>\n      <td>62.0</td>\n      <td>2008-01-20</td>\n      <td>NaN</td>\n      <td>/ztkUQFLlC19CCMYHW9o1zWhJRNq.jpg</td>\n      <td>NaN</td>\n      <td>2008년 1월 AMC에서 방영을 시작한 범죄 스릴러. Breaking Bad는 막...</td>\n      <td>Ended</td>\n      <td>Netflix,</td>\n      <td></td>\n      <td></td>\n      <td>https://www.themoviedb.org/tv/1396-breaking-ba...</td>\n      <td>8.489807</td>\n    </tr>\n    <tr>\n      <th>2463</th>\n      <td>m_155</td>\n      <td>movie</td>\n      <td>다크 나이트</td>\n      <td>드라마, 액션, 범죄, 스릴러,</td>\n      <td>United Kingdom, United States of America,</td>\n      <td>26725</td>\n      <td>8.5</td>\n      <td>NaN</td>\n      <td>NaN</td>\n      <td>2008-07-14</td>\n      <td>0.0</td>\n      <td>/f6dNinWX8rBM79JXKcShkfSh2oA.jpg</td>\n      <td>152.0</td>\n      <td>범죄와 부정부패를 제거하여 고담시를 지키려는 배트맨. 그는 짐 고든 형사와 패기 넘...</td>\n      <td>None</td>\n      <td>wavve,</td>\n      <td>wavve, Naver Store,</td>\n      <td>wavve, Naver Store,</td>\n      <td>https://www.themoviedb.org/movie/155-the-dark-...</td>\n      <td>8.406362</td>\n    </tr>\n    <tr>\n      <th>32590</th>\n      <td>t_69050</td>\n      <td>tv</td>\n      <td>리버데일</td>\n      <td>범죄, 드라마, 미스터리,</td>\n      <td>United States of America,</td>\n      <td>12497</td>\n      <td>8.6</td>\n      <td>6.0</td>\n      <td>102.0</td>\n      <td>2017-01-26</td>\n      <td>NaN</td>\n      <td>/6zBWSuYW3Ps1nTfeMS8siS4KUaA.jpg</td>\n      <td>NaN</td>\n      <td>평화로운 소도시 리버데일에서 살아가는 아치와 친구들이 복잡한 연애, 섹스, 학교생활...</td>\n      <td>Returning Series</td>\n      <td>Netflix,</td>\n      <td></td>\n      <td></td>\n      <td>https://www.themoviedb.org/tv/69050-riverdale/...</td>\n      <td>8.400115</td>\n    </tr>\n    <tr>\n      <th>12147</th>\n      <td>m_424</td>\n      <td>movie</td>\n      <td>쉰들러 리스트</td>\n      <td>드라마, 역사, 전쟁,</td>\n      <td>United States of America,</td>\n      <td>12366</td>\n      <td>8.6</td>\n      <td>NaN</td>\n      <td>NaN</td>\n      <td>1993-11-30</td>\n      <td>0.0</td>\n      <td>/oyyUcGwLX7LTFS1pQbLrQpyzIyt.jpg</td>\n      <td>195.0</td>\n      <td>2차 세계대전 당시 독일군이 점령한 폴란드. 시류에 맞춰 자신의 성공을 추구하는 기...</td>\n      <td>None</td>\n      <td>Netflix, wavve, Watcha,</td>\n      <td>wavve, Naver Store,</td>\n      <td>wavve, Naver Store,</td>\n      <td>https://www.themoviedb.org/movie/424-schindler...</td>\n      <td>8.398114</td>\n    </tr>\n    <tr>\n      <th>31729</th>\n      <td>t_60625</td>\n      <td>tv</td>\n      <td>릭 앤 모티</td>\n      <td>애니메이션, 코미디, Sci-Fi &amp; Fantasy, Action &amp; Adventu...</td>\n      <td>United States of America,</td>\n      <td>6170</td>\n      <td>8.8</td>\n      <td>5.0</td>\n      <td>51.0</td>\n      <td>2013-12-02</td>\n      <td>NaN</td>\n      <td>/8kOWDBK6XlPUzckuHDo3wwVRFwt.jpg</td>\n      <td>NaN</td>\n      <td>술에 절어 사는 천재 과학자 릭은 투정이 심한 10대 손자 모티를 데리고 외계와 대...</td>\n      <td>Returning Series</td>\n      <td>Netflix,</td>\n      <td></td>\n      <td></td>\n      <td>https://www.themoviedb.org/tv/60625-rick-and-m...</td>\n      <td>8.395665</td>\n    </tr>\n    <tr>\n      <th>23041</th>\n      <td>m_680</td>\n      <td>movie</td>\n      <td>펄프 픽션</td>\n      <td>스릴러, 범죄,</td>\n      <td>United States of America,</td>\n      <td>22599</td>\n      <td>8.5</td>\n      <td>NaN</td>\n      <td>NaN</td>\n      <td>1994-09-10</td>\n      <td>0.0</td>\n      <td>/6lXRHGoEbnnBUKsuqpL9JxD4DzT.jpg</td>\n      <td>154.0</td>\n      <td>펌프킨와 허니 버니가 레스토랑에서 강도 행각을 벌이기 시작한다. 빈센트와 그 동료 ...</td>\n      <td>None</td>\n      <td>wavve,</td>\n      <td></td>\n      <td></td>\n      <td>https://www.themoviedb.org/movie/680-pulp-fict...</td>\n      <td>8.389796</td>\n    </tr>\n    <tr>\n      <th>1478</th>\n      <td>m_13</td>\n      <td>movie</td>\n      <td>포레스트 검프</td>\n      <td>코미디, 드라마, 로맨스,</td>\n      <td>United States of America,</td>\n      <td>22068</td>\n      <td>8.5</td>\n      <td>NaN</td>\n      <td>NaN</td>\n      <td>1994-07-06</td>\n      <td>0.0</td>\n      <td>/xdJxoq0dtkchOkUz5UVKuxn7a2V.jpg</td>\n      <td>142.0</td>\n      <td>불편한 다리, 남들보다 조금 떨어지는 지능을 가진 포레스트 검프는 헌신적인 어머니의...</td>\n      <td>None</td>\n      <td>Netflix, wavve, Watcha,</td>\n      <td>wavve, Naver Store,</td>\n      <td>wavve, Naver Store,</td>\n      <td>https://www.themoviedb.org/movie/13-forrest-gu...</td>\n      <td>8.387228</td>\n    </tr>\n    <tr>\n      <th>33143</th>\n      <td>t_75006</td>\n      <td>tv</td>\n      <td>엄브렐러 아카데미</td>\n      <td>Action &amp; Adventure, Sci-Fi &amp; Fantasy, 드라마,</td>\n      <td>Canada, United States of America,</td>\n      <td>7676</td>\n      <td>8.7</td>\n      <td>3.0</td>\n      <td>30.0</td>\n      <td>2019-02-15</td>\n      <td>NaN</td>\n      <td>/UBhjjSojL8z2ThtitnyWaKM8nq.jpg</td>\n      <td>NaN</td>\n      <td>초능력을 가진 남매들이 아버지의 장례식에서 다시 모인다. 그들 앞에 드러나는 가족의...</td>\n      <td>Returning Series</td>\n      <td>Netflix,</td>\n      <td></td>\n      <td></td>\n      <td>https://www.themoviedb.org/tv/75006-the-umbrel...</td>\n      <td>8.376773</td>\n    </tr>\n    <tr>\n      <th>1196</th>\n      <td>m_122</td>\n      <td>movie</td>\n      <td>반지의 제왕: 왕의 귀환</td>\n      <td>모험, 판타지, 액션,</td>\n      <td>New Zealand, United States of America,</td>\n      <td>18975</td>\n      <td>8.5</td>\n      <td>NaN</td>\n      <td>NaN</td>\n      <td>2003-12-01</td>\n      <td>0.0</td>\n      <td>/tAXXuEAKLk2mOEIJzwajJQEnVZu.jpg</td>\n      <td>199.0</td>\n      <td>사우론이 인간들의 마지막 요새인 곤도르를 향해 야욕을 드러내고 있는 한편, 아라곤은...</td>\n      <td>None</td>\n      <td>wavve,</td>\n      <td>wavve, Naver Store,</td>\n      <td>wavve, Naver Store,</td>\n      <td>https://www.themoviedb.org/movie/122-the-lord-...</td>\n      <td>8.369521</td>\n    </tr>\n    <tr>\n      <th>32358</th>\n      <td>t_66732</td>\n      <td>tv</td>\n      <td>기묘한 이야기</td>\n      <td>드라마, 미스터리, Sci-Fi &amp; Fantasy,</td>\n      <td>United States of America,</td>\n      <td>9521</td>\n      <td>8.6</td>\n      <td>4.0</td>\n      <td>34.0</td>\n      <td>2016-07-15</td>\n      <td>NaN</td>\n      <td>/mpOQpOKdo2XJnTqRzo1lTmDNsc1.jpg</td>\n      <td>NaN</td>\n      <td>인디애나주의 작은 마을에서 행방불명된 소년. 이와 함께 미스터리한 힘을 가진 소녀가...</td>\n      <td>Returning Series</td>\n      <td>Netflix,</td>\n      <td></td>\n      <td></td>\n      <td>https://www.themoviedb.org/tv/66732-stranger-t...</td>\n      <td>8.342046</td>\n    </tr>\n    <tr>\n      <th>5129</th>\n      <td>m_240</td>\n      <td>movie</td>\n      <td>대부 2</td>\n      <td>드라마, 범죄,</td>\n      <td>United States of America,</td>\n      <td>9319</td>\n      <td>8.6</td>\n      <td>NaN</td>\n      <td>NaN</td>\n      <td>1974-12-20</td>\n      <td>0.0</td>\n      <td>/cj9UsJEN5bNf6ZoF1BbKjKN81hc.jpg</td>\n      <td>202.0</td>\n      <td>아버지의 장례식 도중에 맏아들 파올로가 총에 맞아 죽고, 비토(로버트 드니로)는 겨...</td>\n      <td>None</td>\n      <td></td>\n      <td>wavve,</td>\n      <td>wavve,</td>\n      <td>https://www.themoviedb.org/movie/240-the-godfa...</td>\n      <td>8.336857</td>\n    </tr>\n    <tr>\n      <th>6340</th>\n      <td>m_27205</td>\n      <td>movie</td>\n      <td>인셉션</td>\n      <td>액션, SF, 모험,</td>\n      <td>United Kingdom, United States of America,</td>\n      <td>30907</td>\n      <td>8.4</td>\n      <td>NaN</td>\n      <td>NaN</td>\n      <td>2010-07-15</td>\n      <td>0.0</td>\n      <td>/jSm8mzp7sucgL8NwINIoAmx4dS5.jpg</td>\n      <td>148.0</td>\n      <td>타인의 꿈과 접속해 생각을 빼낼 수 있는 근미래, 돔 코브는 꿈의 보안 프로그래머이...</td>\n      <td>None</td>\n      <td>wavve, Watcha,</td>\n      <td>wavve, Naver Store,</td>\n      <td>wavve, Naver Store,</td>\n      <td>https://www.themoviedb.org/movie/27205-incepti...</td>\n      <td>8.321028</td>\n    </tr>\n    <tr>\n      <th>15538</th>\n      <td>m_497</td>\n      <td>movie</td>\n      <td>그린 마일</td>\n      <td>판타지, 드라마, 범죄,</td>\n      <td>United States of America,</td>\n      <td>13464</td>\n      <td>8.5</td>\n      <td>NaN</td>\n      <td>NaN</td>\n      <td>1999-12-10</td>\n      <td>0.0</td>\n      <td>/yuSpRhrTIJa5JN8oESrfD2bndp1.jpg</td>\n      <td>189.0</td>\n      <td>미국 루이지애나의 콜드 마운틴 교도소. 폴은 사형수 감방의 간수장으로 일하고 있다....</td>\n      <td>None</td>\n      <td>Netflix,</td>\n      <td>wavve,</td>\n      <td>wavve,</td>\n      <td>https://www.themoviedb.org/movie/497-the-green...</td>\n      <td>8.318835</td>\n    </tr>\n    <tr>\n      <th>15505</th>\n      <td>m_496243</td>\n      <td>movie</td>\n      <td>기생충</td>\n      <td>코미디, 스릴러, 드라마,</td>\n      <td>South Korea,</td>\n      <td>13246</td>\n      <td>8.5</td>\n      <td>NaN</td>\n      <td>NaN</td>\n      <td>2019-05-30</td>\n      <td>0.0</td>\n      <td>/jjHccoFjbqlfr4VGLVLT7yek0Xn.jpg</td>\n      <td>131.0</td>\n      <td>전원 백수로 살 길 막막하지만 사이는 좋은 기택 가족. 장남 기우에게 명문대생 친구...</td>\n      <td>None</td>\n      <td>Netflix, Watcha,</td>\n      <td>wavve, Naver Store,</td>\n      <td>wavve, Naver Store,</td>\n      <td>https://www.themoviedb.org/movie/496243/watch?...</td>\n      <td>8.316008</td>\n    </tr>\n    <tr>\n      <th>2538</th>\n      <td>m_157336</td>\n      <td>movie</td>\n      <td>인터스텔라</td>\n      <td>모험, 드라마, SF,</td>\n      <td>United Kingdom, United States of America,</td>\n      <td>27864</td>\n      <td>8.4</td>\n      <td>NaN</td>\n      <td>NaN</td>\n      <td>2014-11-05</td>\n      <td>0.0</td>\n      <td>/zDNAeWU0PxKolEX1D8Vn1qWhGjH.jpg</td>\n      <td>169.0</td>\n      <td>세계 각국의 정부와 경제가 완전히 붕괴된 미래가 다가온다. 지난 20세기에 범한 잘...</td>\n      <td>None</td>\n      <td>Netflix, wavve, Watcha,</td>\n      <td>wavve, Naver Store,</td>\n      <td>wavve, Naver Store,</td>\n      <td>https://www.themoviedb.org/movie/157336-inters...</td>\n      <td>8.312622</td>\n    </tr>\n    <tr>\n      <th>1461</th>\n      <td>m_129</td>\n      <td>movie</td>\n      <td>센과 치히로의 행방불명</td>\n      <td>애니메이션, 가족, 판타지,</td>\n      <td>Japan,</td>\n      <td>12356</td>\n      <td>8.5</td>\n      <td>NaN</td>\n      <td>NaN</td>\n      <td>2001-07-20</td>\n      <td>0.0</td>\n      <td>/u1L4qxIu5sC2P082uMHYt7Ifvnj.jpg</td>\n      <td>124.0</td>\n      <td>평범한 열 살 짜리 소녀 치히로 식구는 이사 가던 중 길을 잘못 들어 낡은 터널을 ...</td>\n      <td>None</td>\n      <td>Netflix,</td>\n      <td>Naver Store,</td>\n      <td>Naver Store,</td>\n      <td>https://www.themoviedb.org/movie/129/watch?loc...</td>\n      <td>8.303488</td>\n    </tr>\n    <tr>\n      <th>17814</th>\n      <td>m_550</td>\n      <td>movie</td>\n      <td>파이트 클럽</td>\n      <td>드라마,</td>\n      <td>Germany, United States of America,</td>\n      <td>23442</td>\n      <td>8.4</td>\n      <td>NaN</td>\n      <td>NaN</td>\n      <td>1999-10-15</td>\n      <td>0.0</td>\n      <td>/uEsdm0noLfmkcVrZlyyuXp9e5I7.jpg</td>\n      <td>139.0</td>\n      <td>자동차 회사의 리콜 심사관으로 일하는 주인공(에드워드 노튼)은 일상의 무료함과 공허...</td>\n      <td>None</td>\n      <td>Netflix, Amazon Prime Video, Disney Plus,</td>\n      <td></td>\n      <td>wavve,</td>\n      <td>https://www.themoviedb.org/movie/550-fight-clu...</td>\n      <td>8.296632</td>\n    </tr>\n    <tr>\n      <th>32012</th>\n      <td>t_63174</td>\n      <td>tv</td>\n      <td>루시퍼</td>\n      <td>범죄, Sci-Fi &amp; Fantasy,</td>\n      <td>United States of America,</td>\n      <td>11638</td>\n      <td>8.5</td>\n      <td>6.0</td>\n      <td>93.0</td>\n      <td>2016-01-25</td>\n      <td>NaN</td>\n      <td>/4EYPN5mVIhKLfxGruy7Dy41dTVn.jpg</td>\n      <td>NaN</td>\n      <td>지긋지긋한 지옥 생활을 청산하고 은퇴를 선언한 악마. LA로 와 나이트클럽을 열고 ...</td>\n      <td>Ended</td>\n      <td>Netflix,</td>\n      <td>Naver Store,</td>\n      <td>Naver Store,</td>\n      <td>https://www.themoviedb.org/tv/63174-lucifer/wa...</td>\n      <td>8.292073</td>\n    </tr>\n    <tr>\n      <th>1120</th>\n      <td>m_120</td>\n      <td>movie</td>\n      <td>반지의 제왕: 반지 원정대</td>\n      <td>모험, 판타지, 액션,</td>\n      <td>New Zealand, United States of America,</td>\n      <td>20406</td>\n      <td>8.4</td>\n      <td>NaN</td>\n      <td>NaN</td>\n      <td>2001-12-18</td>\n      <td>0.0</td>\n      <td>/7uCvKNKKLRqYYyHIRpphi3yUE6Z.jpg</td>\n      <td>227.0</td>\n      <td>호빗이라 불리우는 난장이 종족 중의 한 명인 프로도는 자신의 삼촌에게서 우연히 절대...</td>\n      <td>None</td>\n      <td>wavve, Watcha,</td>\n      <td>wavve, Naver Store,</td>\n      <td>wavve, Naver Store,</td>\n      <td>https://www.themoviedb.org/movie/120-the-lord-...</td>\n      <td>8.281779</td>\n    </tr>\n    <tr>\n      <th>21157</th>\n      <td>m_637</td>\n      <td>movie</td>\n      <td>인생은 아름다워</td>\n      <td>코미디, 드라마,</td>\n      <td>Italy,</td>\n      <td>10829</td>\n      <td>8.5</td>\n      <td>NaN</td>\n      <td>NaN</td>\n      <td>1997-12-20</td>\n      <td>0.0</td>\n      <td>/yjOqQsQHdsEZfAosZERqHiwjaty.jpg</td>\n      <td>116.0</td>\n      <td>로마에 갓 상경한 시골 총각 귀도는 운명처럼 만난 여인 도라에게 첫눈에 반한다. 넘...</td>\n      <td>None</td>\n      <td>Netflix, wavve, Watcha,</td>\n      <td>Naver Store,</td>\n      <td>Naver Store,</td>\n      <td>https://www.themoviedb.org/movie/637-la-vita-e...</td>\n      <td>8.277512</td>\n    </tr>\n    <tr>\n      <th>32825</th>\n      <td>t_71712</td>\n      <td>tv</td>\n      <td>굿 닥터</td>\n      <td>드라마,</td>\n      <td>United States of America,</td>\n      <td>10300</td>\n      <td>8.5</td>\n      <td>5.0</td>\n      <td>88.0</td>\n      <td>2017-09-25</td>\n      <td>NaN</td>\n      <td>/z1K4mJwISETia59rrnMdXxzoSrZ.jpg</td>\n      <td>NaN</td>\n      <td>자폐증을 가진 젊은 외과 의사가 명문 병원에 들어가게된다. 이에 사람들과 소통하지 ...</td>\n      <td>Returning Series</td>\n      <td>Netflix,</td>\n      <td>Naver Store,</td>\n      <td>Naver Store,</td>\n      <td>https://www.themoviedb.org/tv/71712-the-good-d...</td>\n      <td>8.266834</td>\n    </tr>\n    <tr>\n      <th>1143</th>\n      <td>m_121</td>\n      <td>movie</td>\n      <td>반지의 제왕: 두 개의 탑</td>\n      <td>모험, 판타지, 액션,</td>\n      <td>New Zealand, United States of America,</td>\n      <td>17643</td>\n      <td>8.4</td>\n      <td>NaN</td>\n      <td>NaN</td>\n      <td>2002-12-18</td>\n      <td>0.0</td>\n      <td>/hjGjAdEPJF2unG8yseu5mcVb5cx.jpg</td>\n      <td>177.0</td>\n      <td>9명의 반지원정대는 사우론의 세력에 맞서 반지를 지켜냈지만 반지 원정대는 뿔뿔이 흩...</td>\n      <td>None</td>\n      <td>wavve,</td>\n      <td>wavve, Naver Store,</td>\n      <td>wavve, Naver Store,</td>\n      <td>https://www.themoviedb.org/movie/121-the-lord-...</td>\n      <td>8.263994</td>\n    </tr>\n    <tr>\n      <th>30269</th>\n      <td>t_1399</td>\n      <td>tv</td>\n      <td>왕좌의 게임</td>\n      <td>Sci-Fi &amp; Fantasy, 드라마, Action &amp; Adventure,</td>\n      <td>United Kingdom, United States of America,</td>\n      <td>17159</td>\n      <td>8.4</td>\n      <td>8.0</td>\n      <td>73.0</td>\n      <td>2011-04-17</td>\n      <td>NaN</td>\n      <td>/u3bZgnGQ9T01sWNhyveQz0wH0Hl.jpg</td>\n      <td>NaN</td>\n      <td>2011년 4월 HBO에서 방영을 시작한 판타지물. 조지 R.R. 마틴의 얼음과 불...</td>\n      <td>Ended</td>\n      <td>wavve,</td>\n      <td></td>\n      <td></td>\n      <td>https://www.themoviedb.org/tv/1399-game-of-thr...</td>\n      <td>8.260313</td>\n    </tr>\n    <tr>\n      <th>25142</th>\n      <td>m_769</td>\n      <td>movie</td>\n      <td>좋은 친구들</td>\n      <td>드라마, 범죄,</td>\n      <td>United States of America,</td>\n      <td>9789</td>\n      <td>8.5</td>\n      <td>NaN</td>\n      <td>NaN</td>\n      <td>1990-09-12</td>\n      <td>0.0</td>\n      <td>/zF9hSBS1t7PVFLo01GrJ3OjGi67.jpg</td>\n      <td>146.0</td>\n      <td>아일랜드계 이탈리아인 헨리 힐와 토미는 13살에 마피아에 입문해 지미와 함께 트럭이...</td>\n      <td>None</td>\n      <td></td>\n      <td>wavve,</td>\n      <td>wavve,</td>\n      <td>https://www.themoviedb.org/movie/769-goodfella...</td>\n      <td>8.255500</td>\n    </tr>\n    <tr>\n      <th>30892</th>\n      <td>t_31910</td>\n      <td>tv</td>\n      <td>나루토 질풍전</td>\n      <td>애니메이션, Action &amp; Adventure, Sci-Fi &amp; Fantasy,</td>\n      <td>Japan,</td>\n      <td>6652</td>\n      <td>8.6</td>\n      <td>20.0</td>\n      <td>500.0</td>\n      <td>2007-02-15</td>\n      <td>NaN</td>\n      <td>/qOxedwaJzdms2alAmIEHEnDeDzg.jpg</td>\n      <td>NaN</td>\n      <td>&lt;주간 소년 점프&gt;에 연재되면서 폭발적인 인기를 모았던 '나루토'를 애니메이션으로 ...</td>\n      <td>Ended</td>\n      <td>wavve, Watcha,</td>\n      <td>Naver Store,</td>\n      <td></td>\n      <td>https://www.themoviedb.org/tv/31910/watch?loca...</td>\n      <td>8.241697</td>\n    </tr>\n    <tr>\n      <th>3577</th>\n      <td>m_1891</td>\n      <td>movie</td>\n      <td>스타워즈 에피소드 5: 제국의 역습</td>\n      <td>모험, 액션, SF,</td>\n      <td>United States of America,</td>\n      <td>13834</td>\n      <td>8.4</td>\n      <td>NaN</td>\n      <td>NaN</td>\n      <td>1980-05-20</td>\n      <td>0.0</td>\n      <td>/icaO5w8uLVm4JxMew71JJrQE2YX.jpg</td>\n      <td>124.0</td>\n      <td>제국군은 데스스타를 잃은 뒤에도 여전히 강력한 화력으로 반란군을 수세로 몰아넣었고,...</td>\n      <td>None</td>\n      <td>Disney Plus,</td>\n      <td></td>\n      <td>wavve, Naver Store,</td>\n      <td>https://www.themoviedb.org/movie/1891-the-empi...</td>\n      <td>8.228407</td>\n    </tr>\n    <tr>\n      <th>10217</th>\n      <td>m_372058</td>\n      <td>movie</td>\n      <td>너의 이름은.</td>\n      <td>로맨스, 애니메이션, 드라마,</td>\n      <td>Japan,</td>\n      <td>8403</td>\n      <td>8.5</td>\n      <td>NaN</td>\n      <td>NaN</td>\n      <td>2016-08-26</td>\n      <td>0.0</td>\n      <td>/wx1Dxr4UyvN18SyC5GsVWWWtYja.jpg</td>\n      <td>106.0</td>\n      <td>시골에 사는 소녀 미츠하(가미시라이시 모네)는 어느 날 잠에서 깬 후 자신의 몸이 ...</td>\n      <td>None</td>\n      <td>Netflix, Watcha,</td>\n      <td>wavve,</td>\n      <td>Naver Store,</td>\n      <td>https://www.themoviedb.org/movie/372058/watch?...</td>\n      <td>8.218367</td>\n    </tr>\n    <tr>\n      <th>5272</th>\n      <td>m_244786</td>\n      <td>movie</td>\n      <td>위플래쉬</td>\n      <td>드라마, 음악,</td>\n      <td>United States of America,</td>\n      <td>11889</td>\n      <td>8.4</td>\n      <td>NaN</td>\n      <td>NaN</td>\n      <td>2014-10-10</td>\n      <td>0.0</td>\n      <td>/fz6osxiG7BWqnLoNgAlekpgSthf.jpg</td>\n      <td>106.0</td>\n      <td>최고의 드러머가 되기 위해서라면 무엇이든 할 각오가 되어있는 음악대학 신입생 앤드류...</td>\n      <td>None</td>\n      <td>Watcha,</td>\n      <td>wavve, Naver Store,</td>\n      <td>wavve, Naver Store,</td>\n      <td>https://www.themoviedb.org/movie/244786-whipla...</td>\n      <td>8.201944</td>\n    </tr>\n  </tbody>\n</table>\n</div>"
     },
     "execution_count": 4,
     "metadata": {},
     "output_type": "execute_result"
    }
   ],
   "source": [
    "# IMDB의 가중 평점 계산법\n",
    "# W = (vR + mC) / (v + m)\n",
    "\n",
    "# W: 가중 평점\n",
    "# v: 해당 영화의 총 투표수\n",
    "# m: 최소한의 투표 수\n",
    "# R: 해당 영화의 평균 평점\n",
    "# C: 모든 영화의 평균 평점\n",
    "\n",
    "percentile = 0.9  # vote_count 상위 몇 % 를 기준으로 삼을 것인지, 0.9 = 상위 10%\n",
    "m = contents_df['vote_count'].quantile(percentile)\n",
    "C = contents_df['vote_average'].mean()\n",
    "\n",
    "def weighted_vote_average(contents):\n",
    "    v = contents['vote_count']\n",
    "    R = contents['vote_average']\n",
    "    \n",
    "    return ((v * R) + (m * C)) / (v + m)\n",
    "\n",
    "contents_df['weighted_average'] = contents_df.apply(weighted_vote_average, axis=1)\n",
    "\n",
    "contents_df.sort_values(by='weighted_average', ascending=False).head(30)"
   ]
  },
  {
   "cell_type": "markdown",
   "id": "f6d4b0e1",
   "metadata": {},
   "source": [
    "# 유사한 영화 추천 함수"
   ]
  },
  {
   "cell_type": "code",
   "execution_count": 5,
   "id": "78568b98",
   "metadata": {},
   "outputs": [],
   "source": [
    "# 입력한 영화와 장르가 유사한 영화를 반환하는 함수\n",
    "def find_similar_contents(contents, similarity, contents_id, top_n=10):\n",
    "    \n",
    "    # 입력한 id를 가진 영화의 index 구하기 (similarity 행렬의 몇번째 인덱스인지)\n",
    "    id_content = contents[contents['id'] == contents_id]\n",
    "    content_index = id_content.index.values\n",
    "    \n",
    "    # 입력한 영화의 장르 유사도를 contents 데이터 프레임에 추가\n",
    "    contents[\"similarity\"] = similarity[content_index, :].reshape(-1,1)\n",
    "    \n",
    "    # 장르 유사도와 가중 평점을 기준으로 내림차순 정렬 후 상위 index 추출\n",
    "    sorted_contents = contents.sort_values(by=['similarity', 'weighted_average'], ascending=False)\n",
    "    sorted_contents = sorted_contents[sorted_contents.index.values != content_index]\n",
    "    result = sorted_contents.index.values[ : top_n]\n",
    "    \n",
    "    return contents.iloc[result]"
   ]
  },
  {
   "cell_type": "markdown",
   "id": "b24b1d1f",
   "metadata": {},
   "source": [
    "# 장르 유사도 측정"
   ]
  },
  {
   "cell_type": "code",
   "execution_count": 6,
   "id": "c932c5e8",
   "metadata": {},
   "outputs": [
    {
     "data": {
      "text/plain": "<35396x472 sparse matrix of type '<class 'numpy.int64'>'\n\twith 97574 stored elements in Compressed Sparse Row format>"
     },
     "execution_count": 6,
     "metadata": {},
     "output_type": "execute_result"
    }
   ],
   "source": [
    "# CountVectorizer\n",
    "count_vector = CountVectorizer(min_df=0, ngram_range=(1,2))\n",
    "genre_matrix = count_vector.fit_transform(contents_df['genre'])\n",
    "\n",
    "genre_matrix"
   ]
  },
  {
   "cell_type": "code",
   "execution_count": 7,
   "id": "3dd08801",
   "metadata": {},
   "outputs": [
    {
     "data": {
      "text/plain": "array([1.       , 0.       , 0.1490712, ..., 0.       , 0.       ,\n       0.       ])"
     },
     "execution_count": 7,
     "metadata": {},
     "output_type": "execute_result"
    }
   ],
   "source": [
    "# Cosine Similarity\n",
    "genre_similarity = cosine_similarity(genre_matrix, genre_matrix)\n",
    "\n",
    "# Save Pickle, gzip으로 압축하여 저장\n",
    "with gzip.open(\"genre_sim.pickle\", \"wb\") as fw:\n",
    "    pickle.dump(genre_similarity, fw)\n",
    "\n",
    "genre_similarity[0]"
   ]
  },
  {
   "cell_type": "code",
   "execution_count": 8,
   "id": "01c6fd32",
   "metadata": {
    "scrolled": true
   },
   "outputs": [
    {
     "data": {
      "text/plain": "             id              title      genre release_date  weighted_average  \\\n6594      m_278             쇼생크 탈출  드라마, 범죄,    1994-09-23          8.573413   \n5129      m_240               대부 2  드라마, 범죄,    1974-12-20          8.336857   \n25142     m_769             좋은 친구들  드라마, 범죄,    1990-09-12          8.255500   \n31724   t_60574           피키 블라인더스  드라마, 범죄,    2013-09-12          8.187434   \n7834      m_311  원스 어폰 어 타임 인 아메리카  드라마, 범죄,    1984-05-23          7.871795   \n21276     m_640        캐치 미 이프 유 캔  드라마, 범죄,    2002-12-25          7.828131   \n20761     m_627             트레인스포팅  드라마, 범죄,    1996-02-23          7.746041   \n15584    m_4982           아메리칸 갱스터  드라마, 범죄,    2007-11-02          7.211047   \n33913   t_82883               디 액트  드라마, 범죄,    2019-03-20          7.149225   \n32465   t_67744              마인드헌터  드라마, 범죄,    2017-10-13          6.986842   \n30295    t_1419                 캐슬  드라마, 범죄,    2009-03-09          6.903335   \n2639       m_16           어둠 속의 댄서  드라마, 범죄,    2000-06-30          6.862417   \n2933   m_168672            아메리칸 허슬  드라마, 범죄,    2013-12-03          6.605386   \n21463  m_645886              언포기버블  드라마, 범죄,    2021-11-24          6.600269   \n33737   t_80968          나르코스: 멕시코  드라마, 범죄,    2018-11-16          6.594940   \n289     m_10474          바스켓볼 다이어리  드라마, 범죄,    1995-04-21          6.591397   \n25825    m_8065                 21  드라마, 범죄,    2008-03-27          6.416726   \n17579  m_544401                 체리  드라마, 범죄,    2021-02-26          6.366758   \n2444   m_154400               더 드롭  드라마, 범죄,    2014-09-12          6.188600   \n30974   t_34415               더 킬링  드라마, 범죄,    2011-04-03          6.154588   \n\n       similarity  \n6594          1.0  \n5129          1.0  \n25142         1.0  \n31724         1.0  \n7834          1.0  \n21276         1.0  \n20761         1.0  \n15584         1.0  \n33913         1.0  \n32465         1.0  \n30295         1.0  \n2639          1.0  \n2933          1.0  \n21463         1.0  \n33737         1.0  \n289           1.0  \n25825         1.0  \n17579         1.0  \n2444          1.0  \n30974         1.0  ",
      "text/html": "<div>\n<style scoped>\n    .dataframe tbody tr th:only-of-type {\n        vertical-align: middle;\n    }\n\n    .dataframe tbody tr th {\n        vertical-align: top;\n    }\n\n    .dataframe thead th {\n        text-align: right;\n    }\n</style>\n<table border=\"1\" class=\"dataframe\">\n  <thead>\n    <tr style=\"text-align: right;\">\n      <th></th>\n      <th>id</th>\n      <th>title</th>\n      <th>genre</th>\n      <th>release_date</th>\n      <th>weighted_average</th>\n      <th>similarity</th>\n    </tr>\n  </thead>\n  <tbody>\n    <tr>\n      <th>6594</th>\n      <td>m_278</td>\n      <td>쇼생크 탈출</td>\n      <td>드라마, 범죄,</td>\n      <td>1994-09-23</td>\n      <td>8.573413</td>\n      <td>1.0</td>\n    </tr>\n    <tr>\n      <th>5129</th>\n      <td>m_240</td>\n      <td>대부 2</td>\n      <td>드라마, 범죄,</td>\n      <td>1974-12-20</td>\n      <td>8.336857</td>\n      <td>1.0</td>\n    </tr>\n    <tr>\n      <th>25142</th>\n      <td>m_769</td>\n      <td>좋은 친구들</td>\n      <td>드라마, 범죄,</td>\n      <td>1990-09-12</td>\n      <td>8.255500</td>\n      <td>1.0</td>\n    </tr>\n    <tr>\n      <th>31724</th>\n      <td>t_60574</td>\n      <td>피키 블라인더스</td>\n      <td>드라마, 범죄,</td>\n      <td>2013-09-12</td>\n      <td>8.187434</td>\n      <td>1.0</td>\n    </tr>\n    <tr>\n      <th>7834</th>\n      <td>m_311</td>\n      <td>원스 어폰 어 타임 인 아메리카</td>\n      <td>드라마, 범죄,</td>\n      <td>1984-05-23</td>\n      <td>7.871795</td>\n      <td>1.0</td>\n    </tr>\n    <tr>\n      <th>21276</th>\n      <td>m_640</td>\n      <td>캐치 미 이프 유 캔</td>\n      <td>드라마, 범죄,</td>\n      <td>2002-12-25</td>\n      <td>7.828131</td>\n      <td>1.0</td>\n    </tr>\n    <tr>\n      <th>20761</th>\n      <td>m_627</td>\n      <td>트레인스포팅</td>\n      <td>드라마, 범죄,</td>\n      <td>1996-02-23</td>\n      <td>7.746041</td>\n      <td>1.0</td>\n    </tr>\n    <tr>\n      <th>15584</th>\n      <td>m_4982</td>\n      <td>아메리칸 갱스터</td>\n      <td>드라마, 범죄,</td>\n      <td>2007-11-02</td>\n      <td>7.211047</td>\n      <td>1.0</td>\n    </tr>\n    <tr>\n      <th>33913</th>\n      <td>t_82883</td>\n      <td>디 액트</td>\n      <td>드라마, 범죄,</td>\n      <td>2019-03-20</td>\n      <td>7.149225</td>\n      <td>1.0</td>\n    </tr>\n    <tr>\n      <th>32465</th>\n      <td>t_67744</td>\n      <td>마인드헌터</td>\n      <td>드라마, 범죄,</td>\n      <td>2017-10-13</td>\n      <td>6.986842</td>\n      <td>1.0</td>\n    </tr>\n    <tr>\n      <th>30295</th>\n      <td>t_1419</td>\n      <td>캐슬</td>\n      <td>드라마, 범죄,</td>\n      <td>2009-03-09</td>\n      <td>6.903335</td>\n      <td>1.0</td>\n    </tr>\n    <tr>\n      <th>2639</th>\n      <td>m_16</td>\n      <td>어둠 속의 댄서</td>\n      <td>드라마, 범죄,</td>\n      <td>2000-06-30</td>\n      <td>6.862417</td>\n      <td>1.0</td>\n    </tr>\n    <tr>\n      <th>2933</th>\n      <td>m_168672</td>\n      <td>아메리칸 허슬</td>\n      <td>드라마, 범죄,</td>\n      <td>2013-12-03</td>\n      <td>6.605386</td>\n      <td>1.0</td>\n    </tr>\n    <tr>\n      <th>21463</th>\n      <td>m_645886</td>\n      <td>언포기버블</td>\n      <td>드라마, 범죄,</td>\n      <td>2021-11-24</td>\n      <td>6.600269</td>\n      <td>1.0</td>\n    </tr>\n    <tr>\n      <th>33737</th>\n      <td>t_80968</td>\n      <td>나르코스: 멕시코</td>\n      <td>드라마, 범죄,</td>\n      <td>2018-11-16</td>\n      <td>6.594940</td>\n      <td>1.0</td>\n    </tr>\n    <tr>\n      <th>289</th>\n      <td>m_10474</td>\n      <td>바스켓볼 다이어리</td>\n      <td>드라마, 범죄,</td>\n      <td>1995-04-21</td>\n      <td>6.591397</td>\n      <td>1.0</td>\n    </tr>\n    <tr>\n      <th>25825</th>\n      <td>m_8065</td>\n      <td>21</td>\n      <td>드라마, 범죄,</td>\n      <td>2008-03-27</td>\n      <td>6.416726</td>\n      <td>1.0</td>\n    </tr>\n    <tr>\n      <th>17579</th>\n      <td>m_544401</td>\n      <td>체리</td>\n      <td>드라마, 범죄,</td>\n      <td>2021-02-26</td>\n      <td>6.366758</td>\n      <td>1.0</td>\n    </tr>\n    <tr>\n      <th>2444</th>\n      <td>m_154400</td>\n      <td>더 드롭</td>\n      <td>드라마, 범죄,</td>\n      <td>2014-09-12</td>\n      <td>6.188600</td>\n      <td>1.0</td>\n    </tr>\n    <tr>\n      <th>30974</th>\n      <td>t_34415</td>\n      <td>더 킬링</td>\n      <td>드라마, 범죄,</td>\n      <td>2011-04-03</td>\n      <td>6.154588</td>\n      <td>1.0</td>\n    </tr>\n  </tbody>\n</table>\n</div>"
     },
     "execution_count": 8,
     "metadata": {},
     "output_type": "execute_result"
    }
   ],
   "source": [
    "# 영화 '대부' 로 장르 유사도 기반 테스트\n",
    "similar_genre_contents1 = find_similar_contents(contents_df, genre_similarity, 'm_238', top_n=20)\n",
    "similar_genre_contents1[['id', 'title', 'genre', 'release_date', 'weighted_average', 'similarity']]"
   ]
  },
  {
   "cell_type": "code",
   "execution_count": 9,
   "id": "c928e1cc",
   "metadata": {
    "scrolled": true
   },
   "outputs": [
    {
     "data": {
      "text/plain": "             id                title                genre release_date  \\\n6340    m_27205                  인셉션         액션, SF, 모험,    2010-07-15   \n1026   m_118340          가디언즈 오브 갤럭시         액션, SF, 모험,    2014-07-30   \n19257  m_588228               투모로우 워         액션, SF, 모험,    2021-07-02   \n15473   m_49538         엑스맨: 퍼스트 클래스         액션, SF, 모험,    2011-06-01   \n11340  m_399579           알리타: 배틀 엔젤         액션, SF, 모험,    2019-01-31   \n23230   m_68726                퍼시픽 림         액션, SF, 모험,    2013-07-11   \n10711   m_38356         트랜스포머: 달의 어둠         액션, SF, 모험,    2011-06-28   \n13838  m_458478             카르텔 2045         액션, SF, 모험,    2017-04-01   \n3438   m_185471             배틀 오브 머신         액션, SF, 모험,    2013-07-25   \n13111  m_443297           문트랩: 타겟 어스         액션, SF, 모험,    2017-02-07   \n13714  m_456048      휴매니티 뷰로우: 인류관리국         액션, SF, 모험,    2017-07-11   \n24878   m_75612                오블리비언   액션, SF, 모험, 미스터리,    2013-04-10   \n24999   m_76170                더 울버린    액션, SF, 모험, 판타지,    2013-07-23   \n21483   m_64635                토탈 리콜    액션, SF, 모험, 스릴러,    2012-08-02   \n1184    m_12180           스타워즈: 클론전쟁  애니메이션, 액션, SF, 모험,    2008-08-05   \n9529   m_353491          다크타워: 희망의 탑    판타지, 액션, SF, 모험,    2017-08-03   \n6298   m_271404              스카이라인 2     액션, SF, 모험, 공포,    2017-10-20   \n14793  m_479753         카운트다운: 쇼크웨이브    액션, SF, 모험, 스릴러,    2017-09-02   \n2147   m_145738          노아: 40일간의기적    액션, SF, 모험, 스릴러,    2012-12-15   \n3577     m_1891  스타워즈 에피소드 5: 제국의 역습         모험, 액션, SF,    1980-05-20   \n\n       weighted_average  similarity  \n6340           8.321028    1.000000  \n1026           7.813352    1.000000  \n19257          7.626975    1.000000  \n15473          7.152667    1.000000  \n11340          6.996849    1.000000  \n23230          6.678789    1.000000  \n10711          5.988891    1.000000  \n13838          4.932263    1.000000  \n3438           4.929526    1.000000  \n13111          4.922790    1.000000  \n13714          4.905338    1.000000  \n24878          6.478109    0.845154  \n24999          6.280468    0.845154  \n21483          5.856152    0.845154  \n1184           5.726406    0.845154  \n9529           5.589874    0.845154  \n6298           5.079867    0.845154  \n14793          4.988418    0.845154  \n2147           4.788354    0.845154  \n3577           8.228407    0.800000  ",
      "text/html": "<div>\n<style scoped>\n    .dataframe tbody tr th:only-of-type {\n        vertical-align: middle;\n    }\n\n    .dataframe tbody tr th {\n        vertical-align: top;\n    }\n\n    .dataframe thead th {\n        text-align: right;\n    }\n</style>\n<table border=\"1\" class=\"dataframe\">\n  <thead>\n    <tr style=\"text-align: right;\">\n      <th></th>\n      <th>id</th>\n      <th>title</th>\n      <th>genre</th>\n      <th>release_date</th>\n      <th>weighted_average</th>\n      <th>similarity</th>\n    </tr>\n  </thead>\n  <tbody>\n    <tr>\n      <th>6340</th>\n      <td>m_27205</td>\n      <td>인셉션</td>\n      <td>액션, SF, 모험,</td>\n      <td>2010-07-15</td>\n      <td>8.321028</td>\n      <td>1.000000</td>\n    </tr>\n    <tr>\n      <th>1026</th>\n      <td>m_118340</td>\n      <td>가디언즈 오브 갤럭시</td>\n      <td>액션, SF, 모험,</td>\n      <td>2014-07-30</td>\n      <td>7.813352</td>\n      <td>1.000000</td>\n    </tr>\n    <tr>\n      <th>19257</th>\n      <td>m_588228</td>\n      <td>투모로우 워</td>\n      <td>액션, SF, 모험,</td>\n      <td>2021-07-02</td>\n      <td>7.626975</td>\n      <td>1.000000</td>\n    </tr>\n    <tr>\n      <th>15473</th>\n      <td>m_49538</td>\n      <td>엑스맨: 퍼스트 클래스</td>\n      <td>액션, SF, 모험,</td>\n      <td>2011-06-01</td>\n      <td>7.152667</td>\n      <td>1.000000</td>\n    </tr>\n    <tr>\n      <th>11340</th>\n      <td>m_399579</td>\n      <td>알리타: 배틀 엔젤</td>\n      <td>액션, SF, 모험,</td>\n      <td>2019-01-31</td>\n      <td>6.996849</td>\n      <td>1.000000</td>\n    </tr>\n    <tr>\n      <th>23230</th>\n      <td>m_68726</td>\n      <td>퍼시픽 림</td>\n      <td>액션, SF, 모험,</td>\n      <td>2013-07-11</td>\n      <td>6.678789</td>\n      <td>1.000000</td>\n    </tr>\n    <tr>\n      <th>10711</th>\n      <td>m_38356</td>\n      <td>트랜스포머: 달의 어둠</td>\n      <td>액션, SF, 모험,</td>\n      <td>2011-06-28</td>\n      <td>5.988891</td>\n      <td>1.000000</td>\n    </tr>\n    <tr>\n      <th>13838</th>\n      <td>m_458478</td>\n      <td>카르텔 2045</td>\n      <td>액션, SF, 모험,</td>\n      <td>2017-04-01</td>\n      <td>4.932263</td>\n      <td>1.000000</td>\n    </tr>\n    <tr>\n      <th>3438</th>\n      <td>m_185471</td>\n      <td>배틀 오브 머신</td>\n      <td>액션, SF, 모험,</td>\n      <td>2013-07-25</td>\n      <td>4.929526</td>\n      <td>1.000000</td>\n    </tr>\n    <tr>\n      <th>13111</th>\n      <td>m_443297</td>\n      <td>문트랩: 타겟 어스</td>\n      <td>액션, SF, 모험,</td>\n      <td>2017-02-07</td>\n      <td>4.922790</td>\n      <td>1.000000</td>\n    </tr>\n    <tr>\n      <th>13714</th>\n      <td>m_456048</td>\n      <td>휴매니티 뷰로우: 인류관리국</td>\n      <td>액션, SF, 모험,</td>\n      <td>2017-07-11</td>\n      <td>4.905338</td>\n      <td>1.000000</td>\n    </tr>\n    <tr>\n      <th>24878</th>\n      <td>m_75612</td>\n      <td>오블리비언</td>\n      <td>액션, SF, 모험, 미스터리,</td>\n      <td>2013-04-10</td>\n      <td>6.478109</td>\n      <td>0.845154</td>\n    </tr>\n    <tr>\n      <th>24999</th>\n      <td>m_76170</td>\n      <td>더 울버린</td>\n      <td>액션, SF, 모험, 판타지,</td>\n      <td>2013-07-23</td>\n      <td>6.280468</td>\n      <td>0.845154</td>\n    </tr>\n    <tr>\n      <th>21483</th>\n      <td>m_64635</td>\n      <td>토탈 리콜</td>\n      <td>액션, SF, 모험, 스릴러,</td>\n      <td>2012-08-02</td>\n      <td>5.856152</td>\n      <td>0.845154</td>\n    </tr>\n    <tr>\n      <th>1184</th>\n      <td>m_12180</td>\n      <td>스타워즈: 클론전쟁</td>\n      <td>애니메이션, 액션, SF, 모험,</td>\n      <td>2008-08-05</td>\n      <td>5.726406</td>\n      <td>0.845154</td>\n    </tr>\n    <tr>\n      <th>9529</th>\n      <td>m_353491</td>\n      <td>다크타워: 희망의 탑</td>\n      <td>판타지, 액션, SF, 모험,</td>\n      <td>2017-08-03</td>\n      <td>5.589874</td>\n      <td>0.845154</td>\n    </tr>\n    <tr>\n      <th>6298</th>\n      <td>m_271404</td>\n      <td>스카이라인 2</td>\n      <td>액션, SF, 모험, 공포,</td>\n      <td>2017-10-20</td>\n      <td>5.079867</td>\n      <td>0.845154</td>\n    </tr>\n    <tr>\n      <th>14793</th>\n      <td>m_479753</td>\n      <td>카운트다운: 쇼크웨이브</td>\n      <td>액션, SF, 모험, 스릴러,</td>\n      <td>2017-09-02</td>\n      <td>4.988418</td>\n      <td>0.845154</td>\n    </tr>\n    <tr>\n      <th>2147</th>\n      <td>m_145738</td>\n      <td>노아: 40일간의기적</td>\n      <td>액션, SF, 모험, 스릴러,</td>\n      <td>2012-12-15</td>\n      <td>4.788354</td>\n      <td>0.845154</td>\n    </tr>\n    <tr>\n      <th>3577</th>\n      <td>m_1891</td>\n      <td>스타워즈 에피소드 5: 제국의 역습</td>\n      <td>모험, 액션, SF,</td>\n      <td>1980-05-20</td>\n      <td>8.228407</td>\n      <td>0.800000</td>\n    </tr>\n  </tbody>\n</table>\n</div>"
     },
     "execution_count": 9,
     "metadata": {},
     "output_type": "execute_result"
    }
   ],
   "source": [
    "# 영화 '아이언맨' 으로 장르 유사도 기반 테스트\n",
    "similar_genre_contents2 = find_similar_contents(contents_df, genre_similarity, 'm_1726', top_n=20)\n",
    "similar_genre_contents2[['id', 'title', 'genre', 'release_date', 'weighted_average', 'similarity']]"
   ]
  },
  {
   "cell_type": "code",
   "execution_count": 10,
   "outputs": [],
   "source": [
    "gnt_similarity = genre_similarity"
   ],
   "metadata": {
    "collapsed": false,
    "pycharm": {
     "name": "#%%\n"
    }
   }
  },
  {
   "cell_type": "code",
   "execution_count": 11,
   "outputs": [],
   "source": [
    "del genre_similarity"
   ],
   "metadata": {
    "collapsed": false,
    "pycharm": {
     "name": "#%%\n"
    }
   }
  },
  {
   "cell_type": "code",
   "execution_count": 12,
   "outputs": [],
   "source": [
    "del genre_matrix"
   ],
   "metadata": {
    "collapsed": false,
    "pycharm": {
     "name": "#%%\n"
    }
   }
  },
  {
   "cell_type": "code",
   "execution_count": 12,
   "outputs": [],
   "source": [],
   "metadata": {
    "collapsed": false,
    "pycharm": {
     "name": "#%%\n"
    }
   }
  },
  {
   "cell_type": "markdown",
   "source": [
    "# 제목 유사도 측정"
   ],
   "metadata": {
    "collapsed": false
   }
  },
  {
   "cell_type": "code",
   "execution_count": 13,
   "outputs": [
    {
     "data": {
      "text/plain": "<35396x77596 sparse matrix of type '<class 'numpy.int64'>'\n\twith 134342 stored elements in Compressed Sparse Row format>"
     },
     "execution_count": 13,
     "metadata": {},
     "output_type": "execute_result"
    }
   ],
   "source": [
    "# CountVectorizer\n",
    "title_matrix = count_vector.fit_transform(contents_df['title'])\n",
    "\n",
    "title_matrix"
   ],
   "metadata": {
    "collapsed": false,
    "pycharm": {
     "name": "#%%\n"
    }
   }
  },
  {
   "cell_type": "code",
   "execution_count": 14,
   "outputs": [
    {
     "data": {
      "text/plain": "array([1., 0., 0., ..., 0., 0., 0.])"
     },
     "execution_count": 14,
     "metadata": {},
     "output_type": "execute_result"
    }
   ],
   "source": [
    "# Cosine Similarity\n",
    "title_similarity = cosine_similarity(title_matrix, title_matrix)\n",
    "\n",
    "# Save Pickle, gzip으로 압축하여 저장\n",
    "with gzip.open(\"title_sim.pickle\", \"wb\") as fw:\n",
    "    pickle.dump(title_similarity, fw)\n",
    "\n",
    "title_similarity[0]"
   ],
   "metadata": {
    "collapsed": false,
    "pycharm": {
     "name": "#%%\n"
    }
   }
  },
  {
   "cell_type": "code",
   "execution_count": 15,
   "outputs": [
    {
     "data": {
      "text/plain": "             id          title  \\\n5129      m_240           대부 2   \n5191      m_242           대부 3   \n6594      m_278         쇼생크 탈출   \n30247    t_1396        브레이킹 배드   \n2463      m_155         다크 나이트   \n32590   t_69050           리버데일   \n12147     m_424        쉰들러 리스트   \n31729   t_60625         릭 앤 모티   \n23041     m_680          펄프 픽션   \n1478       m_13        포레스트 검프   \n33143   t_75006      엄브렐러 아카데미   \n1196      m_122  반지의 제왕: 왕의 귀환   \n32358   t_66732        기묘한 이야기   \n6340    m_27205            인셉션   \n15538     m_497          그린 마일   \n15505  m_496243            기생충   \n2538   m_157336          인터스텔라   \n1461      m_129   센과 치히로의 행방불명   \n17814     m_550         파이트 클럽   \n32012   t_63174            루시퍼   \n\n                                                   genre release_date  \\\n5129                                           드라마, 범죄,    1974-12-20   \n5191                                      범죄, 드라마, 스릴러,    1990-12-25   \n6594                                           드라마, 범죄,    1994-09-23   \n30247                                              드라마,    2008-01-20   \n2463                                  드라마, 액션, 범죄, 스릴러,    2008-07-14   \n32590                                    범죄, 드라마, 미스터리,    2017-01-26   \n12147                                      드라마, 역사, 전쟁,    1993-11-30   \n31729  애니메이션, 코미디, Sci-Fi & Fantasy, Action & Adventu...   2013-12-02   \n23041                                          스릴러, 범죄,    1994-09-10   \n1478                                     코미디, 드라마, 로맨스,    1994-07-06   \n33143        Action & Adventure, Sci-Fi & Fantasy, 드라마,    2019-02-15   \n1196                                       모험, 판타지, 액션,    2003-12-01   \n32358                      드라마, 미스터리, Sci-Fi & Fantasy,    2016-07-15   \n6340                                        액션, SF, 모험,    2010-07-15   \n15538                                     판타지, 드라마, 범죄,    1999-12-10   \n15505                                    코미디, 스릴러, 드라마,    2019-05-30   \n2538                                       모험, 드라마, SF,    2014-11-05   \n1461                                    애니메이션, 가족, 판타지,    2001-07-20   \n17814                                              드라마,    1999-10-15   \n32012                             범죄, Sci-Fi & Fantasy,    2016-01-25   \n\n       weighted_average  similarity  \n5129           8.336857         1.0  \n5191           7.074989         1.0  \n6594           8.573413         0.0  \n30247          8.489807         0.0  \n2463           8.406362         0.0  \n32590          8.400115         0.0  \n12147          8.398114         0.0  \n31729          8.395665         0.0  \n23041          8.389796         0.0  \n1478           8.387228         0.0  \n33143          8.376773         0.0  \n1196           8.369521         0.0  \n32358          8.342046         0.0  \n6340           8.321028         0.0  \n15538          8.318835         0.0  \n15505          8.316008         0.0  \n2538           8.312622         0.0  \n1461           8.303488         0.0  \n17814          8.296632         0.0  \n32012          8.292073         0.0  ",
      "text/html": "<div>\n<style scoped>\n    .dataframe tbody tr th:only-of-type {\n        vertical-align: middle;\n    }\n\n    .dataframe tbody tr th {\n        vertical-align: top;\n    }\n\n    .dataframe thead th {\n        text-align: right;\n    }\n</style>\n<table border=\"1\" class=\"dataframe\">\n  <thead>\n    <tr style=\"text-align: right;\">\n      <th></th>\n      <th>id</th>\n      <th>title</th>\n      <th>genre</th>\n      <th>release_date</th>\n      <th>weighted_average</th>\n      <th>similarity</th>\n    </tr>\n  </thead>\n  <tbody>\n    <tr>\n      <th>5129</th>\n      <td>m_240</td>\n      <td>대부 2</td>\n      <td>드라마, 범죄,</td>\n      <td>1974-12-20</td>\n      <td>8.336857</td>\n      <td>1.0</td>\n    </tr>\n    <tr>\n      <th>5191</th>\n      <td>m_242</td>\n      <td>대부 3</td>\n      <td>범죄, 드라마, 스릴러,</td>\n      <td>1990-12-25</td>\n      <td>7.074989</td>\n      <td>1.0</td>\n    </tr>\n    <tr>\n      <th>6594</th>\n      <td>m_278</td>\n      <td>쇼생크 탈출</td>\n      <td>드라마, 범죄,</td>\n      <td>1994-09-23</td>\n      <td>8.573413</td>\n      <td>0.0</td>\n    </tr>\n    <tr>\n      <th>30247</th>\n      <td>t_1396</td>\n      <td>브레이킹 배드</td>\n      <td>드라마,</td>\n      <td>2008-01-20</td>\n      <td>8.489807</td>\n      <td>0.0</td>\n    </tr>\n    <tr>\n      <th>2463</th>\n      <td>m_155</td>\n      <td>다크 나이트</td>\n      <td>드라마, 액션, 범죄, 스릴러,</td>\n      <td>2008-07-14</td>\n      <td>8.406362</td>\n      <td>0.0</td>\n    </tr>\n    <tr>\n      <th>32590</th>\n      <td>t_69050</td>\n      <td>리버데일</td>\n      <td>범죄, 드라마, 미스터리,</td>\n      <td>2017-01-26</td>\n      <td>8.400115</td>\n      <td>0.0</td>\n    </tr>\n    <tr>\n      <th>12147</th>\n      <td>m_424</td>\n      <td>쉰들러 리스트</td>\n      <td>드라마, 역사, 전쟁,</td>\n      <td>1993-11-30</td>\n      <td>8.398114</td>\n      <td>0.0</td>\n    </tr>\n    <tr>\n      <th>31729</th>\n      <td>t_60625</td>\n      <td>릭 앤 모티</td>\n      <td>애니메이션, 코미디, Sci-Fi &amp; Fantasy, Action &amp; Adventu...</td>\n      <td>2013-12-02</td>\n      <td>8.395665</td>\n      <td>0.0</td>\n    </tr>\n    <tr>\n      <th>23041</th>\n      <td>m_680</td>\n      <td>펄프 픽션</td>\n      <td>스릴러, 범죄,</td>\n      <td>1994-09-10</td>\n      <td>8.389796</td>\n      <td>0.0</td>\n    </tr>\n    <tr>\n      <th>1478</th>\n      <td>m_13</td>\n      <td>포레스트 검프</td>\n      <td>코미디, 드라마, 로맨스,</td>\n      <td>1994-07-06</td>\n      <td>8.387228</td>\n      <td>0.0</td>\n    </tr>\n    <tr>\n      <th>33143</th>\n      <td>t_75006</td>\n      <td>엄브렐러 아카데미</td>\n      <td>Action &amp; Adventure, Sci-Fi &amp; Fantasy, 드라마,</td>\n      <td>2019-02-15</td>\n      <td>8.376773</td>\n      <td>0.0</td>\n    </tr>\n    <tr>\n      <th>1196</th>\n      <td>m_122</td>\n      <td>반지의 제왕: 왕의 귀환</td>\n      <td>모험, 판타지, 액션,</td>\n      <td>2003-12-01</td>\n      <td>8.369521</td>\n      <td>0.0</td>\n    </tr>\n    <tr>\n      <th>32358</th>\n      <td>t_66732</td>\n      <td>기묘한 이야기</td>\n      <td>드라마, 미스터리, Sci-Fi &amp; Fantasy,</td>\n      <td>2016-07-15</td>\n      <td>8.342046</td>\n      <td>0.0</td>\n    </tr>\n    <tr>\n      <th>6340</th>\n      <td>m_27205</td>\n      <td>인셉션</td>\n      <td>액션, SF, 모험,</td>\n      <td>2010-07-15</td>\n      <td>8.321028</td>\n      <td>0.0</td>\n    </tr>\n    <tr>\n      <th>15538</th>\n      <td>m_497</td>\n      <td>그린 마일</td>\n      <td>판타지, 드라마, 범죄,</td>\n      <td>1999-12-10</td>\n      <td>8.318835</td>\n      <td>0.0</td>\n    </tr>\n    <tr>\n      <th>15505</th>\n      <td>m_496243</td>\n      <td>기생충</td>\n      <td>코미디, 스릴러, 드라마,</td>\n      <td>2019-05-30</td>\n      <td>8.316008</td>\n      <td>0.0</td>\n    </tr>\n    <tr>\n      <th>2538</th>\n      <td>m_157336</td>\n      <td>인터스텔라</td>\n      <td>모험, 드라마, SF,</td>\n      <td>2014-11-05</td>\n      <td>8.312622</td>\n      <td>0.0</td>\n    </tr>\n    <tr>\n      <th>1461</th>\n      <td>m_129</td>\n      <td>센과 치히로의 행방불명</td>\n      <td>애니메이션, 가족, 판타지,</td>\n      <td>2001-07-20</td>\n      <td>8.303488</td>\n      <td>0.0</td>\n    </tr>\n    <tr>\n      <th>17814</th>\n      <td>m_550</td>\n      <td>파이트 클럽</td>\n      <td>드라마,</td>\n      <td>1999-10-15</td>\n      <td>8.296632</td>\n      <td>0.0</td>\n    </tr>\n    <tr>\n      <th>32012</th>\n      <td>t_63174</td>\n      <td>루시퍼</td>\n      <td>범죄, Sci-Fi &amp; Fantasy,</td>\n      <td>2016-01-25</td>\n      <td>8.292073</td>\n      <td>0.0</td>\n    </tr>\n  </tbody>\n</table>\n</div>"
     },
     "execution_count": 15,
     "metadata": {},
     "output_type": "execute_result"
    }
   ],
   "source": [
    "# 영화 '대부' 로 제목 유사도 기반 테스트\n",
    "similar_title_contents1 = find_similar_contents(contents_df, title_similarity, 'm_238', top_n=20)\n",
    "similar_title_contents1[['id', 'title', 'genre', 'release_date', 'weighted_average', 'similarity']]"
   ],
   "metadata": {
    "collapsed": false,
    "pycharm": {
     "name": "#%%\n"
    }
   }
  },
  {
   "cell_type": "code",
   "execution_count": 16,
   "outputs": [
    {
     "data": {
      "text/plain": "             id                     title  \\\n23227   m_68721                    아이언맨 3   \n90      m_10138                    아이언맨 2   \n31863   t_61739                      아이언맨   \n4838   m_230896                 아이언맨 & 헐크   \n6811   m_284274  아이언맨 & 캡틴아메리카 히어로즈 유나이티드   \n2971   m_169934        아이언맨: 라이즈 오브 테크노보어   \n21100  m_635802           일론 머스크: 리얼 아이언맨   \n6594      m_278                    쇼생크 탈출   \n5077      m_238                        대부   \n30247    t_1396                   브레이킹 배드   \n2463      m_155                    다크 나이트   \n32590   t_69050                      리버데일   \n12147     m_424                   쉰들러 리스트   \n31729   t_60625                    릭 앤 모티   \n23041     m_680                     펄프 픽션   \n1478       m_13                   포레스트 검프   \n33143   t_75006                 엄브렐러 아카데미   \n1196      m_122             반지의 제왕: 왕의 귀환   \n32358   t_66732                   기묘한 이야기   \n5129      m_240                      대부 2   \n\n                                                   genre release_date  \\\n23227                                       액션, 모험, SF,    2013-04-18   \n90                                          모험, 액션, SF,    2010-04-28   \n31863                            드라마, Sci-Fi & Fantasy,    2014-09-10   \n4838                                 액션, 모험, 애니메이션, 가족,    2013-12-03   \n6811                                     모험, 애니메이션, 액션,    2014-07-29   \n2971                                     SF, 애니메이션, 액션,    2013-04-24   \n21100                                            다큐멘터리,    2018-12-04   \n6594                                           드라마, 범죄,    1994-09-23   \n5077                                           드라마, 범죄,    1972-03-14   \n30247                                              드라마,    2008-01-20   \n2463                                  드라마, 액션, 범죄, 스릴러,    2008-07-14   \n32590                                    범죄, 드라마, 미스터리,    2017-01-26   \n12147                                      드라마, 역사, 전쟁,    1993-11-30   \n31729  애니메이션, 코미디, Sci-Fi & Fantasy, Action & Adventu...   2013-12-02   \n23041                                          스릴러, 범죄,    1994-09-10   \n1478                                     코미디, 드라마, 로맨스,    1994-07-06   \n33143        Action & Adventure, Sci-Fi & Fantasy, 드라마,    2019-02-15   \n1196                                       모험, 판타지, 액션,    2003-12-01   \n32358                      드라마, 미스터리, Sci-Fi & Fantasy,    2016-07-15   \n5129                                           드라마, 범죄,    1974-12-20   \n\n       weighted_average  similarity  \n23227          6.828599    1.000000  \n90             6.726282    1.000000  \n31863          4.956187    1.000000  \n4838           5.070492    0.577350  \n6811           5.118355    0.377964  \n2971           5.075400    0.377964  \n21100          4.949679    0.377964  \n6594           8.573413    0.000000  \n5077           8.532297    0.000000  \n30247          8.489807    0.000000  \n2463           8.406362    0.000000  \n32590          8.400115    0.000000  \n12147          8.398114    0.000000  \n31729          8.395665    0.000000  \n23041          8.389796    0.000000  \n1478           8.387228    0.000000  \n33143          8.376773    0.000000  \n1196           8.369521    0.000000  \n32358          8.342046    0.000000  \n5129           8.336857    0.000000  ",
      "text/html": "<div>\n<style scoped>\n    .dataframe tbody tr th:only-of-type {\n        vertical-align: middle;\n    }\n\n    .dataframe tbody tr th {\n        vertical-align: top;\n    }\n\n    .dataframe thead th {\n        text-align: right;\n    }\n</style>\n<table border=\"1\" class=\"dataframe\">\n  <thead>\n    <tr style=\"text-align: right;\">\n      <th></th>\n      <th>id</th>\n      <th>title</th>\n      <th>genre</th>\n      <th>release_date</th>\n      <th>weighted_average</th>\n      <th>similarity</th>\n    </tr>\n  </thead>\n  <tbody>\n    <tr>\n      <th>23227</th>\n      <td>m_68721</td>\n      <td>아이언맨 3</td>\n      <td>액션, 모험, SF,</td>\n      <td>2013-04-18</td>\n      <td>6.828599</td>\n      <td>1.000000</td>\n    </tr>\n    <tr>\n      <th>90</th>\n      <td>m_10138</td>\n      <td>아이언맨 2</td>\n      <td>모험, 액션, SF,</td>\n      <td>2010-04-28</td>\n      <td>6.726282</td>\n      <td>1.000000</td>\n    </tr>\n    <tr>\n      <th>31863</th>\n      <td>t_61739</td>\n      <td>아이언맨</td>\n      <td>드라마, Sci-Fi &amp; Fantasy,</td>\n      <td>2014-09-10</td>\n      <td>4.956187</td>\n      <td>1.000000</td>\n    </tr>\n    <tr>\n      <th>4838</th>\n      <td>m_230896</td>\n      <td>아이언맨 &amp; 헐크</td>\n      <td>액션, 모험, 애니메이션, 가족,</td>\n      <td>2013-12-03</td>\n      <td>5.070492</td>\n      <td>0.577350</td>\n    </tr>\n    <tr>\n      <th>6811</th>\n      <td>m_284274</td>\n      <td>아이언맨 &amp; 캡틴아메리카 히어로즈 유나이티드</td>\n      <td>모험, 애니메이션, 액션,</td>\n      <td>2014-07-29</td>\n      <td>5.118355</td>\n      <td>0.377964</td>\n    </tr>\n    <tr>\n      <th>2971</th>\n      <td>m_169934</td>\n      <td>아이언맨: 라이즈 오브 테크노보어</td>\n      <td>SF, 애니메이션, 액션,</td>\n      <td>2013-04-24</td>\n      <td>5.075400</td>\n      <td>0.377964</td>\n    </tr>\n    <tr>\n      <th>21100</th>\n      <td>m_635802</td>\n      <td>일론 머스크: 리얼 아이언맨</td>\n      <td>다큐멘터리,</td>\n      <td>2018-12-04</td>\n      <td>4.949679</td>\n      <td>0.377964</td>\n    </tr>\n    <tr>\n      <th>6594</th>\n      <td>m_278</td>\n      <td>쇼생크 탈출</td>\n      <td>드라마, 범죄,</td>\n      <td>1994-09-23</td>\n      <td>8.573413</td>\n      <td>0.000000</td>\n    </tr>\n    <tr>\n      <th>5077</th>\n      <td>m_238</td>\n      <td>대부</td>\n      <td>드라마, 범죄,</td>\n      <td>1972-03-14</td>\n      <td>8.532297</td>\n      <td>0.000000</td>\n    </tr>\n    <tr>\n      <th>30247</th>\n      <td>t_1396</td>\n      <td>브레이킹 배드</td>\n      <td>드라마,</td>\n      <td>2008-01-20</td>\n      <td>8.489807</td>\n      <td>0.000000</td>\n    </tr>\n    <tr>\n      <th>2463</th>\n      <td>m_155</td>\n      <td>다크 나이트</td>\n      <td>드라마, 액션, 범죄, 스릴러,</td>\n      <td>2008-07-14</td>\n      <td>8.406362</td>\n      <td>0.000000</td>\n    </tr>\n    <tr>\n      <th>32590</th>\n      <td>t_69050</td>\n      <td>리버데일</td>\n      <td>범죄, 드라마, 미스터리,</td>\n      <td>2017-01-26</td>\n      <td>8.400115</td>\n      <td>0.000000</td>\n    </tr>\n    <tr>\n      <th>12147</th>\n      <td>m_424</td>\n      <td>쉰들러 리스트</td>\n      <td>드라마, 역사, 전쟁,</td>\n      <td>1993-11-30</td>\n      <td>8.398114</td>\n      <td>0.000000</td>\n    </tr>\n    <tr>\n      <th>31729</th>\n      <td>t_60625</td>\n      <td>릭 앤 모티</td>\n      <td>애니메이션, 코미디, Sci-Fi &amp; Fantasy, Action &amp; Adventu...</td>\n      <td>2013-12-02</td>\n      <td>8.395665</td>\n      <td>0.000000</td>\n    </tr>\n    <tr>\n      <th>23041</th>\n      <td>m_680</td>\n      <td>펄프 픽션</td>\n      <td>스릴러, 범죄,</td>\n      <td>1994-09-10</td>\n      <td>8.389796</td>\n      <td>0.000000</td>\n    </tr>\n    <tr>\n      <th>1478</th>\n      <td>m_13</td>\n      <td>포레스트 검프</td>\n      <td>코미디, 드라마, 로맨스,</td>\n      <td>1994-07-06</td>\n      <td>8.387228</td>\n      <td>0.000000</td>\n    </tr>\n    <tr>\n      <th>33143</th>\n      <td>t_75006</td>\n      <td>엄브렐러 아카데미</td>\n      <td>Action &amp; Adventure, Sci-Fi &amp; Fantasy, 드라마,</td>\n      <td>2019-02-15</td>\n      <td>8.376773</td>\n      <td>0.000000</td>\n    </tr>\n    <tr>\n      <th>1196</th>\n      <td>m_122</td>\n      <td>반지의 제왕: 왕의 귀환</td>\n      <td>모험, 판타지, 액션,</td>\n      <td>2003-12-01</td>\n      <td>8.369521</td>\n      <td>0.000000</td>\n    </tr>\n    <tr>\n      <th>32358</th>\n      <td>t_66732</td>\n      <td>기묘한 이야기</td>\n      <td>드라마, 미스터리, Sci-Fi &amp; Fantasy,</td>\n      <td>2016-07-15</td>\n      <td>8.342046</td>\n      <td>0.000000</td>\n    </tr>\n    <tr>\n      <th>5129</th>\n      <td>m_240</td>\n      <td>대부 2</td>\n      <td>드라마, 범죄,</td>\n      <td>1974-12-20</td>\n      <td>8.336857</td>\n      <td>0.000000</td>\n    </tr>\n  </tbody>\n</table>\n</div>"
     },
     "execution_count": 16,
     "metadata": {},
     "output_type": "execute_result"
    }
   ],
   "source": [
    "# 영화 '아이언맨' 으로 제목 유사도 기반 테스트\n",
    "similar_title_contents2 = find_similar_contents(contents_df, title_similarity, 'm_1726', top_n=20)\n",
    "similar_title_contents2[['id', 'title', 'genre', 'release_date', 'weighted_average', 'similarity']]"
   ],
   "metadata": {
    "collapsed": false,
    "pycharm": {
     "name": "#%%\n"
    }
   }
  },
  {
   "cell_type": "code",
   "execution_count": 17,
   "outputs": [],
   "source": [
    "gnt_similarity += title_similarity"
   ],
   "metadata": {
    "collapsed": false,
    "pycharm": {
     "name": "#%%\n"
    }
   }
  },
  {
   "cell_type": "code",
   "execution_count": 18,
   "outputs": [],
   "source": [
    "del title_similarity"
   ],
   "metadata": {
    "collapsed": false,
    "pycharm": {
     "name": "#%%\n"
    }
   }
  },
  {
   "cell_type": "code",
   "execution_count": 19,
   "outputs": [],
   "source": [
    "del title_matrix"
   ],
   "metadata": {
    "collapsed": false,
    "pycharm": {
     "name": "#%%\n"
    }
   }
  },
  {
   "cell_type": "code",
   "execution_count": 19,
   "outputs": [],
   "source": [],
   "metadata": {
    "collapsed": false,
    "pycharm": {
     "name": "#%%\n"
    }
   }
  },
  {
   "cell_type": "markdown",
   "source": [
    "# 장르 유사도 + 제목 유사도 파일 저장"
   ],
   "metadata": {
    "collapsed": false
   }
  },
  {
   "cell_type": "code",
   "execution_count": 20,
   "outputs": [
    {
     "data": {
      "text/plain": "array([2.       , 0.       , 0.1490712, ..., 0.       , 0.       ,\n       0.       ])"
     },
     "execution_count": 20,
     "metadata": {},
     "output_type": "execute_result"
    }
   ],
   "source": [
    "# Save Pickle, gzip으로 압축하여 저장\n",
    "with gzip.open(\"gnt_sim.pickle\", \"wb\") as fw:\n",
    "    pickle.dump(gnt_similarity, fw)\n",
    "\n",
    "gnt_similarity[0]"
   ],
   "metadata": {
    "collapsed": false,
    "pycharm": {
     "name": "#%%\n"
    }
   }
  },
  {
   "cell_type": "code",
   "execution_count": 21,
   "outputs": [],
   "source": [
    "del gnt_similarity"
   ],
   "metadata": {
    "collapsed": false,
    "pycharm": {
     "name": "#%%\n"
    }
   }
  },
  {
   "cell_type": "code",
   "execution_count": null,
   "outputs": [],
   "source": [],
   "metadata": {
    "collapsed": false,
    "pycharm": {
     "name": "#%%\n"
    }
   }
  },
  {
   "cell_type": "markdown",
   "id": "72f736d9",
   "metadata": {},
   "source": [
    "# Overview 유사도 측정 (-> 추천 척도로 적합하지 않다고 판단됨)"
   ]
  },
  {
   "cell_type": "code",
   "execution_count": 30,
   "id": "98bca08c",
   "metadata": {},
   "outputs": [
    {
     "data": {
      "text/plain": [
       "<35396x1179421 sparse matrix of type '<class 'numpy.int64'>'\n",
       "\twith 2234162 stored elements in Compressed Sparse Row format>"
      ]
     },
     "execution_count": 30,
     "metadata": {},
     "output_type": "execute_result"
    }
   ],
   "source": [
    "# CountVectorizer\n",
    "overview_matrix = count_vector.fit_transform(contents_df['overview'])\n",
    "\n",
    "overview_matrix"
   ]
  },
  {
   "cell_type": "code",
   "execution_count": 31,
   "id": "a72f1996",
   "metadata": {},
   "outputs": [
    {
     "data": {
      "text/plain": [
       "array([1.        , 0.        , 0.01145291, ..., 0.        , 0.00909429,\n",
       "       0.        ])"
      ]
     },
     "execution_count": 31,
     "metadata": {},
     "output_type": "execute_result"
    }
   ],
   "source": [
    "# Cosine Similarity\n",
    "overview_similarity = cosine_similarity(overview_matrix, overview_matrix)\n",
    "\n",
    "overview_similarity[0]"
   ]
  },
  {
   "cell_type": "code",
   "execution_count": 32,
   "id": "71ccc582",
   "metadata": {
    "scrolled": true
   },
   "outputs": [
    {
     "data": {
      "text/html": [
       "<div>\n",
       "<style scoped>\n",
       "    .dataframe tbody tr th:only-of-type {\n",
       "        vertical-align: middle;\n",
       "    }\n",
       "\n",
       "    .dataframe tbody tr th {\n",
       "        vertical-align: top;\n",
       "    }\n",
       "\n",
       "    .dataframe thead th {\n",
       "        text-align: right;\n",
       "    }\n",
       "</style>\n",
       "<table border=\"1\" class=\"dataframe\">\n",
       "  <thead>\n",
       "    <tr style=\"text-align: right;\">\n",
       "      <th></th>\n",
       "      <th>id</th>\n",
       "      <th>title</th>\n",
       "      <th>genre</th>\n",
       "      <th>release_date</th>\n",
       "      <th>weighted_average</th>\n",
       "      <th>similarity</th>\n",
       "    </tr>\n",
       "  </thead>\n",
       "  <tbody>\n",
       "    <tr>\n",
       "      <th>18249</th>\n",
       "      <td>m_561974</td>\n",
       "      <td>점박이 한반도의 공룡 2: 새로운 낙원</td>\n",
       "      <td>애니메이션, 모험,</td>\n",
       "      <td>2019-12-25</td>\n",
       "      <td>5.278670</td>\n",
       "      <td>0.088549</td>\n",
       "    </tr>\n",
       "    <tr>\n",
       "      <th>5364</th>\n",
       "      <td>m_24833</td>\n",
       "      <td>산타 버디즈</td>\n",
       "      <td>가족, 모험,</td>\n",
       "      <td>2009-10-22</td>\n",
       "      <td>5.126027</td>\n",
       "      <td>0.088283</td>\n",
       "    </tr>\n",
       "    <tr>\n",
       "      <th>14205</th>\n",
       "      <td>m_466081</td>\n",
       "      <td>비밀정보원: 인 더 프리즌</td>\n",
       "      <td>드라마, 범죄, 스릴러,</td>\n",
       "      <td>2019-08-30</td>\n",
       "      <td>5.621045</td>\n",
       "      <td>0.087118</td>\n",
       "    </tr>\n",
       "    <tr>\n",
       "      <th>20235</th>\n",
       "      <td>m_612701</td>\n",
       "      <td>프랑켄슈타인의 괴물의 괴물, 프랑켄슈타인</td>\n",
       "      <td>코미디,</td>\n",
       "      <td>2019-07-16</td>\n",
       "      <td>5.019687</td>\n",
       "      <td>0.081923</td>\n",
       "    </tr>\n",
       "    <tr>\n",
       "      <th>14997</th>\n",
       "      <td>m_484889</td>\n",
       "      <td>라이즈 오브 더 풋솔져 3</td>\n",
       "      <td>액션, 범죄, 드라마, 스릴러,</td>\n",
       "      <td>2017-11-03</td>\n",
       "      <td>4.993888</td>\n",
       "      <td>0.080301</td>\n",
       "    </tr>\n",
       "    <tr>\n",
       "      <th>34449</th>\n",
       "      <td>t_88775</td>\n",
       "      <td>양키</td>\n",
       "      <td>범죄, 드라마,</td>\n",
       "      <td>2019-06-14</td>\n",
       "      <td>4.960981</td>\n",
       "      <td>0.074959</td>\n",
       "    </tr>\n",
       "    <tr>\n",
       "      <th>1644</th>\n",
       "      <td>m_134411</td>\n",
       "      <td>스니치</td>\n",
       "      <td>스릴러, 드라마, 액션,</td>\n",
       "      <td>2013-02-21</td>\n",
       "      <td>5.719189</td>\n",
       "      <td>0.074476</td>\n",
       "    </tr>\n",
       "    <tr>\n",
       "      <th>29608</th>\n",
       "      <td>t_130523</td>\n",
       "      <td>더 크루: 갱랜드</td>\n",
       "      <td>범죄, Action &amp; Adventure,</td>\n",
       "      <td>2021-09-24</td>\n",
       "      <td>5.182359</td>\n",
       "      <td>0.071698</td>\n",
       "    </tr>\n",
       "    <tr>\n",
       "      <th>32891</th>\n",
       "      <td>t_72339</td>\n",
       "      <td>해피</td>\n",
       "      <td>Sci-Fi &amp; Fantasy, 코미디,</td>\n",
       "      <td>2017-12-06</td>\n",
       "      <td>5.613193</td>\n",
       "      <td>0.069238</td>\n",
       "    </tr>\n",
       "    <tr>\n",
       "      <th>11543</th>\n",
       "      <td>m_412361</td>\n",
       "      <td>니트로 러쉬</td>\n",
       "      <td>액션,</td>\n",
       "      <td>2016-08-31</td>\n",
       "      <td>4.967003</td>\n",
       "      <td>0.067028</td>\n",
       "    </tr>\n",
       "    <tr>\n",
       "      <th>15553</th>\n",
       "      <td>m_497370</td>\n",
       "      <td>마약왕</td>\n",
       "      <td>범죄, 액션, 드라마,</td>\n",
       "      <td>2018-12-19</td>\n",
       "      <td>5.081278</td>\n",
       "      <td>0.064969</td>\n",
       "    </tr>\n",
       "    <tr>\n",
       "      <th>17914</th>\n",
       "      <td>m_552390</td>\n",
       "      <td>저주의 산뗏</td>\n",
       "      <td>공포,</td>\n",
       "      <td>2018-10-04</td>\n",
       "      <td>4.956775</td>\n",
       "      <td>0.063959</td>\n",
       "    </tr>\n",
       "    <tr>\n",
       "      <th>109</th>\n",
       "      <td>m_101569</td>\n",
       "      <td>화장실, 어디에요?</td>\n",
       "      <td>드라마,</td>\n",
       "      <td>2002-11-29</td>\n",
       "      <td>4.945339</td>\n",
       "      <td>0.063858</td>\n",
       "    </tr>\n",
       "    <tr>\n",
       "      <th>21386</th>\n",
       "      <td>m_64340</td>\n",
       "      <td>마녀의 사랑법</td>\n",
       "      <td>모험, 코미디, 판타지, 로맨스,</td>\n",
       "      <td>1997-03-19</td>\n",
       "      <td>4.975621</td>\n",
       "      <td>0.063817</td>\n",
       "    </tr>\n",
       "    <tr>\n",
       "      <th>1496</th>\n",
       "      <td>m_13054</td>\n",
       "      <td>라이즈 오브 더 풋솔져</td>\n",
       "      <td>액션, 모험, 범죄, 드라마, 스릴러,</td>\n",
       "      <td>2007-09-07</td>\n",
       "      <td>5.206715</td>\n",
       "      <td>0.063718</td>\n",
       "    </tr>\n",
       "    <tr>\n",
       "      <th>7437</th>\n",
       "      <td>m_30018</td>\n",
       "      <td>마더</td>\n",
       "      <td>범죄, 드라마, 미스터리, 스릴러,</td>\n",
       "      <td>2009-05-28</td>\n",
       "      <td>6.577926</td>\n",
       "      <td>0.063394</td>\n",
       "    </tr>\n",
       "    <tr>\n",
       "      <th>5622</th>\n",
       "      <td>m_255343</td>\n",
       "      <td>파라다이스 로스트: 마약 카르텔의 왕</td>\n",
       "      <td>스릴러, 로맨스,</td>\n",
       "      <td>2014-10-11</td>\n",
       "      <td>5.590671</td>\n",
       "      <td>0.062775</td>\n",
       "    </tr>\n",
       "    <tr>\n",
       "      <th>21655</th>\n",
       "      <td>m_649401</td>\n",
       "      <td>인피델</td>\n",
       "      <td>스릴러,</td>\n",
       "      <td>2019-11-08</td>\n",
       "      <td>4.987473</td>\n",
       "      <td>0.062775</td>\n",
       "    </tr>\n",
       "    <tr>\n",
       "      <th>21473</th>\n",
       "      <td>m_646150</td>\n",
       "      <td>악셀러레이션</td>\n",
       "      <td>액션,</td>\n",
       "      <td>2019-11-08</td>\n",
       "      <td>4.974890</td>\n",
       "      <td>0.062206</td>\n",
       "    </tr>\n",
       "    <tr>\n",
       "      <th>7291</th>\n",
       "      <td>m_296641</td>\n",
       "      <td>둠스데이: 지구 최후의 전쟁</td>\n",
       "      <td>SF, 가족, 모험,</td>\n",
       "      <td>2014-09-12</td>\n",
       "      <td>4.939158</td>\n",
       "      <td>0.061482</td>\n",
       "    </tr>\n",
       "  </tbody>\n",
       "</table>\n",
       "</div>"
      ],
      "text/plain": [
       "             id                   title                     genre  \\\n",
       "18249  m_561974   점박이 한반도의 공룡 2: 새로운 낙원               애니메이션, 모험,    \n",
       "5364    m_24833                  산타 버디즈                  가족, 모험,    \n",
       "14205  m_466081          비밀정보원: 인 더 프리즌            드라마, 범죄, 스릴러,    \n",
       "20235  m_612701  프랑켄슈타인의 괴물의 괴물, 프랑켄슈타인                     코미디,    \n",
       "14997  m_484889          라이즈 오브 더 풋솔져 3        액션, 범죄, 드라마, 스릴러,    \n",
       "34449   t_88775                      양키                 범죄, 드라마,    \n",
       "1644   m_134411                     스니치            스릴러, 드라마, 액션,    \n",
       "29608  t_130523               더 크루: 갱랜드  범죄, Action & Adventure,    \n",
       "32891   t_72339                      해피   Sci-Fi & Fantasy, 코미디,    \n",
       "11543  m_412361                  니트로 러쉬                      액션,    \n",
       "15553  m_497370                     마약왕             범죄, 액션, 드라마,    \n",
       "17914  m_552390                  저주의 산뗏                      공포,    \n",
       "109    m_101569              화장실, 어디에요?                     드라마,    \n",
       "21386   m_64340                 마녀의 사랑법       모험, 코미디, 판타지, 로맨스,    \n",
       "1496    m_13054            라이즈 오브 더 풋솔져    액션, 모험, 범죄, 드라마, 스릴러,    \n",
       "7437    m_30018                      마더      범죄, 드라마, 미스터리, 스릴러,    \n",
       "5622   m_255343    파라다이스 로스트: 마약 카르텔의 왕                스릴러, 로맨스,    \n",
       "21655  m_649401                     인피델                     스릴러,    \n",
       "21473  m_646150                  악셀러레이션                      액션,    \n",
       "7291   m_296641         둠스데이: 지구 최후의 전쟁              SF, 가족, 모험,    \n",
       "\n",
       "      release_date  weighted_average  similarity  \n",
       "18249   2019-12-25          5.278670    0.088549  \n",
       "5364    2009-10-22          5.126027    0.088283  \n",
       "14205   2019-08-30          5.621045    0.087118  \n",
       "20235   2019-07-16          5.019687    0.081923  \n",
       "14997   2017-11-03          4.993888    0.080301  \n",
       "34449   2019-06-14          4.960981    0.074959  \n",
       "1644    2013-02-21          5.719189    0.074476  \n",
       "29608   2021-09-24          5.182359    0.071698  \n",
       "32891   2017-12-06          5.613193    0.069238  \n",
       "11543   2016-08-31          4.967003    0.067028  \n",
       "15553   2018-12-19          5.081278    0.064969  \n",
       "17914   2018-10-04          4.956775    0.063959  \n",
       "109     2002-11-29          4.945339    0.063858  \n",
       "21386   1997-03-19          4.975621    0.063817  \n",
       "1496    2007-09-07          5.206715    0.063718  \n",
       "7437    2009-05-28          6.577926    0.063394  \n",
       "5622    2014-10-11          5.590671    0.062775  \n",
       "21655   2019-11-08          4.987473    0.062775  \n",
       "21473   2019-11-08          4.974890    0.062206  \n",
       "7291    2014-09-12          4.939158    0.061482  "
      ]
     },
     "execution_count": 32,
     "metadata": {},
     "output_type": "execute_result"
    }
   ],
   "source": [
    "# 영화 '대부' 로 제목 유사도 기반 테스트\n",
    "similar_overview_contents1 = find_similar_contents(contents_df, overview_similarity, 'm_238', top_n=20)\n",
    "similar_overview_contents1[['id', 'title', 'genre', 'release_date', 'weighted_average', 'similarity']]"
   ]
  },
  {
   "cell_type": "code",
   "execution_count": 33,
   "id": "61819602",
   "metadata": {
    "scrolled": true
   },
   "outputs": [
    {
     "data": {
      "text/html": [
       "<div>\n",
       "<style scoped>\n",
       "    .dataframe tbody tr th:only-of-type {\n",
       "        vertical-align: middle;\n",
       "    }\n",
       "\n",
       "    .dataframe tbody tr th {\n",
       "        vertical-align: top;\n",
       "    }\n",
       "\n",
       "    .dataframe thead th {\n",
       "        text-align: right;\n",
       "    }\n",
       "</style>\n",
       "<table border=\"1\" class=\"dataframe\">\n",
       "  <thead>\n",
       "    <tr style=\"text-align: right;\">\n",
       "      <th></th>\n",
       "      <th>id</th>\n",
       "      <th>title</th>\n",
       "      <th>genre</th>\n",
       "      <th>release_date</th>\n",
       "      <th>weighted_average</th>\n",
       "      <th>similarity</th>\n",
       "    </tr>\n",
       "  </thead>\n",
       "  <tbody>\n",
       "    <tr>\n",
       "      <th>90</th>\n",
       "      <td>m_10138</td>\n",
       "      <td>아이언맨 2</td>\n",
       "      <td>모험, 액션, SF,</td>\n",
       "      <td>2010-04-28</td>\n",
       "      <td>6.726282</td>\n",
       "      <td>0.196145</td>\n",
       "    </tr>\n",
       "    <tr>\n",
       "      <th>34300</th>\n",
       "      <td>t_87194</td>\n",
       "      <td>스페셜</td>\n",
       "      <td>코미디,</td>\n",
       "      <td>2019-04-12</td>\n",
       "      <td>5.002301</td>\n",
       "      <td>0.099945</td>\n",
       "    </tr>\n",
       "    <tr>\n",
       "      <th>28913</th>\n",
       "      <td>t_1154</td>\n",
       "      <td>초전자 바이오맨</td>\n",
       "      <td>Sci-Fi &amp; Fantasy, Action &amp; Adventure,</td>\n",
       "      <td>1984-02-04</td>\n",
       "      <td>4.948022</td>\n",
       "      <td>0.094597</td>\n",
       "    </tr>\n",
       "    <tr>\n",
       "      <th>31572</th>\n",
       "      <td>t_52883</td>\n",
       "      <td>전용</td>\n",
       "      <td>Action &amp; Adventure, 애니메이션, 코미디,</td>\n",
       "      <td>2013-01-09</td>\n",
       "      <td>4.955441</td>\n",
       "      <td>0.090886</td>\n",
       "    </tr>\n",
       "    <tr>\n",
       "      <th>856</th>\n",
       "      <td>m_11485</td>\n",
       "      <td>돈을 갖고 튀어라</td>\n",
       "      <td>코미디, 범죄,</td>\n",
       "      <td>1969-08-18</td>\n",
       "      <td>5.964000</td>\n",
       "      <td>0.083071</td>\n",
       "    </tr>\n",
       "    <tr>\n",
       "      <th>20500</th>\n",
       "      <td>m_619263</td>\n",
       "      <td>더 웨이브</td>\n",
       "      <td>SF,</td>\n",
       "      <td>2019-09-21</td>\n",
       "      <td>5.035940</td>\n",
       "      <td>0.081517</td>\n",
       "    </tr>\n",
       "    <tr>\n",
       "      <th>13391</th>\n",
       "      <td>m_449985</td>\n",
       "      <td>트리플 스렛</td>\n",
       "      <td>스릴러, 액션,</td>\n",
       "      <td>2019-03-19</td>\n",
       "      <td>5.510834</td>\n",
       "      <td>0.078899</td>\n",
       "    </tr>\n",
       "    <tr>\n",
       "      <th>13014</th>\n",
       "      <td>m_44115</td>\n",
       "      <td>127 시간</td>\n",
       "      <td>모험, 드라마, 스릴러,</td>\n",
       "      <td>2010-11-12</td>\n",
       "      <td>6.876409</td>\n",
       "      <td>0.077559</td>\n",
       "    </tr>\n",
       "    <tr>\n",
       "      <th>3711</th>\n",
       "      <td>m_19426</td>\n",
       "      <td>카비리아의 밤</td>\n",
       "      <td>드라마,</td>\n",
       "      <td>1957-10-03</td>\n",
       "      <td>6.273752</td>\n",
       "      <td>0.076991</td>\n",
       "    </tr>\n",
       "    <tr>\n",
       "      <th>12312</th>\n",
       "      <td>m_42738</td>\n",
       "      <td>스콜피오</td>\n",
       "      <td>액션, 드라마, 스릴러,</td>\n",
       "      <td>1973-04-11</td>\n",
       "      <td>5.068502</td>\n",
       "      <td>0.076064</td>\n",
       "    </tr>\n",
       "    <tr>\n",
       "      <th>14119</th>\n",
       "      <td>m_464140</td>\n",
       "      <td>모크샤</td>\n",
       "      <td></td>\n",
       "      <td>None</td>\n",
       "      <td>4.945112</td>\n",
       "      <td>0.074980</td>\n",
       "    </tr>\n",
       "    <tr>\n",
       "      <th>24382</th>\n",
       "      <td>m_733461</td>\n",
       "      <td>나르시스의 죽음</td>\n",
       "      <td>다큐멘터리,</td>\n",
       "      <td>2019-01-01</td>\n",
       "      <td>4.945112</td>\n",
       "      <td>0.074476</td>\n",
       "    </tr>\n",
       "    <tr>\n",
       "      <th>16440</th>\n",
       "      <td>m_514759</td>\n",
       "      <td>황야의 늙은 총잡이</td>\n",
       "      <td>서부,</td>\n",
       "      <td>2018-03-16</td>\n",
       "      <td>4.979004</td>\n",
       "      <td>0.074314</td>\n",
       "    </tr>\n",
       "    <tr>\n",
       "      <th>14285</th>\n",
       "      <td>m_46777</td>\n",
       "      <td>여인상 기둥 이야기</td>\n",
       "      <td>다큐멘터리, TV 영화,</td>\n",
       "      <td>1984-01-01</td>\n",
       "      <td>4.977027</td>\n",
       "      <td>0.074102</td>\n",
       "    </tr>\n",
       "    <tr>\n",
       "      <th>34413</th>\n",
       "      <td>t_88233</td>\n",
       "      <td>철의 형사</td>\n",
       "      <td>드라마,</td>\n",
       "      <td>2019-04-01</td>\n",
       "      <td>4.956298</td>\n",
       "      <td>0.073424</td>\n",
       "    </tr>\n",
       "    <tr>\n",
       "      <th>1160</th>\n",
       "      <td>m_12143</td>\n",
       "      <td>배드 캅</td>\n",
       "      <td>범죄, 드라마,</td>\n",
       "      <td>1992-09-16</td>\n",
       "      <td>5.936457</td>\n",
       "      <td>0.072632</td>\n",
       "    </tr>\n",
       "    <tr>\n",
       "      <th>2176</th>\n",
       "      <td>m_146239</td>\n",
       "      <td>딜리버리 맨</td>\n",
       "      <td>코미디,</td>\n",
       "      <td>2013-10-10</td>\n",
       "      <td>5.728439</td>\n",
       "      <td>0.071938</td>\n",
       "    </tr>\n",
       "    <tr>\n",
       "      <th>27347</th>\n",
       "      <td>m_911978</td>\n",
       "      <td>대황해왕 승풍파랑</td>\n",
       "      <td>판타지, 모험,</td>\n",
       "      <td>2021-12-04</td>\n",
       "      <td>4.943807</td>\n",
       "      <td>0.071938</td>\n",
       "    </tr>\n",
       "    <tr>\n",
       "      <th>29727</th>\n",
       "      <td>t_133152</td>\n",
       "      <td>작은 트랙터 오티스와 달려보자!</td>\n",
       "      <td>애니메이션, Kids,</td>\n",
       "      <td>2021-10-08</td>\n",
       "      <td>5.014119</td>\n",
       "      <td>0.071508</td>\n",
       "    </tr>\n",
       "    <tr>\n",
       "      <th>13720</th>\n",
       "      <td>m_45610</td>\n",
       "      <td>머신건 프리처</td>\n",
       "      <td>액션, 스릴러, 범죄,</td>\n",
       "      <td>2011-09-23</td>\n",
       "      <td>5.861412</td>\n",
       "      <td>0.071133</td>\n",
       "    </tr>\n",
       "  </tbody>\n",
       "</table>\n",
       "</div>"
      ],
      "text/plain": [
       "             id              title                                   genre  \\\n",
       "90      m_10138             아이언맨 2                            모험, 액션, SF,    \n",
       "34300   t_87194                스페셜                                   코미디,    \n",
       "28913    t_1154           초전자 바이오맨  Sci-Fi & Fantasy, Action & Adventure,    \n",
       "31572   t_52883                 전용        Action & Adventure, 애니메이션, 코미디,    \n",
       "856     m_11485          돈을 갖고 튀어라                               코미디, 범죄,    \n",
       "20500  m_619263              더 웨이브                                    SF,    \n",
       "13391  m_449985             트리플 스렛                               스릴러, 액션,    \n",
       "13014   m_44115             127 시간                          모험, 드라마, 스릴러,    \n",
       "3711    m_19426            카비리아의 밤                                   드라마,    \n",
       "12312   m_42738               스콜피오                          액션, 드라마, 스릴러,    \n",
       "14119  m_464140                모크샤                                           \n",
       "24382  m_733461           나르시스의 죽음                                 다큐멘터리,    \n",
       "16440  m_514759         황야의 늙은 총잡이                                    서부,    \n",
       "14285   m_46777         여인상 기둥 이야기                          다큐멘터리, TV 영화,    \n",
       "34413   t_88233              철의 형사                                   드라마,    \n",
       "1160    m_12143               배드 캅                               범죄, 드라마,    \n",
       "2176   m_146239             딜리버리 맨                                   코미디,    \n",
       "27347  m_911978          대황해왕 승풍파랑                               판타지, 모험,    \n",
       "29727  t_133152  작은 트랙터 오티스와 달려보자!                           애니메이션, Kids,    \n",
       "13720   m_45610            머신건 프리처                           액션, 스릴러, 범죄,    \n",
       "\n",
       "      release_date  weighted_average  similarity  \n",
       "90      2010-04-28          6.726282    0.196145  \n",
       "34300   2019-04-12          5.002301    0.099945  \n",
       "28913   1984-02-04          4.948022    0.094597  \n",
       "31572   2013-01-09          4.955441    0.090886  \n",
       "856     1969-08-18          5.964000    0.083071  \n",
       "20500   2019-09-21          5.035940    0.081517  \n",
       "13391   2019-03-19          5.510834    0.078899  \n",
       "13014   2010-11-12          6.876409    0.077559  \n",
       "3711    1957-10-03          6.273752    0.076991  \n",
       "12312   1973-04-11          5.068502    0.076064  \n",
       "14119         None          4.945112    0.074980  \n",
       "24382   2019-01-01          4.945112    0.074476  \n",
       "16440   2018-03-16          4.979004    0.074314  \n",
       "14285   1984-01-01          4.977027    0.074102  \n",
       "34413   2019-04-01          4.956298    0.073424  \n",
       "1160    1992-09-16          5.936457    0.072632  \n",
       "2176    2013-10-10          5.728439    0.071938  \n",
       "27347   2021-12-04          4.943807    0.071938  \n",
       "29727   2021-10-08          5.014119    0.071508  \n",
       "13720   2011-09-23          5.861412    0.071133  "
      ]
     },
     "execution_count": 33,
     "metadata": {},
     "output_type": "execute_result"
    }
   ],
   "source": [
    "# 영화 '아이언맨' 으로 제목 유사도 기반 테스트\n",
    "similar_overview_contents2 = find_similar_contents(contents_df, overview_similarity, 'm_1726', top_n=20)\n",
    "similar_overview_contents2[['id', 'title', 'genre', 'release_date', 'weighted_average', 'similarity']]"
   ]
  },
  {
   "cell_type": "code",
   "execution_count": 34,
   "id": "00620140",
   "metadata": {},
   "outputs": [],
   "source": [
    "del overview_similarity"
   ]
  },
  {
   "cell_type": "code",
   "execution_count": 35,
   "id": "244e641a",
   "metadata": {},
   "outputs": [],
   "source": [
    "del overview_matrix"
   ]
  },
  {
   "cell_type": "markdown",
   "id": "e5583e0c",
   "metadata": {},
   "source": [
    "# Release Date 유사도 측정 (-> 추천 척도로 적합하지 않다고 판단됨)"
   ]
  },
  {
   "cell_type": "code",
   "execution_count": 21,
   "id": "64ac32c9",
   "metadata": {},
   "outputs": [
    {
     "data": {
      "text/plain": [
       "pandas.core.series.Series"
      ]
     },
     "execution_count": 21,
     "metadata": {},
     "output_type": "execute_result"
    }
   ],
   "source": [
    "# release_date to str\n",
    "dates = pd.to_datetime(contents_df['release_date'])\n",
    "release_date = dates.dt.strftime('%Y-%m-%d')\n",
    "\n",
    "type(release_date)"
   ]
  },
  {
   "cell_type": "code",
   "execution_count": 23,
   "id": "61c68710",
   "metadata": {},
   "outputs": [],
   "source": [
    "release_date = release_date.fillna('0')"
   ]
  },
  {
   "cell_type": "code",
   "execution_count": 24,
   "id": "66a5d47c",
   "metadata": {},
   "outputs": [
    {
     "data": {
      "text/plain": [
       "<35396x1661 sparse matrix of type '<class 'numpy.int64'>'\n",
       "\twith 171320 stored elements in Compressed Sparse Row format>"
      ]
     },
     "execution_count": 24,
     "metadata": {},
     "output_type": "execute_result"
    }
   ],
   "source": [
    "# CountVectorizer\n",
    "date_matrix = count_vector.fit_transform(release_date)\n",
    "\n",
    "date_matrix"
   ]
  },
  {
   "cell_type": "code",
   "execution_count": 25,
   "id": "db0a0b1a",
   "metadata": {},
   "outputs": [
    {
     "data": {
      "text/plain": [
       "array([1. , 0. , 0. , ..., 0.2, 0. , 0. ])"
      ]
     },
     "execution_count": 25,
     "metadata": {},
     "output_type": "execute_result"
    }
   ],
   "source": [
    "# Cosine Similarity\n",
    "date_similarity = cosine_similarity(date_matrix, date_matrix)\n",
    "\n",
    "date_similarity[0]"
   ]
  },
  {
   "cell_type": "code",
   "execution_count": 26,
   "id": "eda6d9cd",
   "metadata": {
    "scrolled": true
   },
   "outputs": [
    {
     "data": {
      "text/html": [
       "<div>\n",
       "<style scoped>\n",
       "    .dataframe tbody tr th:only-of-type {\n",
       "        vertical-align: middle;\n",
       "    }\n",
       "\n",
       "    .dataframe tbody tr th {\n",
       "        vertical-align: top;\n",
       "    }\n",
       "\n",
       "    .dataframe thead th {\n",
       "        text-align: right;\n",
       "    }\n",
       "</style>\n",
       "<table border=\"1\" class=\"dataframe\">\n",
       "  <thead>\n",
       "    <tr style=\"text-align: right;\">\n",
       "      <th></th>\n",
       "      <th>id</th>\n",
       "      <th>title</th>\n",
       "      <th>genre</th>\n",
       "      <th>release_date</th>\n",
       "      <th>weighted_average</th>\n",
       "      <th>similarity</th>\n",
       "    </tr>\n",
       "  </thead>\n",
       "  <tbody>\n",
       "    <tr>\n",
       "      <th>17045</th>\n",
       "      <td>m_527641</td>\n",
       "      <td>파이브 피트</td>\n",
       "      <td>로맨스, 드라마,</td>\n",
       "      <td>2019-03-14</td>\n",
       "      <td>7.850318</td>\n",
       "      <td>0.6</td>\n",
       "    </tr>\n",
       "    <tr>\n",
       "      <th>3776</th>\n",
       "      <td>m_197</td>\n",
       "      <td>브레이브하트</td>\n",
       "      <td>액션, 드라마, 역사, 전쟁,</td>\n",
       "      <td>1995-03-14</td>\n",
       "      <td>7.657587</td>\n",
       "      <td>0.6</td>\n",
       "    </tr>\n",
       "    <tr>\n",
       "      <th>30636</th>\n",
       "      <td>t_16997</td>\n",
       "      <td>퍼시픽</td>\n",
       "      <td>드라마, Action &amp; Adventure, War &amp; Politics,</td>\n",
       "      <td>2010-03-14</td>\n",
       "      <td>6.909610</td>\n",
       "      <td>0.6</td>\n",
       "    </tr>\n",
       "    <tr>\n",
       "      <th>26615</th>\n",
       "      <td>m_853</td>\n",
       "      <td>에너미 앳 더 게이트</td>\n",
       "      <td>드라마, 전쟁, 역사,</td>\n",
       "      <td>2001-03-14</td>\n",
       "      <td>6.886583</td>\n",
       "      <td>0.6</td>\n",
       "    </tr>\n",
       "    <tr>\n",
       "      <th>2539</th>\n",
       "      <td>m_157350</td>\n",
       "      <td>다이버전트</td>\n",
       "      <td>액션, 모험, SF,</td>\n",
       "      <td>2014-03-14</td>\n",
       "      <td>6.780100</td>\n",
       "      <td>0.6</td>\n",
       "    </tr>\n",
       "    <tr>\n",
       "      <th>13846</th>\n",
       "      <td>m_458723</td>\n",
       "      <td>어스</td>\n",
       "      <td>공포, 스릴러, 미스터리,</td>\n",
       "      <td>2019-03-14</td>\n",
       "      <td>6.766071</td>\n",
       "      <td>0.6</td>\n",
       "    </tr>\n",
       "    <tr>\n",
       "      <th>19445</th>\n",
       "      <td>m_593</td>\n",
       "      <td>솔라리스</td>\n",
       "      <td>드라마, SF, 미스터리,</td>\n",
       "      <td>1972-03-20</td>\n",
       "      <td>6.765436</td>\n",
       "      <td>0.6</td>\n",
       "    </tr>\n",
       "    <tr>\n",
       "      <th>21505</th>\n",
       "      <td>m_64688</td>\n",
       "      <td>21 점프 스트리트</td>\n",
       "      <td>액션, 코미디, 범죄,</td>\n",
       "      <td>2012-03-14</td>\n",
       "      <td>6.750134</td>\n",
       "      <td>0.6</td>\n",
       "    </tr>\n",
       "    <tr>\n",
       "      <th>14630</th>\n",
       "      <td>m_476299</td>\n",
       "      <td>베스와 베라</td>\n",
       "      <td>공포, 미스터리, 스릴러,</td>\n",
       "      <td>2018-03-14</td>\n",
       "      <td>6.700952</td>\n",
       "      <td>0.6</td>\n",
       "    </tr>\n",
       "    <tr>\n",
       "      <th>11746</th>\n",
       "      <td>m_416144</td>\n",
       "      <td>호텔 뭄바이</td>\n",
       "      <td>스릴러, 역사, 드라마, 액션,</td>\n",
       "      <td>2019-03-14</td>\n",
       "      <td>6.568020</td>\n",
       "      <td>0.6</td>\n",
       "    </tr>\n",
       "    <tr>\n",
       "      <th>2574</th>\n",
       "      <td>m_158011</td>\n",
       "      <td>더 콜</td>\n",
       "      <td>범죄, 스릴러,</td>\n",
       "      <td>2013-03-14</td>\n",
       "      <td>6.375875</td>\n",
       "      <td>0.6</td>\n",
       "    </tr>\n",
       "    <tr>\n",
       "      <th>973</th>\n",
       "      <td>m_11713</td>\n",
       "      <td>정무문</td>\n",
       "      <td>드라마, 액션, 스릴러,</td>\n",
       "      <td>1972-03-22</td>\n",
       "      <td>6.070698</td>\n",
       "      <td>0.6</td>\n",
       "    </tr>\n",
       "    <tr>\n",
       "      <th>27742</th>\n",
       "      <td>m_9486</td>\n",
       "      <td>쟈니 잉글리쉬</td>\n",
       "      <td>모험, 액션, 코미디,</td>\n",
       "      <td>2003-03-14</td>\n",
       "      <td>5.936025</td>\n",
       "      <td>0.6</td>\n",
       "    </tr>\n",
       "    <tr>\n",
       "      <th>387</th>\n",
       "      <td>m_10654</td>\n",
       "      <td>헤어</td>\n",
       "      <td>코미디, 드라마, 음악, 로맨스, 전쟁,</td>\n",
       "      <td>1979-03-14</td>\n",
       "      <td>5.892906</td>\n",
       "      <td>0.6</td>\n",
       "    </tr>\n",
       "    <tr>\n",
       "      <th>27892</th>\n",
       "      <td>m_97370</td>\n",
       "      <td>언더 더 스킨</td>\n",
       "      <td>스릴러, SF, 드라마,</td>\n",
       "      <td>2014-03-14</td>\n",
       "      <td>5.858186</td>\n",
       "      <td>0.6</td>\n",
       "    </tr>\n",
       "    <tr>\n",
       "      <th>13840</th>\n",
       "      <td>m_458534</td>\n",
       "      <td>롤링 투 유</td>\n",
       "      <td>코미디, 로맨스,</td>\n",
       "      <td>2018-03-14</td>\n",
       "      <td>5.723455</td>\n",
       "      <td>0.6</td>\n",
       "    </tr>\n",
       "    <tr>\n",
       "      <th>5020</th>\n",
       "      <td>m_236737</td>\n",
       "      <td>스패니쉬 어페어</td>\n",
       "      <td>코미디, 로맨스,</td>\n",
       "      <td>2014-03-14</td>\n",
       "      <td>5.684160</td>\n",
       "      <td>0.6</td>\n",
       "    </tr>\n",
       "    <tr>\n",
       "      <th>15623</th>\n",
       "      <td>m_499028</td>\n",
       "      <td>지금 만나러 갑니다</td>\n",
       "      <td>로맨스, 드라마,</td>\n",
       "      <td>2018-03-14</td>\n",
       "      <td>5.491964</td>\n",
       "      <td>0.6</td>\n",
       "    </tr>\n",
       "    <tr>\n",
       "      <th>1650</th>\n",
       "      <td>m_13460</td>\n",
       "      <td>둠스데이: 지구 최후의 날</td>\n",
       "      <td>액션, 스릴러, SF,</td>\n",
       "      <td>2008-03-14</td>\n",
       "      <td>5.478263</td>\n",
       "      <td>0.6</td>\n",
       "    </tr>\n",
       "    <tr>\n",
       "      <th>8372</th>\n",
       "      <td>m_32574</td>\n",
       "      <td>존 도우를 찾아서</td>\n",
       "      <td>코미디, 드라마, 로맨스,</td>\n",
       "      <td>1941-03-14</td>\n",
       "      <td>5.399004</td>\n",
       "      <td>0.6</td>\n",
       "    </tr>\n",
       "  </tbody>\n",
       "</table>\n",
       "</div>"
      ],
      "text/plain": [
       "             id           title                                      genre  \\\n",
       "17045  m_527641          파이브 피트                                 로맨스, 드라마,    \n",
       "3776      m_197          브레이브하트                          액션, 드라마, 역사, 전쟁,    \n",
       "30636   t_16997             퍼시픽  드라마, Action & Adventure, War & Politics,    \n",
       "26615     m_853     에너미 앳 더 게이트                              드라마, 전쟁, 역사,    \n",
       "2539   m_157350           다이버전트                               액션, 모험, SF,    \n",
       "13846  m_458723              어스                            공포, 스릴러, 미스터리,    \n",
       "19445     m_593            솔라리스                            드라마, SF, 미스터리,    \n",
       "21505   m_64688      21 점프 스트리트                              액션, 코미디, 범죄,    \n",
       "14630  m_476299          베스와 베라                            공포, 미스터리, 스릴러,    \n",
       "11746  m_416144          호텔 뭄바이                         스릴러, 역사, 드라마, 액션,    \n",
       "2574   m_158011             더 콜                                  범죄, 스릴러,    \n",
       "973     m_11713             정무문                             드라마, 액션, 스릴러,    \n",
       "27742    m_9486         쟈니 잉글리쉬                              모험, 액션, 코미디,    \n",
       "387     m_10654              헤어                    코미디, 드라마, 음악, 로맨스, 전쟁,    \n",
       "27892   m_97370         언더 더 스킨                             스릴러, SF, 드라마,    \n",
       "13840  m_458534          롤링 투 유                                 코미디, 로맨스,    \n",
       "5020   m_236737        스패니쉬 어페어                                 코미디, 로맨스,    \n",
       "15623  m_499028      지금 만나러 갑니다                                 로맨스, 드라마,    \n",
       "1650    m_13460  둠스데이: 지구 최후의 날                              액션, 스릴러, SF,    \n",
       "8372    m_32574       존 도우를 찾아서                            코미디, 드라마, 로맨스,    \n",
       "\n",
       "      release_date  weighted_average  similarity  \n",
       "17045   2019-03-14          7.850318         0.6  \n",
       "3776    1995-03-14          7.657587         0.6  \n",
       "30636   2010-03-14          6.909610         0.6  \n",
       "26615   2001-03-14          6.886583         0.6  \n",
       "2539    2014-03-14          6.780100         0.6  \n",
       "13846   2019-03-14          6.766071         0.6  \n",
       "19445   1972-03-20          6.765436         0.6  \n",
       "21505   2012-03-14          6.750134         0.6  \n",
       "14630   2018-03-14          6.700952         0.6  \n",
       "11746   2019-03-14          6.568020         0.6  \n",
       "2574    2013-03-14          6.375875         0.6  \n",
       "973     1972-03-22          6.070698         0.6  \n",
       "27742   2003-03-14          5.936025         0.6  \n",
       "387     1979-03-14          5.892906         0.6  \n",
       "27892   2014-03-14          5.858186         0.6  \n",
       "13840   2018-03-14          5.723455         0.6  \n",
       "5020    2014-03-14          5.684160         0.6  \n",
       "15623   2018-03-14          5.491964         0.6  \n",
       "1650    2008-03-14          5.478263         0.6  \n",
       "8372    1941-03-14          5.399004         0.6  "
      ]
     },
     "execution_count": 26,
     "metadata": {},
     "output_type": "execute_result"
    }
   ],
   "source": [
    "# 영화 '대부' 로 Release Date 유사도 기반 테스트\n",
    "similar_date_contents1 = find_similar_contents(contents_df, date_similarity, 'm_238', top_n=20)\n",
    "similar_date_contents1[['id', 'title', 'genre', 'release_date', 'weighted_average', 'similarity']]"
   ]
  },
  {
   "cell_type": "code",
   "execution_count": 27,
   "id": "43c123a6",
   "metadata": {
    "scrolled": true
   },
   "outputs": [
    {
     "data": {
      "text/html": [
       "<div>\n",
       "<style scoped>\n",
       "    .dataframe tbody tr th:only-of-type {\n",
       "        vertical-align: middle;\n",
       "    }\n",
       "\n",
       "    .dataframe tbody tr th {\n",
       "        vertical-align: top;\n",
       "    }\n",
       "\n",
       "    .dataframe thead th {\n",
       "        text-align: right;\n",
       "    }\n",
       "</style>\n",
       "<table border=\"1\" class=\"dataframe\">\n",
       "  <thead>\n",
       "    <tr style=\"text-align: right;\">\n",
       "      <th></th>\n",
       "      <th>id</th>\n",
       "      <th>title</th>\n",
       "      <th>genre</th>\n",
       "      <th>release_date</th>\n",
       "      <th>weighted_average</th>\n",
       "      <th>similarity</th>\n",
       "    </tr>\n",
       "  </thead>\n",
       "  <tbody>\n",
       "    <tr>\n",
       "      <th>453</th>\n",
       "      <td>m_10761</td>\n",
       "      <td>남주기 아까운 그녀</td>\n",
       "      <td>코미디, 로맨스,</td>\n",
       "      <td>2008-04-30</td>\n",
       "      <td>5.895015</td>\n",
       "      <td>1.0</td>\n",
       "    </tr>\n",
       "    <tr>\n",
       "      <th>12141</th>\n",
       "      <td>m_42384</td>\n",
       "      <td>가루지기</td>\n",
       "      <td>코미디, 판타지, 드라마,</td>\n",
       "      <td>2008-04-30</td>\n",
       "      <td>4.981937</td>\n",
       "      <td>1.0</td>\n",
       "    </tr>\n",
       "    <tr>\n",
       "      <th>23379</th>\n",
       "      <td>m_69383</td>\n",
       "      <td>비스티 보이즈</td>\n",
       "      <td>코미디, 드라마,</td>\n",
       "      <td>2008-04-30</td>\n",
       "      <td>4.951392</td>\n",
       "      <td>1.0</td>\n",
       "    </tr>\n",
       "    <tr>\n",
       "      <th>370</th>\n",
       "      <td>m_10625</td>\n",
       "      <td>퀸카로 살아남는 법</td>\n",
       "      <td>코미디,</td>\n",
       "      <td>2004-04-30</td>\n",
       "      <td>6.989614</td>\n",
       "      <td>0.6</td>\n",
       "    </tr>\n",
       "    <tr>\n",
       "      <th>34229</th>\n",
       "      <td>t_86248</td>\n",
       "      <td>업로드</td>\n",
       "      <td>코미디, Sci-Fi &amp; Fantasy,</td>\n",
       "      <td>2020-04-30</td>\n",
       "      <td>6.582623</td>\n",
       "      <td>0.6</td>\n",
       "    </tr>\n",
       "    <tr>\n",
       "      <th>31440</th>\n",
       "      <td>t_46639</td>\n",
       "      <td>아메리칸 갓</td>\n",
       "      <td>드라마, 미스터리, Sci-Fi &amp; Fantasy,</td>\n",
       "      <td>2017-04-30</td>\n",
       "      <td>6.297329</td>\n",
       "      <td>0.6</td>\n",
       "    </tr>\n",
       "    <tr>\n",
       "      <th>22188</th>\n",
       "      <td>m_656563</td>\n",
       "      <td>리치 인 러브</td>\n",
       "      <td>코미디, 로맨스,</td>\n",
       "      <td>2020-04-30</td>\n",
       "      <td>6.131379</td>\n",
       "      <td>0.6</td>\n",
       "    </tr>\n",
       "    <tr>\n",
       "      <th>3067</th>\n",
       "      <td>m_1729</td>\n",
       "      <td>포비든 킹덤: 전설의 마스터를 찾아서</td>\n",
       "      <td>액션, 모험, 판타지,</td>\n",
       "      <td>2008-04-18</td>\n",
       "      <td>6.008560</td>\n",
       "      <td>0.6</td>\n",
       "    </tr>\n",
       "    <tr>\n",
       "      <th>1355</th>\n",
       "      <td>m_1266</td>\n",
       "      <td>스트리트 킹</td>\n",
       "      <td>액션, 범죄, 드라마, 스릴러,</td>\n",
       "      <td>2008-04-10</td>\n",
       "      <td>5.931573</td>\n",
       "      <td>0.6</td>\n",
       "    </tr>\n",
       "    <tr>\n",
       "      <th>4631</th>\n",
       "      <td>m_22536</td>\n",
       "      <td>박쥐</td>\n",
       "      <td>드라마, 공포, 스릴러,</td>\n",
       "      <td>2009-04-30</td>\n",
       "      <td>5.914320</td>\n",
       "      <td>0.6</td>\n",
       "    </tr>\n",
       "    <tr>\n",
       "      <th>317</th>\n",
       "      <td>m_10529</td>\n",
       "      <td>아웃랜더</td>\n",
       "      <td>판타지, 액션, SF,</td>\n",
       "      <td>2008-04-24</td>\n",
       "      <td>5.768617</td>\n",
       "      <td>0.6</td>\n",
       "    </tr>\n",
       "    <tr>\n",
       "      <th>53</th>\n",
       "      <td>m_10066</td>\n",
       "      <td>하우스 오브 왁스</td>\n",
       "      <td>공포, 드라마,</td>\n",
       "      <td>2005-04-30</td>\n",
       "      <td>5.672301</td>\n",
       "      <td>0.6</td>\n",
       "    </tr>\n",
       "    <tr>\n",
       "      <th>29091</th>\n",
       "      <td>t_119988</td>\n",
       "      <td>결백</td>\n",
       "      <td>범죄, 미스터리, 드라마,</td>\n",
       "      <td>2021-04-30</td>\n",
       "      <td>5.573372</td>\n",
       "      <td>0.6</td>\n",
       "    </tr>\n",
       "    <tr>\n",
       "      <th>25908</th>\n",
       "      <td>m_811367</td>\n",
       "      <td>22 vs 지구</td>\n",
       "      <td>가족, 코미디, 판타지, 애니메이션,</td>\n",
       "      <td>2021-04-30</td>\n",
       "      <td>5.526279</td>\n",
       "      <td>0.6</td>\n",
       "    </tr>\n",
       "    <tr>\n",
       "      <th>305</th>\n",
       "      <td>m_10503</td>\n",
       "      <td>해피 고 럭키</td>\n",
       "      <td>코미디, 드라마,</td>\n",
       "      <td>2008-04-18</td>\n",
       "      <td>5.459405</td>\n",
       "      <td>0.6</td>\n",
       "    </tr>\n",
       "    <tr>\n",
       "      <th>19812</th>\n",
       "      <td>m_602147</td>\n",
       "      <td>인헤리턴스</td>\n",
       "      <td>스릴러,</td>\n",
       "      <td>2020-04-30</td>\n",
       "      <td>5.459138</td>\n",
       "      <td>0.6</td>\n",
       "    </tr>\n",
       "    <tr>\n",
       "      <th>672</th>\n",
       "      <td>m_11152</td>\n",
       "      <td>루인스</td>\n",
       "      <td>공포,</td>\n",
       "      <td>2008-04-02</td>\n",
       "      <td>5.457446</td>\n",
       "      <td>0.6</td>\n",
       "    </tr>\n",
       "    <tr>\n",
       "      <th>5369</th>\n",
       "      <td>m_248574</td>\n",
       "      <td>킬러 인 하이스쿨</td>\n",
       "      <td>모험, 코미디, 액션, 로맨스,</td>\n",
       "      <td>2015-04-30</td>\n",
       "      <td>5.415141</td>\n",
       "      <td>0.6</td>\n",
       "    </tr>\n",
       "    <tr>\n",
       "      <th>3690</th>\n",
       "      <td>m_1936</td>\n",
       "      <td>돌아오지 않는 강</td>\n",
       "      <td>액션, 모험, 드라마, 음악, 로맨스, 서부,</td>\n",
       "      <td>1954-04-30</td>\n",
       "      <td>5.407095</td>\n",
       "      <td>0.6</td>\n",
       "    </tr>\n",
       "    <tr>\n",
       "      <th>22137</th>\n",
       "      <td>m_6552</td>\n",
       "      <td>크레이지 핸드</td>\n",
       "      <td>코미디, 공포, 판타지,</td>\n",
       "      <td>1999-04-30</td>\n",
       "      <td>5.403600</td>\n",
       "      <td>0.6</td>\n",
       "    </tr>\n",
       "  </tbody>\n",
       "</table>\n",
       "</div>"
      ],
      "text/plain": [
       "             id                 title                          genre  \\\n",
       "453     m_10761            남주기 아까운 그녀                     코미디, 로맨스,    \n",
       "12141   m_42384                  가루지기                코미디, 판타지, 드라마,    \n",
       "23379   m_69383               비스티 보이즈                     코미디, 드라마,    \n",
       "370     m_10625            퀸카로 살아남는 법                          코미디,    \n",
       "34229   t_86248                   업로드        코미디, Sci-Fi & Fantasy,    \n",
       "31440   t_46639                아메리칸 갓  드라마, 미스터리, Sci-Fi & Fantasy,    \n",
       "22188  m_656563               리치 인 러브                     코미디, 로맨스,    \n",
       "3067     m_1729  포비든 킹덤: 전설의 마스터를 찾아서                  액션, 모험, 판타지,    \n",
       "1355     m_1266                스트리트 킹             액션, 범죄, 드라마, 스릴러,    \n",
       "4631    m_22536                    박쥐                 드라마, 공포, 스릴러,    \n",
       "317     m_10529                  아웃랜더                  판타지, 액션, SF,    \n",
       "53      m_10066             하우스 오브 왁스                      공포, 드라마,    \n",
       "29091  t_119988                    결백                범죄, 미스터리, 드라마,    \n",
       "25908  m_811367              22 vs 지구          가족, 코미디, 판타지, 애니메이션,    \n",
       "305     m_10503               해피 고 럭키                     코미디, 드라마,    \n",
       "19812  m_602147                 인헤리턴스                          스릴러,    \n",
       "672     m_11152                   루인스                           공포,    \n",
       "5369   m_248574             킬러 인 하이스쿨             모험, 코미디, 액션, 로맨스,    \n",
       "3690     m_1936             돌아오지 않는 강     액션, 모험, 드라마, 음악, 로맨스, 서부,    \n",
       "22137    m_6552               크레이지 핸드                 코미디, 공포, 판타지,    \n",
       "\n",
       "      release_date  weighted_average  similarity  \n",
       "453     2008-04-30          5.895015         1.0  \n",
       "12141   2008-04-30          4.981937         1.0  \n",
       "23379   2008-04-30          4.951392         1.0  \n",
       "370     2004-04-30          6.989614         0.6  \n",
       "34229   2020-04-30          6.582623         0.6  \n",
       "31440   2017-04-30          6.297329         0.6  \n",
       "22188   2020-04-30          6.131379         0.6  \n",
       "3067    2008-04-18          6.008560         0.6  \n",
       "1355    2008-04-10          5.931573         0.6  \n",
       "4631    2009-04-30          5.914320         0.6  \n",
       "317     2008-04-24          5.768617         0.6  \n",
       "53      2005-04-30          5.672301         0.6  \n",
       "29091   2021-04-30          5.573372         0.6  \n",
       "25908   2021-04-30          5.526279         0.6  \n",
       "305     2008-04-18          5.459405         0.6  \n",
       "19812   2020-04-30          5.459138         0.6  \n",
       "672     2008-04-02          5.457446         0.6  \n",
       "5369    2015-04-30          5.415141         0.6  \n",
       "3690    1954-04-30          5.407095         0.6  \n",
       "22137   1999-04-30          5.403600         0.6  "
      ]
     },
     "execution_count": 27,
     "metadata": {},
     "output_type": "execute_result"
    }
   ],
   "source": [
    "# 영화 '아이언맨' 으로 Release Date 유사도 기반 테스트\n",
    "similar_date_contents2 = find_similar_contents(contents_df, date_similarity, 'm_1726', top_n=20)\n",
    "similar_date_contents2[['id', 'title', 'genre', 'release_date', 'weighted_average', 'similarity']]"
   ]
  },
  {
   "cell_type": "code",
   "execution_count": 28,
   "id": "749f9d96",
   "metadata": {},
   "outputs": [],
   "source": [
    "del date_similarity"
   ]
  },
  {
   "cell_type": "code",
   "execution_count": 29,
   "id": "a5b83b7e",
   "metadata": {},
   "outputs": [],
   "source": [
    "del date_matrix"
   ]
  },
  {
   "cell_type": "code",
   "execution_count": null,
   "id": "7583b151",
   "metadata": {},
   "outputs": [],
   "source": []
  }
 ],
 "metadata": {
  "kernelspec": {
   "display_name": "Python 3",
   "language": "python",
   "name": "python3"
  },
  "language_info": {
   "codemirror_mode": {
    "name": "ipython",
    "version": 3
   },
   "file_extension": ".py",
   "mimetype": "text/x-python",
   "name": "python",
   "nbconvert_exporter": "python",
   "pygments_lexer": "ipython3",
   "version": "3.8.8"
  }
 },
 "nbformat": 4,
 "nbformat_minor": 5
}