{
 "cells": [
  {
   "cell_type": "markdown",
   "metadata": {},
   "source": [
    "### Import"
   ]
  },
  {
   "cell_type": "code",
   "execution_count": 1,
   "metadata": {},
   "outputs": [],
   "source": [
    "#conda install -c conda-forge pyspark #conda pyspark 설치\n",
    "#기타 요청되는 패키지 참고 : https://spark.apache.org/docs/latest/api/python/getting_started/install.html"
   ]
  },
  {
   "cell_type": "code",
   "execution_count": 2,
   "metadata": {},
   "outputs": [],
   "source": [
    "import pandas as pd\n",
    "from pyspark.sql.functions import col, explode\n",
    "from pyspark import SparkContext"
   ]
  },
  {
   "cell_type": "markdown",
   "metadata": {},
   "source": [
    "### Init pyspark"
   ]
  },
  {
   "cell_type": "code",
   "execution_count": 3,
   "metadata": {},
   "outputs": [],
   "source": [
    "from pyspark.sql import SparkSession\n",
    "sc = SparkContext\n",
    "# sc.setCheckpointDir('checkpoint') -- Dir 경로 설정\n",
    "spark = SparkSession.builder.appName('Recommendations').getOrCreate()"
   ]
  },
  {
   "cell_type": "markdown",
   "metadata": {},
   "source": [
    "### Load data"
   ]
  },
  {
   "cell_type": "code",
   "execution_count": 4,
   "metadata": {},
   "outputs": [],
   "source": [
    "#https://grouplens.org/datasets/movielens/ 데이터 출처\n",
    "#추후에 우리 데이터에 적용\n",
    "movies = spark.read.csv(\"movies.csv\",header=True)\n",
    "ratings = spark.read.csv(\"ratings.csv\",header=True)"
   ]
  },
  {
   "cell_type": "code",
   "execution_count": 5,
   "metadata": {},
   "outputs": [
    {
     "name": "stdout",
     "output_type": "stream",
     "text": [
      "+------+-------+------+---------+\n",
      "|userId|movieId|rating|timestamp|\n",
      "+------+-------+------+---------+\n",
      "|     1|      1|   4.0|964982703|\n",
      "|     1|      3|   4.0|964981247|\n",
      "|     1|      6|   4.0|964982224|\n",
      "|     1|     47|   5.0|964983815|\n",
      "|     1|     50|   5.0|964982931|\n",
      "|     1|     70|   3.0|964982400|\n",
      "|     1|    101|   5.0|964980868|\n",
      "|     1|    110|   4.0|964982176|\n",
      "|     1|    151|   5.0|964984041|\n",
      "|     1|    157|   5.0|964984100|\n",
      "|     1|    163|   5.0|964983650|\n",
      "|     1|    216|   5.0|964981208|\n",
      "|     1|    223|   3.0|964980985|\n",
      "|     1|    231|   5.0|964981179|\n",
      "|     1|    235|   4.0|964980908|\n",
      "|     1|    260|   5.0|964981680|\n",
      "|     1|    296|   3.0|964982967|\n",
      "|     1|    316|   3.0|964982310|\n",
      "|     1|    333|   5.0|964981179|\n",
      "|     1|    349|   4.0|964982563|\n",
      "+------+-------+------+---------+\n",
      "only showing top 20 rows\n",
      "\n"
     ]
    }
   ],
   "source": [
    "ratings.show()"
   ]
  },
  {
   "cell_type": "code",
   "execution_count": 6,
   "metadata": {},
   "outputs": [
    {
     "name": "stdout",
     "output_type": "stream",
     "text": [
      "root\n",
      " |-- userId: string (nullable = true)\n",
      " |-- movieId: string (nullable = true)\n",
      " |-- rating: string (nullable = true)\n",
      " |-- timestamp: string (nullable = true)\n",
      "\n"
     ]
    }
   ],
   "source": [
    "ratings.printSchema()"
   ]
  },
  {
   "cell_type": "code",
   "execution_count": 7,
   "metadata": {},
   "outputs": [
    {
     "name": "stdout",
     "output_type": "stream",
     "text": [
      "+------+-------+------+\n",
      "|userId|movieId|rating|\n",
      "+------+-------+------+\n",
      "|     1|      1|   4.0|\n",
      "|     1|      3|   4.0|\n",
      "|     1|      6|   4.0|\n",
      "|     1|     47|   5.0|\n",
      "|     1|     50|   5.0|\n",
      "|     1|     70|   3.0|\n",
      "|     1|    101|   5.0|\n",
      "|     1|    110|   4.0|\n",
      "|     1|    151|   5.0|\n",
      "|     1|    157|   5.0|\n",
      "|     1|    163|   5.0|\n",
      "|     1|    216|   5.0|\n",
      "|     1|    223|   3.0|\n",
      "|     1|    231|   5.0|\n",
      "|     1|    235|   4.0|\n",
      "|     1|    260|   5.0|\n",
      "|     1|    296|   3.0|\n",
      "|     1|    316|   3.0|\n",
      "|     1|    333|   5.0|\n",
      "|     1|    349|   4.0|\n",
      "+------+-------+------+\n",
      "only showing top 20 rows\n",
      "\n"
     ]
    }
   ],
   "source": [
    "ratings = ratings.\\\n",
    "    withColumn('userId', col('userId').cast('integer')).\\\n",
    "    withColumn('movieId', col('movieId').cast('integer')).\\\n",
    "    withColumn('rating', col('rating').cast('float')).\\\n",
    "    drop('timestamp')\n",
    "ratings.show()"
   ]
  },
  {
   "cell_type": "markdown",
   "metadata": {},
   "source": [
    "### Calculate sparsity"
   ]
  },
  {
   "cell_type": "code",
   "execution_count": 8,
   "metadata": {},
   "outputs": [
    {
     "name": "stdout",
     "output_type": "stream",
     "text": [
      "Rate Data Count : 100836\n",
      "User Data Count : 610\n",
      "Movie Data Count : 9724\n",
      "The ratings dataframe is  98.30% empty.\n"
     ]
    }
   ],
   "source": [
    "# rating 데이터 셋의 개수\n",
    "numerator = ratings.select(\"rating\").count()\n",
    "\n",
    "# 유저의 수와 영화의 수\n",
    "num_users = ratings.select(\"userId\").distinct().count()\n",
    "num_movies = ratings.select(\"movieId\").distinct().count()\n",
    "\n",
    "print(\"Rate Data Count : %d\" % numerator)\n",
    "print(\"User Data Count : %d\" % num_users)\n",
    "print(\"Movie Data Count : %d\" % num_movies)\n",
    "\n",
    "# 전체 발생 가능 데이터의 개수\n",
    "denominator = num_users * num_movies\n",
    "\n",
    "# 전체 발생 데이터 대비 현재 데이터 비율 계산\n",
    "sparsity = (1.0 - (numerator *1.0)/denominator)*100\n",
    "print(\"The ratings dataframe is \", \"%.2f\" % sparsity + \"% empty.\")"
   ]
  },
  {
   "cell_type": "markdown",
   "metadata": {},
   "source": [
    "### Interpret ratings"
   ]
  },
  {
   "cell_type": "code",
   "execution_count": 9,
   "metadata": {},
   "outputs": [
    {
     "name": "stdout",
     "output_type": "stream",
     "text": [
      "+------+-----+\n",
      "|userId|count|\n",
      "+------+-----+\n",
      "|   414| 2698|\n",
      "|   599| 2478|\n",
      "|   474| 2108|\n",
      "|   448| 1864|\n",
      "|   274| 1346|\n",
      "|   610| 1302|\n",
      "|    68| 1260|\n",
      "|   380| 1218|\n",
      "|   606| 1115|\n",
      "|   288| 1055|\n",
      "|   249| 1046|\n",
      "|   387| 1027|\n",
      "|   182|  977|\n",
      "|   307|  975|\n",
      "|   603|  943|\n",
      "|   298|  939|\n",
      "|   177|  904|\n",
      "|   318|  879|\n",
      "|   232|  862|\n",
      "|   480|  836|\n",
      "+------+-----+\n",
      "only showing top 20 rows\n",
      "\n"
     ]
    }
   ],
   "source": [
    "# 유저의 작성 리뷰 수\n",
    "userId_ratings = ratings.groupBy(\"userId\").count().orderBy('count', ascending=False)\n",
    "userId_ratings.show()"
   ]
  },
  {
   "cell_type": "code",
   "execution_count": 10,
   "metadata": {},
   "outputs": [
    {
     "name": "stdout",
     "output_type": "stream",
     "text": [
      "+-------+-----+\n",
      "|movieId|count|\n",
      "+-------+-----+\n",
      "|    356|  329|\n",
      "|    318|  317|\n",
      "|    296|  307|\n",
      "|    593|  279|\n",
      "|   2571|  278|\n",
      "|    260|  251|\n",
      "|    480|  238|\n",
      "|    110|  237|\n",
      "|    589|  224|\n",
      "|    527|  220|\n",
      "|   2959|  218|\n",
      "|      1|  215|\n",
      "|   1196|  211|\n",
      "|   2858|  204|\n",
      "|     50|  204|\n",
      "|     47|  203|\n",
      "|    780|  202|\n",
      "|    150|  201|\n",
      "|   1198|  200|\n",
      "|   4993|  198|\n",
      "+-------+-----+\n",
      "only showing top 20 rows\n",
      "\n"
     ]
    }
   ],
   "source": [
    "# 영화의 작성 리뷰 수\n",
    "movieId_ratings = ratings.groupBy(\"movieId\").count().orderBy('count', ascending=False)\n",
    "movieId_ratings.show()"
   ]
  },
  {
   "cell_type": "markdown",
   "metadata": {},
   "source": [
    "## ALS 모델링 및 측정"
   ]
  },
  {
   "cell_type": "code",
   "execution_count": 11,
   "metadata": {},
   "outputs": [],
   "source": [
    "# Import\n",
    "from pyspark.ml.evaluation import RegressionEvaluator\n",
    "from pyspark.ml.recommendation import ALS\n",
    "from pyspark.ml.tuning import ParamGridBuilder, CrossValidator"
   ]
  },
  {
   "cell_type": "code",
   "execution_count": 12,
   "metadata": {},
   "outputs": [
    {
     "data": {
      "text/plain": [
       "ALS_9ef9c2f1e846"
      ]
     },
     "execution_count": 12,
     "metadata": {},
     "output_type": "execute_result"
    }
   ],
   "source": [
    "# Test, Train 셋 나누기\n",
    "(train, test) = ratings.randomSplit([0.8, 0.2], seed = 2017152017)\n",
    "\n",
    "# ALS 모델링\n",
    "als = ALS(userCol=\"userId\", itemCol=\"movieId\", ratingCol=\"rating\", nonnegative = True, implicitPrefs = False, coldStartStrategy=\"drop\")\n",
    "als"
   ]
  },
  {
   "cell_type": "code",
   "execution_count": 13,
   "metadata": {},
   "outputs": [
    {
     "name": "stdout",
     "output_type": "stream",
     "text": [
      "테스트 모델 : 20개\n"
     ]
    }
   ],
   "source": [
    "# grid의 Hyperparam 조정(수시로 조정하며 비교해보자)\n",
    "#다수의 모델로 예측값을 근사화 하기 위함\n",
    "param_grid = ParamGridBuilder() \\\n",
    "    .addGrid(als.rank, [10, 50, 100, 150, 200]) \\\n",
    "    .addGrid(als.regParam, [.01, .05, .1, .15]) \\\n",
    "    .build()\n",
    "           \n",
    "# RMSE 유사도 측정하고 이를 기반으로 예측\n",
    "evaluator = RegressionEvaluator(metricName=\"rmse\", labelCol=\"rating\", predictionCol=\"prediction\") \n",
    "print(\"테스트 모델 : %d개\" %len(param_grid))"
   ]
  },
  {
   "cell_type": "code",
   "execution_count": 14,
   "metadata": {},
   "outputs": [
    {
     "name": "stdout",
     "output_type": "stream",
     "text": [
      "CrossValidator_a2fa1aedbd4f\n"
     ]
    }
   ],
   "source": [
    "# Cross validation\n",
    "cv = CrossValidator(estimator=als, estimatorParamMaps=param_grid, evaluator=evaluator, numFolds=5)\n",
    "print(cv)"
   ]
  },
  {
   "cell_type": "markdown",
   "metadata": {},
   "source": [
    "### 최적 모델 및 파라미터 찾기"
   ]
  },
  {
   "cell_type": "code",
   "execution_count": 15,
   "metadata": {},
   "outputs": [
    {
     "name": "stdout",
     "output_type": "stream",
     "text": [
      "ALSModel: uid=ALS_9ef9c2f1e846, rank=100\n",
      "Rank :  100\n",
      "MaxIter :  10\n",
      "RegParam :  0.15\n"
     ]
    }
   ],
   "source": [
    "#*************!!!주의!!! ML 라이브러리 모델링 연산 작업 오래 걸림 !!!!********\n",
    "\n",
    "# Cross Validation한 als모델로 학습(fitting)\n",
    "model = cv.fit(train)\n",
    "\n",
    "#최적 모델 확인(이 부분이 PySpark ML 가장 많이 의존하는 부분)\n",
    "bestmodel = model.bestModel\n",
    "print(bestmodel)\n",
    "\n",
    "#최적 모델 파라미터(Best Param)\n",
    "print(\"Rank : \", bestmodel._java_obj.parent().getRank())\n",
    "print(\"MaxIter : \", bestmodel._java_obj.parent().getMaxIter())\n",
    "print(\"RegParam : \", bestmodel._java_obj.parent().getRegParam())"
   ]
  },
  {
   "cell_type": "code",
   "execution_count": 16,
   "metadata": {},
   "outputs": [
    {
     "name": "stdout",
     "output_type": "stream",
     "text": [
      "0.8686309576639267\n"
     ]
    }
   ],
   "source": [
    "# 예측 평가 (RMSE 지표)\n",
    "test_predictions = bestmodel.transform(test)\n",
    "RMSE = evaluator.evaluate(test_predictions)\n",
    "print(RMSE)"
   ]
  },
  {
   "cell_type": "code",
   "execution_count": 17,
   "metadata": {},
   "outputs": [
    {
     "name": "stdout",
     "output_type": "stream",
     "text": [
      "+------+-------+------+----------+\n",
      "|userId|movieId|rating|prediction|\n",
      "+------+-------+------+----------+\n",
      "|   148|   1197|   3.0| 3.6441839|\n",
      "|   148|   4308|   4.0| 3.0203066|\n",
      "|   148|   4896|   4.0| 3.5293715|\n",
      "|   148|  54001|   4.0| 3.7257106|\n",
      "|   148|  69757|   3.5| 3.7190824|\n",
      "|   148|  79091|   3.5| 3.4855065|\n",
      "|   148|  88125|   4.0|  3.716111|\n",
      "|   148|  89745|   4.0|  3.399281|\n",
      "|   148|  98491|   5.0| 3.7802508|\n",
      "|   148| 122882|   4.0| 3.4872246|\n",
      "|   148| 152081|   4.0| 3.4503038|\n",
      "|   463|    552|   3.5|  3.242611|\n",
      "|   463|   1320|   4.0| 3.2979608|\n",
      "|   463|   2019|   4.0|   4.03903|\n",
      "|   463|   2167|   3.0| 3.5896523|\n",
      "|   463|   4310|   3.0| 3.1032002|\n",
      "|   463|   6377|   3.5| 3.9018312|\n",
      "|   471|   8961|   3.5|  3.502676|\n",
      "|   496|   1221|   4.0| 3.7824123|\n",
      "|   496|   5952|   4.0| 3.4276402|\n",
      "+------+-------+------+----------+\n",
      "only showing top 20 rows\n",
      "\n"
     ]
    }
   ],
   "source": [
    "test_predictions.show()"
   ]
  },
  {
   "cell_type": "markdown",
   "metadata": {},
   "source": [
    "## 추천"
   ]
  },
  {
   "cell_type": "code",
   "execution_count": 21,
   "metadata": {},
   "outputs": [
    {
     "name": "stdout",
     "output_type": "stream",
     "text": [
      "+------+--------------------+\n",
      "|userId|     recommendations|\n",
      "+------+--------------------+\n",
      "|     1|[{170355, 5.74559...|\n",
      "|     3|[{6835, 4.836563}...|\n",
      "|     5|[{132333, 4.65060...|\n",
      "|     6|[{33649, 4.733172...|\n",
      "|     9|[{3379, 4.9066386...|\n",
      "|    12|[{67618, 5.643062...|\n",
      "|    13|[{170355, 5.30369...|\n",
      "|    15|[{60943, 4.516289...|\n",
      "|    16|[{170355, 4.48317...|\n",
      "|    17|[{170355, 5.12963...|\n",
      "+------+--------------------+\n",
      "\n"
     ]
    }
   ],
   "source": [
    "#모든 유저에 대해서 추천 결과 출력\n",
    "#괄호의 인자는 추천할 갯수\n",
    "nrecommendations = bestmodel.recommendForAllUsers(10)\n",
    "\n",
    "#10명만 예시로 출력해봄\n",
    "nrecommendations.limit(10).show()"
   ]
  },
  {
   "cell_type": "code",
   "execution_count": 22,
   "metadata": {},
   "outputs": [
    {
     "name": "stdout",
     "output_type": "stream",
     "text": [
      "+------+-------+---------+\n",
      "|userId|movieId|   rating|\n",
      "+------+-------+---------+\n",
      "|     1| 170355| 5.745598|\n",
      "|     1|   3379| 5.745598|\n",
      "|     1|  33649| 5.732105|\n",
      "|     1|   7748| 5.616473|\n",
      "|     1|   5490|  5.56624|\n",
      "|     1| 132333|  5.56624|\n",
      "|     1|  27156|5.5360126|\n",
      "|     1| 171495|5.4380703|\n",
      "|     1|   7025|5.4303746|\n",
      "|     1|   5915|5.4272704|\n",
      "|     3|   6835| 4.836563|\n",
      "|     3|   5746| 4.836563|\n",
      "|     3|  70946|4.8259654|\n",
      "|     3|   5181|4.7189574|\n",
      "|     3|   5919| 4.715168|\n",
      "|     3|   4518|4.5783157|\n",
      "|     3|   2851| 4.563806|\n",
      "|     3|   5764| 4.352907|\n",
      "|     3|   7899| 4.352907|\n",
      "|     3|  26409| 4.180437|\n",
      "+------+-------+---------+\n",
      "\n"
     ]
    }
   ],
   "source": [
    "nrecommendations = nrecommendations.withColumn(\"rec_exp\", explode(\"recommendations\")).select('userId', col(\"rec_exp.movieId\"), col(\"rec_exp.rating\"))\n",
    "nrecommendations.limit(20).show()"
   ]
  },
  {
   "cell_type": "code",
   "execution_count": 36,
   "metadata": {},
   "outputs": [
    {
     "name": "stdout",
     "output_type": "stream",
     "text": [
      "** 유저 123 추천리스트 **\n",
      "+-------+------+---------+--------------------+--------------------+\n",
      "|movieId|userId|   rating|               title|              genres|\n",
      "+-------+------+---------+--------------------+--------------------+\n",
      "|  33649|   123|4.8141875|  Saving Face (2004)|Comedy|Drama|Romance|\n",
      "| 170355|   123|4.7753453|Mulholland Dr. (1...|Drama|Mystery|Rom...|\n",
      "|   3379|   123|4.7753453| On the Beach (1959)|               Drama|\n",
      "| 171495|   123| 4.636222|              Cosmos|  (no genres listed)|\n",
      "|  78836|   123|4.6148853|Enter the Void (2...|               Drama|\n",
      "| 134796|   123|4.6148853|  Bitter Lake (2015)|         Documentary|\n",
      "| 184245|   123|4.6148853|De platte jungle ...|         Documentary|\n",
      "|   7071|   123|4.6148853|Woman Under the I...|               Drama|\n",
      "| 138966|   123|4.6148853|Nasu: Summer in A...|           Animation|\n",
      "| 179135|   123|4.6148853|Blue Planet II (2...|         Documentary|\n",
      "+-------+------+---------+--------------------+--------------------+\n",
      "\n",
      "** 유저 123 평가기록 **\n",
      "+-------+------+------+--------------------+--------------------+\n",
      "|movieId|userId|rating|               title|              genres|\n",
      "+-------+------+------+--------------------+--------------------+\n",
      "|  68554|   123|   4.5|Angels & Demons (...|Crime|Drama|Myste...|\n",
      "| 115569|   123|   4.5| Nightcrawler (2014)|Crime|Drama|Thriller|\n",
      "|  76093|   123|   4.5|How to Train Your...|Adventure|Animati...|\n",
      "|    260|   123|   4.5|Star Wars: Episod...|Action|Adventure|...|\n",
      "|  80463|   123|   4.5|Social Network, T...|               Drama|\n",
      "|     47|   123|   4.5|Seven (a.k.a. Se7...|    Mystery|Thriller|\n",
      "|  85414|   123|   4.5|  Source Code (2011)|Action|Drama|Myst...|\n",
      "|  58803|   123|   4.5|           21 (2008)|Crime|Drama|Roman...|\n",
      "|  96829|   123|   4.5|Hunt, The (Jagten...|               Drama|\n",
      "|  99114|   123|   4.5|Django Unchained ...|Action|Drama|Western|\n",
      "+-------+------+------+--------------------+--------------------+\n",
      "\n"
     ]
    }
   ],
   "source": [
    "#한 유저에 대한 추천\n",
    "print(\"** 유저 123 추천리스트 **\")\n",
    "nrecommendations.join(movies, on='movieId').filter('userId = 123').show()\n",
    "print(\"** 유저 123 평가기록 **\")\n",
    "ratings.join(movies, on='movieId').filter('userId = 123').sort('rating', ascending=False).limit(10).show()"
   ]
  },
  {
   "cell_type": "code",
   "execution_count": 32,
   "metadata": {},
   "outputs": [
    {
     "name": "stdout",
     "output_type": "stream",
     "text": [
      "+-------+-----+\n",
      "|movieId|count|\n",
      "+-------+-----+\n",
      "|   1580|  165|\n",
      "|   2366|   25|\n",
      "|   3175|   75|\n",
      "|   1088|   42|\n",
      "|  32460|    4|\n",
      "|  44022|   23|\n",
      "|  96488|    4|\n",
      "|   1238|    9|\n",
      "|   1342|   11|\n",
      "|   1591|   26|\n",
      "|   1645|   51|\n",
      "|   4519|    9|\n",
      "|   2142|   10|\n",
      "|    471|   40|\n",
      "|   3997|   12|\n",
      "|    833|    6|\n",
      "|   3918|    9|\n",
      "|   7982|    4|\n",
      "|   1959|   15|\n",
      "|  68135|   10|\n",
      "+-------+-----+\n",
      "only showing top 20 rows\n",
      "\n"
     ]
    }
   ],
   "source": []
  }
 ],
 "metadata": {
  "kernelspec": {
   "display_name": "Python 3 (ipykernel)",
   "language": "python",
   "name": "python3"
  },
  "language_info": {
   "codemirror_mode": {
    "name": "ipython",
    "version": 3
   },
   "file_extension": ".py",
   "mimetype": "text/x-python",
   "name": "python",
   "nbconvert_exporter": "python",
   "pygments_lexer": "ipython3",
   "version": "3.9.7"
  }
 },
 "nbformat": 4,
 "nbformat_minor": 4
}
