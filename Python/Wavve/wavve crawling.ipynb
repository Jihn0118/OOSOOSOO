{
 "cells": [
  {
   "cell_type": "code",
   "execution_count": 28,
   "metadata": {},
   "outputs": [],
   "source": [
    "#Import\n",
    "import selenium\n",
    "import time\n",
    "\n",
    "from selenium import webdriver\n",
    "from selenium.webdriver import ActionChains\n",
    "\n",
    "from selenium.webdriver.common.keys import Keys\n",
    "from selenium.webdriver.common.by import By\n",
    "\n",
    "from selenium.webdriver.support import expected_conditions as EC\n",
    "from selenium.webdriver.support.ui import Select\n",
    "from selenium.webdriver.support.ui import WebDriverWait"
   ]
  },
  {
   "cell_type": "code",
   "execution_count": 29,
   "metadata": {},
   "outputs": [],
   "source": [
    "#Wavve 크롬 켜기\n",
    "URL = 'https://www.wavve.com/'\n",
    "\n",
    "driver = webdriver.Chrome(executable_path = 'chromedriver')\n",
    "driver.get(url=URL)\n",
    "time.sleep(1)\n",
    "driver.maximize_window()"
   ]
  },
  {
   "cell_type": "code",
   "execution_count": 30,
   "metadata": {},
   "outputs": [],
   "source": [
    "#팝업창 끄기\n",
    "posting = driver.find_element_by_xpath('//*[@id=\"contents\"]/div[1]/section/div[1]/a/img')\n",
    "posting.click()\n"
   ]
  },
  {
   "cell_type": "code",
   "execution_count": 31,
   "metadata": {},
   "outputs": [],
   "source": [
    "#로그인 화면\n",
    "login = driver.find_element_by_xpath('//*[@id=\"app\"]/div[1]/div[2]/header/div[1]/div[2]/div/ul/li[1]/a')\n",
    "login.click()"
   ]
  },
  {
   "cell_type": "code",
   "execution_count": 32,
   "metadata": {},
   "outputs": [],
   "source": [
    "#skt 로그인 화면\n",
    "driver.execute_script('window.scrollTo(0,600);')\n",
    "skt_login = driver.find_element_by_xpath('//*[@id=\"app\"]/div[1]/main/div/div[2]/div[2]/ul/li[2]/a/span[1]')\n",
    "skt_login.click()"
   ]
  },
  {
   "cell_type": "code",
   "execution_count": 33,
   "metadata": {},
   "outputs": [],
   "source": [
    "#로그인 액션체인\n",
    "id_box = driver.find_element_by_css_selector('#userId')\n",
    "passwd_box = driver.find_element_by_css_selector('#password')\n",
    "login_button = driver.find_element_by_css_selector('#content > div:nth-child(3) > div.content-bottom > div:nth-child(1)')\n",
    "\n",
    "login_act = ActionChains(driver)\n",
    "\n",
    "login_act.send_keys_to_element(id_box,'T멤버쉽 아이디').send_keys_to_element(passwd_box,'비밀번호').click(login_button).perform()\n",
    "time.sleep(2)"
   ]
  },
  {
   "cell_type": "code",
   "execution_count": 34,
   "metadata": {},
   "outputs": [],
   "source": [
    "#프로필 선택\n",
    "profile = driver.find_element_by_xpath('//*[@id=\"app\"]/div[1]/div/div[2]/div/div[1]/a[1]/div/img')\n",
    "profile.click()\n",
    "time.sleep(1)"
   ]
  },
  {
   "cell_type": "code",
   "execution_count": 35,
   "metadata": {},
   "outputs": [],
   "source": [
    "#시청중인 VOD 페이지 이동\n",
    "driver.get(url = 'https://www.wavve.com/my/use_list_vod_history')"
   ]
  },
  {
   "cell_type": "code",
   "execution_count": 36,
   "metadata": {},
   "outputs": [],
   "source": [
    "#VOD 페이지 수 \n",
    "driver.execute_script('window.scrollTo(0, document.body.scrollHeight);')\n",
    "vod_page = driver.find_elements_by_class_name('paging-type02')\n",
    "for i in vod_page:\n",
    "    page = i.text"
   ]
  },
  {
   "cell_type": "code",
   "execution_count": 37,
   "metadata": {
    "scrolled": true
   },
   "outputs": [
    {
     "name": "stdout",
     "output_type": "stream",
     "text": [
      "40회 심야괴담회\n",
      "203회 집사부일체\n",
      "1회 경찰수업\n",
      "10회 태종 이방원\n",
      "428회 나 혼자 산다\n",
      "121회 놀면 뭐하니?\n",
      "10회 엉클\n",
      "1 회 무한도전\n",
      "13회 꼬리에 꼬리를 무는 그날 이야기\n",
      "226회 어서와 한국은 처음이지?\n",
      "105회 두 번째 남편\n",
      "40회 심야괴담회\n",
      "203회 집사부일체\n",
      "1회 경찰수업\n",
      "10회 태종 이방원\n",
      "428회 나 혼자 산다\n",
      "121회 놀면 뭐하니?\n",
      "10회 엉클\n",
      "1 회 무한도전\n",
      "13회 꼬리에 꼬리를 무는 그날 이야기\n",
      "226회 어서와 한국은 처음이지?\n",
      "105회 두 번째 남편\n",
      "2회 트레이서\n",
      "9회 너의 밤이 되어줄게\n",
      "18회 고생 끝에 밥이 온다\n",
      "1회 혼돈의 첩보원\n",
      "1회 이렇게 된 이상 청와대로 간다\n",
      "2회 당신이 혹하는 사이 3\n",
      "8회 꽃 피면 달 생각하고\n",
      "587회 런닝맨\n",
      "10회 피의 게임\n",
      "7회 방과후 설렘\n"
     ]
    }
   ],
   "source": [
    "#시청중인 VOD 목록 출력\n",
    "for k in page:\n",
    "    watching_list_vod = driver.find_elements_by_class_name('con-tit')\n",
    "    for j in watching_list_vod:\n",
    "        vod = j.text\n",
    "        print(vod)\n",
    "    page_URL = 'https://www.wavve.com/my/use_list_vod_history?page=' + str(k)\n",
    "    driver.get(url=page_URL)\n",
    "    time.sleep(1)\n",
    "    "
   ]
  },
  {
   "cell_type": "code",
   "execution_count": 38,
   "metadata": {},
   "outputs": [],
   "source": [
    "#시청중인 영화 페이지 이동\n",
    "driver.get(url = 'https://www.wavve.com/my/use_list_movie_history')\n"
   ]
  },
  {
   "cell_type": "code",
   "execution_count": 39,
   "metadata": {},
   "outputs": [],
   "source": [
    "#시청중인 영화 페이지 수 \n",
    "driver.execute_script('window.scrollTo(0, document.body.scrollHeight);')\n",
    "watching_movie_page = driver.find_elements_by_class_name('paging-type02')\n",
    "for i in watching_movie_page:\n",
    "    page = i.text"
   ]
  },
  {
   "cell_type": "code",
   "execution_count": 40,
   "metadata": {},
   "outputs": [
    {
     "name": "stdout",
     "output_type": "stream",
     "text": [
      "바스켓볼 다이어리\n"
     ]
    }
   ],
   "source": [
    "#시청중인 영화 목록 출력\n",
    "for k in page:\n",
    "    watching_list_movie = driver.find_elements_by_class_name('con-tit')\n",
    "    for j in watching_list_movie:\n",
    "        movie = j.text\n",
    "        print(movie)\n",
    "    page_URL = 'https://www.wavve.com/my/use_list_movie_history?page=' + str(k)\n",
    "    driver.get(url=page_URL)\n",
    "    time.sleep(1)"
   ]
  },
  {
   "cell_type": "code",
   "execution_count": 41,
   "metadata": {},
   "outputs": [],
   "source": [
    "#찜한 영화 페이지 이동\n",
    "driver.get(url = 'https://www.wavve.com/my/like_movie')"
   ]
  },
  {
   "cell_type": "code",
   "execution_count": 42,
   "metadata": {},
   "outputs": [],
   "source": [
    "#찜한 영화 페이지 수\n",
    "driver.execute_script('window.scrollTo(0, document.body.scrollHeight);')\n",
    "jjim_page = driver.find_elements_by_class_name('paging-type02')\n",
    "for i in jjim_page:\n",
    "    page = i.text"
   ]
  },
  {
   "cell_type": "code",
   "execution_count": 43,
   "metadata": {},
   "outputs": [
    {
     "name": "stdout",
     "output_type": "stream",
     "text": [
      "검사외전\n",
      "늑대의 유혹\n",
      "남산의 부장들\n",
      "관상\n",
      "시월애\n",
      "용의자\n",
      "군도: 민란의 시대\n",
      "빅매치\n",
      "워리어스 웨이: 리마스터링\n",
      "파라독스\n",
      "(자막) 해리포터와 마법사의 돌\n",
      "(자막) 해리포터와 비밀의 방\n",
      "[극장판] 트레인 히어로\n",
      "[극장판] 뽀로로 공룡섬 대모험\n",
      "[극장판] (더빙) 포켓몬스터: 너로 정했다!\n",
      "슈렉 2\n",
      "(자막) 몬스터 랜드\n",
      "친구\n",
      "타짜: 원 아이드 잭\n",
      "어느날\n",
      "모범시민\n",
      "도쿄택시\n",
      "안경\n",
      "신세계\n",
      "[극장판] 드래곤볼 1기: 신룡의 전설\n",
      "배드 에듀케이션\n",
      "노팅 힐\n",
      "수색자\n",
      "포레스트 검프\n",
      "사랑의 레시피\n",
      "검사외전\n",
      "늑대의 유혹\n",
      "남산의 부장들\n",
      "관상\n",
      "시월애\n",
      "용의자\n",
      "군도: 민란의 시대\n",
      "빅매치\n",
      "워리어스 웨이: 리마스터링\n",
      "파라독스\n",
      "(자막) 해리포터와 마법사의 돌\n",
      "(자막) 해리포터와 비밀의 방\n",
      "[극장판] 트레인 히어로\n",
      "[극장판] 뽀로로 공룡섬 대모험\n",
      "[극장판] (더빙) 포켓몬스터: 너로 정했다!\n",
      "슈렉 2\n",
      "(자막) 몬스터 랜드\n",
      "친구\n",
      "타짜: 원 아이드 잭\n",
      "어느날\n",
      "모범시민\n",
      "도쿄택시\n",
      "안경\n",
      "신세계\n",
      "[극장판] 드래곤볼 1기: 신룡의 전설\n",
      "배드 에듀케이션\n",
      "노팅 힐\n",
      "수색자\n",
      "포레스트 검프\n",
      "사랑의 레시피\n"
     ]
    }
   ],
   "source": [
    "#찜한 영화 목록 출력\n",
    "for k in page:\n",
    "    wish_list_movie = driver.find_elements_by_class_name('con-tit')\n",
    "    for j in wish_list_movie:\n",
    "        wish_movie = j.text\n",
    "        print(wish_movie)\n",
    "    page_URL = 'https://www.wavve.com/my/like_movie?page=' + str(k)\n",
    "    driver.get(url=page_URL)\n",
    "    time.sleep(1)"
   ]
  },
  {
   "cell_type": "code",
   "execution_count": null,
   "metadata": {},
   "outputs": [],
   "source": []
  }
 ],
 "metadata": {
  "kernelspec": {
   "display_name": "Python 3",
   "language": "python",
   "name": "python3"
  },
  "language_info": {
   "codemirror_mode": {
    "name": "ipython",
    "version": 3
   },
   "file_extension": ".py",
   "mimetype": "text/x-python",
   "name": "python",
   "nbconvert_exporter": "python",
   "pygments_lexer": "ipython3",
   "version": "3.8.5"
  }
 },
 "nbformat": 4,
 "nbformat_minor": 4
}
